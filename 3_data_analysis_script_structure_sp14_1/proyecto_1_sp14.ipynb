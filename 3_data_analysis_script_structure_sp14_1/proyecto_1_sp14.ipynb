{
 "cells": [
  {
   "cell_type": "markdown",
   "metadata": {},
   "source": [
    "# **Proyecto: Telecomunicaciones: identificar operadores ineficaces**\n",
    "\n",
    "\n",
    "El servicio de telefonía virtual CallMeMaybe está desarrollando una nueva función que brindará a los supervisores y las supervisores información sobre los operadores menos eficaces. Se considera que un operador es ineficaz si tiene una gran cantidad de llamadas entrantes perdidas (internas y externas) y un tiempo de espera prolongado para las llamadas entrantes. Además, si se supone que un operador debe realizar llamadas salientes, un número reducido de ellas también será un signo de ineficacia."
   ]
  },
  {
   "cell_type": "markdown",
   "metadata": {},
   "source": [
    "\n",
    "\n",
    "Según la información contenida en [Proyecto Final: Telecomunicaciones: identificar operadores ineficaces](https://coding-bootcamps.notion.site/Proyecto-Final-Telecomunicaciones-identificar-operadores-ineficaces-6f04c12cd9934057a816065922ec5a60)\n",
    "\n",
    "Se tienen los siguientes datasets:\n",
    "\n",
    "\n",
    "El dataset comprimido **telecom_dataset_us**.csv contiene las siguientes columnas:\n",
    "\n",
    "- user_id: ID de la cuenta de cliente\n",
    "- date: fecha en la que se recuperaron las estadísticas\n",
    "- direction: \"dirección\" de llamada (out para saliente, in para entrante)\n",
    "- internal: si la llamada fue interna (entre los operadores de un cliente o clienta)\n",
    "- operator_id: identificador del operador\n",
    "- is_missed_call: si fue una llamada perdida\n",
    "- calls_count: número de llamadas\n",
    "- call_duration: duración de la llamada (sin incluir el tiempo de espera)\n",
    "- total_call_duration: duración de la llamada (incluido el tiempo de espera)\n",
    "\n",
    " \n",
    "\n",
    "El conjunto de datos **telecom_clients_us**.csv tiene las siguientes columnas:\n",
    "\n",
    "- user_id: ID de usuario/a\n",
    "- tariff_plan: tarifa actual de la clientela\n",
    "- date_start: fecha de registro de la clientela"
   ]
  },
  {
   "cell_type": "markdown",
   "metadata": {},
   "source": [
    "# **1 Definir el Objetivo**\n",
    "\n"
   ]
  },
  {
   "cell_type": "markdown",
   "metadata": {},
   "source": [
    "## **1.1 ¿Qué quieres conseguir y por qué?**\n",
    "\n",
    "**Objetivo:**\n",
    "En este caso, el objetivo principal es identificar a aquellos operadores que sean los menos eficaces en el servicio de telefonía virtual CallMeMaybe con el propósito de mejorar la eficiencia operativa y la calidad del servicio ofrecido a los clientes.\n",
    "\n",
    "**Justificación:**\n",
    "El propósito del objetivo va dirigido a optimizar el rendimiento de los operadores y garantizar una experiencia de calidad estandarizada a los usuarios finales. Al identificar a los operadores ineficaces se logrará proponer y ejecutar acciones correctivas en función a mejorar las habilidades/fortaleza y reforzar deficiencias/debilidades de los operadores. Proponer acciones como capacitación adicional, reestructuración de tareas o, si es necesario, reemplazar al operador.\n",
    "\n",
    "La mejora en la eficiencia reducirá las llamadas perdidas, disminuirá el tiempo de espera y aumentará la productividad de las llamadas salientes, mejorando así la satisfacción del cliente."
   ]
  },
  {
   "cell_type": "markdown",
   "metadata": {},
   "source": [
    "## **1.2 ¿A quién le interesa lo que produces?**\n",
    "\n",
    "- **Supervisores de operadores:** Son la primera capa de interés jerárquico en el proceso. Necesitan información para identificar a los operadores menos eficaces y tomar medidas correctivas y/o de retroalimentación al proceso.\n",
    "- **Gerentes de CallMeMaybe:** Interesados en mejorar la calidad del servicio y la satisfacción del cliente, además de optimizar la utilización del personal a su cargo.\n",
    "- **Clientes (organizaciones):** Se beneficiarán de un servicio más eficiente y una menor cantidad de llamadas perdidas o tiempos de espera prolongados.\n",
    "- **Operadores:** Al ser los directamente los implicados en el proceso de interacción con los clientes, una mejora en su rendimiento les ayudará a obtener mayor tranquilidad al saber que están haciendo bien su trabajo."
   ]
  },
  {
   "cell_type": "markdown",
   "metadata": {},
   "source": [
    "## **1.3¿Qué decisiones se tomarán de acuerdo a tu análisis?**\n",
    "\n",
    "- **Capacitación de operadores:** Identificar necesidades de capacitación para mejorar el desempeño de operadores ineficaces y de aquellos que estén haciendo bien su trabajo actualmente (ejemplos a seguir).\n",
    "- **Redistribución de tareas:** Ajustar la carga de trabajo y responsabilidades de los operadores para equilibrar la eficiencia operativa. Además de eliminar tareas que puedan resultar innecesarias.\n",
    "- **Revisión de procedimientos:** Implementar cambios en los procedimientos de manejo de llamadas para reducir los tiempos de espera y las llamadas perdidas.\n",
    "- **Evaluación de rendimiento:** Realizar evaluaciones periódicas del rendimiento de los operadores utilizando métricas clave para garantizar la mejora continua.\n",
    "- **Optimización del servicio:** Ajustar las estrategias operativas y los planes de acción para mejorar la eficiencia general del servicio de telefonía virtual.\n",
    "- **Retroalimentación del proceso:** Al establecer acciones de retroalimentación, se garantiza la vinculación de todos aquellos actores implicados en el proceso y que tengan la capacidad de establecer acciones propositivas, documentadas y de mejora continua que alimenten el proceso constantemente, indiferente de su posición jerárquica en la empresa.\n",
    "\n",
    "Con estos objetivos y decisiones en mente, podemos proceder a especificar los detalles y desarrollar un plan de acción claro para llevar a cabo el análisis."
   ]
  },
  {
   "cell_type": "markdown",
   "metadata": {},
   "source": [
    "# **2. Especificar los Detalles**"
   ]
  },
  {
   "cell_type": "markdown",
   "metadata": {},
   "source": [
    "## **2.1 Establecer el contexto del problema:**\n",
    "\n",
    "Los operadores de CallMeMaybe son considerados ineficaces si:\n",
    "- Tienen una gran cantidad de llamadas entrantes perdidas (internas y externas).\n",
    "- Tienen un tiempo de espera prolongado para las llamadas entrantes.\n",
    "- Tienen un número reducido de llamadas salientes, especialmente si se supone que deben realizar dichas llamadas."
   ]
  },
  {
   "cell_type": "markdown",
   "metadata": {},
   "source": [
    "## **2.2 Ineficacia: ¿Cómo definirla?**"
   ]
  },
  {
   "cell_type": "markdown",
   "metadata": {},
   "source": [
    "Para definir la ineficacia de los operadores, podemos establecer los siguientes parámetros y umbrales basados en las métricas clave:\n",
    "\n",
    "1. **Cantidad de llamadas entrantes perdidas (internas y externas):**\n",
    "   - **Umbral:** Un operador se consideraría ineficaz si su porcentaje de llamadas entrantes perdidas es superior al promedio general de llamadas entrantes perdidas más 1 desviación estándar.\n",
    "\n",
    "2. **Tiempo de espera prolongado para llamadas entrantes:**\n",
    "   - **Umbral:** Un operador se consideraría ineficaz si el tiempo de espera promedio para las llamadas entrantes es superior al promedio general del tiempo de espera promedio para llamadas entrantes más 1 desviación estándar.\n",
    "\n",
    "3. **Número reducido de llamadas salientes:**\n",
    "   - **Umbral:** Un operador se consideraría ineficaz si el número de llamadas salientes realizadas está por debajo del promedio general menos 1 desviación estándar, considerando eso sí, solo a aquellos operadores que tienen la tarea asignada de realizar llamadas salientes."
   ]
  },
  {
   "cell_type": "markdown",
   "metadata": {},
   "source": [
    "# **3. Etapa de Preprocesamiento**"
   ]
  },
  {
   "cell_type": "markdown",
   "metadata": {},
   "source": [
    "## **3.1 Información Preliminar y Significado de la información**"
   ]
  },
  {
   "cell_type": "markdown",
   "metadata": {},
   "source": [
    "Según la información contenida en [Proyecto Final: Telecomunicaciones: identificar operadores ineficaces](https://coding-bootcamps.notion.site/Proyecto-Final-Telecomunicaciones-identificar-operadores-ineficaces-6f04c12cd9934057a816065922ec5a60)\n",
    "\n",
    "Se tienen los siguientes datasets:\n",
    "\n",
    "\n",
    "El dataset comprimido **telecom_dataset_us**.csv contiene las siguientes columnas:\n",
    "\n",
    "- user_id: ID de la cuenta de cliente\n",
    "- date: fecha en la que se recuperaron las estadísticas\n",
    "- direction: \"dirección\" de llamada (out para saliente, in para entrante)\n",
    "- internal: si la llamada fue interna (entre los operadores de un cliente o clienta)\n",
    "- operator_id: identificador del operador\n",
    "- is_missed_call: si fue una llamada perdida\n",
    "- calls_count: número de llamadas\n",
    "- call_duration: duración de la llamada (sin incluir el tiempo de espera)\n",
    "- total_call_duration: duración de la llamada (incluido el tiempo de espera)\n",
    "\n",
    " \n",
    "\n",
    "El conjunto de datos **telecom_clients_us**.csv tiene las siguientes columnas:\n",
    "\n",
    "- user_id: ID de usuario/a\n",
    "- tariff_plan: tarifa actual de la clientela\n",
    "- date_start: fecha de registro de la clientela"
   ]
  },
  {
   "cell_type": "markdown",
   "metadata": {},
   "source": [
    "## **3.2 Importación de librerías:**"
   ]
  },
  {
   "cell_type": "markdown",
   "metadata": {},
   "source": [
    "Importante definir las librerías a utilizar según el caso del análisis que se requiera realizar. En este caso, **a manera de ejemplo** usaremos pandas para revisar de forma superficial la estructura de los datos contenidos en **telecom_dataset_us** y **telecom_clients_us**:"
   ]
  },
  {
   "cell_type": "code",
   "execution_count": 1,
   "metadata": {},
   "outputs": [],
   "source": [
    "# Importe de librería pandas para mostrar la información preliminar de los datasets (ejemplo):\n",
    "\n",
    "import pandas as pd"
   ]
  },
  {
   "cell_type": "markdown",
   "metadata": {},
   "source": [
    "## **3.3 Carga de datos y revisión preliminar de la estructura de los datos:**"
   ]
  },
  {
   "cell_type": "code",
   "execution_count": 10,
   "metadata": {},
   "outputs": [
    {
     "name": "stdout",
     "output_type": "stream",
     "text": [
      "<class 'pandas.core.frame.DataFrame'>\n",
      "RangeIndex: 53902 entries, 0 to 53901\n",
      "Data columns (total 9 columns):\n",
      " #   Column               Non-Null Count  Dtype  \n",
      "---  ------               --------------  -----  \n",
      " 0   user_id              53902 non-null  int64  \n",
      " 1   date                 53902 non-null  object \n",
      " 2   direction            53902 non-null  object \n",
      " 3   internal             53785 non-null  object \n",
      " 4   operator_id          45730 non-null  float64\n",
      " 5   is_missed_call       53902 non-null  bool   \n",
      " 6   calls_count          53902 non-null  int64  \n",
      " 7   call_duration        53902 non-null  int64  \n",
      " 8   total_call_duration  53902 non-null  int64  \n",
      "dtypes: bool(1), float64(1), int64(4), object(3)\n",
      "memory usage: 3.3+ MB\n"
     ]
    },
    {
     "data": {
      "text/plain": [
       "None"
      ]
     },
     "metadata": {},
     "output_type": "display_data"
    },
    {
     "name": "stdout",
     "output_type": "stream",
     "text": [
      "<class 'pandas.core.frame.DataFrame'>\n",
      "RangeIndex: 732 entries, 0 to 731\n",
      "Data columns (total 3 columns):\n",
      " #   Column       Non-Null Count  Dtype \n",
      "---  ------       --------------  ----- \n",
      " 0   user_id      732 non-null    int64 \n",
      " 1   tariff_plan  732 non-null    object\n",
      " 2   date_start   732 non-null    object\n",
      "dtypes: int64(1), object(2)\n",
      "memory usage: 17.3+ KB\n"
     ]
    },
    {
     "data": {
      "text/plain": [
       "None"
      ]
     },
     "metadata": {},
     "output_type": "display_data"
    }
   ],
   "source": [
    "# Carga de datos de ambos datasets:\n",
    "\n",
    "df_1 = pd.read_csv('telecom_dataset_us.csv')\n",
    "display(df_1.info())\n",
    "\n",
    "df_2 = pd.read_csv('telecom_clients_us.csv')\n",
    "display(df_2.info())"
   ]
  },
  {
   "cell_type": "code",
   "execution_count": 14,
   "metadata": {},
   "outputs": [
    {
     "data": {
      "text/html": [
       "<div>\n",
       "<style scoped>\n",
       "    .dataframe tbody tr th:only-of-type {\n",
       "        vertical-align: middle;\n",
       "    }\n",
       "\n",
       "    .dataframe tbody tr th {\n",
       "        vertical-align: top;\n",
       "    }\n",
       "\n",
       "    .dataframe thead th {\n",
       "        text-align: right;\n",
       "    }\n",
       "</style>\n",
       "<table border=\"1\" class=\"dataframe\">\n",
       "  <thead>\n",
       "    <tr style=\"text-align: right;\">\n",
       "      <th></th>\n",
       "      <th>user_id</th>\n",
       "      <th>date</th>\n",
       "      <th>direction</th>\n",
       "      <th>internal</th>\n",
       "      <th>operator_id</th>\n",
       "      <th>is_missed_call</th>\n",
       "      <th>calls_count</th>\n",
       "      <th>call_duration</th>\n",
       "      <th>total_call_duration</th>\n",
       "    </tr>\n",
       "  </thead>\n",
       "  <tbody>\n",
       "    <tr>\n",
       "      <th>0</th>\n",
       "      <td>166377</td>\n",
       "      <td>2019-08-04 00:00:00+03:00</td>\n",
       "      <td>in</td>\n",
       "      <td>False</td>\n",
       "      <td>NaN</td>\n",
       "      <td>True</td>\n",
       "      <td>2</td>\n",
       "      <td>0</td>\n",
       "      <td>4</td>\n",
       "    </tr>\n",
       "    <tr>\n",
       "      <th>1</th>\n",
       "      <td>166377</td>\n",
       "      <td>2019-08-05 00:00:00+03:00</td>\n",
       "      <td>out</td>\n",
       "      <td>True</td>\n",
       "      <td>880022.0</td>\n",
       "      <td>True</td>\n",
       "      <td>3</td>\n",
       "      <td>0</td>\n",
       "      <td>5</td>\n",
       "    </tr>\n",
       "    <tr>\n",
       "      <th>2</th>\n",
       "      <td>166377</td>\n",
       "      <td>2019-08-05 00:00:00+03:00</td>\n",
       "      <td>out</td>\n",
       "      <td>True</td>\n",
       "      <td>880020.0</td>\n",
       "      <td>True</td>\n",
       "      <td>1</td>\n",
       "      <td>0</td>\n",
       "      <td>1</td>\n",
       "    </tr>\n",
       "    <tr>\n",
       "      <th>3</th>\n",
       "      <td>166377</td>\n",
       "      <td>2019-08-05 00:00:00+03:00</td>\n",
       "      <td>out</td>\n",
       "      <td>True</td>\n",
       "      <td>880020.0</td>\n",
       "      <td>False</td>\n",
       "      <td>1</td>\n",
       "      <td>10</td>\n",
       "      <td>18</td>\n",
       "    </tr>\n",
       "    <tr>\n",
       "      <th>4</th>\n",
       "      <td>166377</td>\n",
       "      <td>2019-08-05 00:00:00+03:00</td>\n",
       "      <td>out</td>\n",
       "      <td>False</td>\n",
       "      <td>880022.0</td>\n",
       "      <td>True</td>\n",
       "      <td>3</td>\n",
       "      <td>0</td>\n",
       "      <td>25</td>\n",
       "    </tr>\n",
       "  </tbody>\n",
       "</table>\n",
       "</div>"
      ],
      "text/plain": [
       "   user_id                       date direction internal  operator_id  \\\n",
       "0   166377  2019-08-04 00:00:00+03:00        in    False          NaN   \n",
       "1   166377  2019-08-05 00:00:00+03:00       out     True     880022.0   \n",
       "2   166377  2019-08-05 00:00:00+03:00       out     True     880020.0   \n",
       "3   166377  2019-08-05 00:00:00+03:00       out     True     880020.0   \n",
       "4   166377  2019-08-05 00:00:00+03:00       out    False     880022.0   \n",
       "\n",
       "   is_missed_call  calls_count  call_duration  total_call_duration  \n",
       "0            True            2              0                    4  \n",
       "1            True            3              0                    5  \n",
       "2            True            1              0                    1  \n",
       "3           False            1             10                   18  \n",
       "4            True            3              0                   25  "
      ]
     },
     "metadata": {},
     "output_type": "display_data"
    },
    {
     "data": {
      "text/html": [
       "<div>\n",
       "<style scoped>\n",
       "    .dataframe tbody tr th:only-of-type {\n",
       "        vertical-align: middle;\n",
       "    }\n",
       "\n",
       "    .dataframe tbody tr th {\n",
       "        vertical-align: top;\n",
       "    }\n",
       "\n",
       "    .dataframe thead th {\n",
       "        text-align: right;\n",
       "    }\n",
       "</style>\n",
       "<table border=\"1\" class=\"dataframe\">\n",
       "  <thead>\n",
       "    <tr style=\"text-align: right;\">\n",
       "      <th></th>\n",
       "      <th>user_id</th>\n",
       "      <th>tariff_plan</th>\n",
       "      <th>date_start</th>\n",
       "    </tr>\n",
       "  </thead>\n",
       "  <tbody>\n",
       "    <tr>\n",
       "      <th>0</th>\n",
       "      <td>166713</td>\n",
       "      <td>A</td>\n",
       "      <td>2019-08-15</td>\n",
       "    </tr>\n",
       "    <tr>\n",
       "      <th>1</th>\n",
       "      <td>166901</td>\n",
       "      <td>A</td>\n",
       "      <td>2019-08-23</td>\n",
       "    </tr>\n",
       "    <tr>\n",
       "      <th>2</th>\n",
       "      <td>168527</td>\n",
       "      <td>A</td>\n",
       "      <td>2019-10-29</td>\n",
       "    </tr>\n",
       "    <tr>\n",
       "      <th>3</th>\n",
       "      <td>167097</td>\n",
       "      <td>A</td>\n",
       "      <td>2019-09-01</td>\n",
       "    </tr>\n",
       "    <tr>\n",
       "      <th>4</th>\n",
       "      <td>168193</td>\n",
       "      <td>A</td>\n",
       "      <td>2019-10-16</td>\n",
       "    </tr>\n",
       "  </tbody>\n",
       "</table>\n",
       "</div>"
      ],
      "text/plain": [
       "   user_id tariff_plan  date_start\n",
       "0   166713           A  2019-08-15\n",
       "1   166901           A  2019-08-23\n",
       "2   168527           A  2019-10-29\n",
       "3   167097           A  2019-09-01\n",
       "4   168193           A  2019-10-16"
      ]
     },
     "metadata": {},
     "output_type": "display_data"
    }
   ],
   "source": [
    "#Revisión de algunos registros de los datasets:\n",
    "display(df_1.head())\n",
    "\n",
    "display(df_2.head())"
   ]
  },
  {
   "cell_type": "code",
   "execution_count": 15,
   "metadata": {},
   "outputs": [
    {
     "data": {
      "text/html": [
       "<div>\n",
       "<style scoped>\n",
       "    .dataframe tbody tr th:only-of-type {\n",
       "        vertical-align: middle;\n",
       "    }\n",
       "\n",
       "    .dataframe tbody tr th {\n",
       "        vertical-align: top;\n",
       "    }\n",
       "\n",
       "    .dataframe thead th {\n",
       "        text-align: right;\n",
       "    }\n",
       "</style>\n",
       "<table border=\"1\" class=\"dataframe\">\n",
       "  <thead>\n",
       "    <tr style=\"text-align: right;\">\n",
       "      <th></th>\n",
       "      <th>user_id</th>\n",
       "      <th>date</th>\n",
       "      <th>direction</th>\n",
       "      <th>internal</th>\n",
       "      <th>operator_id</th>\n",
       "      <th>is_missed_call</th>\n",
       "      <th>calls_count</th>\n",
       "      <th>call_duration</th>\n",
       "      <th>total_call_duration</th>\n",
       "    </tr>\n",
       "  </thead>\n",
       "  <tbody>\n",
       "    <tr>\n",
       "      <th>count</th>\n",
       "      <td>53902.000000</td>\n",
       "      <td>53902</td>\n",
       "      <td>53902</td>\n",
       "      <td>53785</td>\n",
       "      <td>45730.000000</td>\n",
       "      <td>53902</td>\n",
       "      <td>53902.000000</td>\n",
       "      <td>53902.000000</td>\n",
       "      <td>53902.000000</td>\n",
       "    </tr>\n",
       "    <tr>\n",
       "      <th>unique</th>\n",
       "      <td>NaN</td>\n",
       "      <td>119</td>\n",
       "      <td>2</td>\n",
       "      <td>2</td>\n",
       "      <td>NaN</td>\n",
       "      <td>2</td>\n",
       "      <td>NaN</td>\n",
       "      <td>NaN</td>\n",
       "      <td>NaN</td>\n",
       "    </tr>\n",
       "    <tr>\n",
       "      <th>top</th>\n",
       "      <td>NaN</td>\n",
       "      <td>2019-11-25 00:00:00+03:00</td>\n",
       "      <td>out</td>\n",
       "      <td>False</td>\n",
       "      <td>NaN</td>\n",
       "      <td>False</td>\n",
       "      <td>NaN</td>\n",
       "      <td>NaN</td>\n",
       "      <td>NaN</td>\n",
       "    </tr>\n",
       "    <tr>\n",
       "      <th>freq</th>\n",
       "      <td>NaN</td>\n",
       "      <td>1220</td>\n",
       "      <td>31917</td>\n",
       "      <td>47621</td>\n",
       "      <td>NaN</td>\n",
       "      <td>30334</td>\n",
       "      <td>NaN</td>\n",
       "      <td>NaN</td>\n",
       "      <td>NaN</td>\n",
       "    </tr>\n",
       "    <tr>\n",
       "      <th>mean</th>\n",
       "      <td>167295.344477</td>\n",
       "      <td>NaN</td>\n",
       "      <td>NaN</td>\n",
       "      <td>NaN</td>\n",
       "      <td>916535.993002</td>\n",
       "      <td>NaN</td>\n",
       "      <td>16.451245</td>\n",
       "      <td>866.684427</td>\n",
       "      <td>1157.133297</td>\n",
       "    </tr>\n",
       "    <tr>\n",
       "      <th>std</th>\n",
       "      <td>598.883775</td>\n",
       "      <td>NaN</td>\n",
       "      <td>NaN</td>\n",
       "      <td>NaN</td>\n",
       "      <td>21254.123136</td>\n",
       "      <td>NaN</td>\n",
       "      <td>62.917170</td>\n",
       "      <td>3731.791202</td>\n",
       "      <td>4403.468763</td>\n",
       "    </tr>\n",
       "    <tr>\n",
       "      <th>min</th>\n",
       "      <td>166377.000000</td>\n",
       "      <td>NaN</td>\n",
       "      <td>NaN</td>\n",
       "      <td>NaN</td>\n",
       "      <td>879896.000000</td>\n",
       "      <td>NaN</td>\n",
       "      <td>1.000000</td>\n",
       "      <td>0.000000</td>\n",
       "      <td>0.000000</td>\n",
       "    </tr>\n",
       "    <tr>\n",
       "      <th>25%</th>\n",
       "      <td>166782.000000</td>\n",
       "      <td>NaN</td>\n",
       "      <td>NaN</td>\n",
       "      <td>NaN</td>\n",
       "      <td>900788.000000</td>\n",
       "      <td>NaN</td>\n",
       "      <td>1.000000</td>\n",
       "      <td>0.000000</td>\n",
       "      <td>47.000000</td>\n",
       "    </tr>\n",
       "    <tr>\n",
       "      <th>50%</th>\n",
       "      <td>167162.000000</td>\n",
       "      <td>NaN</td>\n",
       "      <td>NaN</td>\n",
       "      <td>NaN</td>\n",
       "      <td>913938.000000</td>\n",
       "      <td>NaN</td>\n",
       "      <td>4.000000</td>\n",
       "      <td>38.000000</td>\n",
       "      <td>210.000000</td>\n",
       "    </tr>\n",
       "    <tr>\n",
       "      <th>75%</th>\n",
       "      <td>167819.000000</td>\n",
       "      <td>NaN</td>\n",
       "      <td>NaN</td>\n",
       "      <td>NaN</td>\n",
       "      <td>937708.000000</td>\n",
       "      <td>NaN</td>\n",
       "      <td>12.000000</td>\n",
       "      <td>572.000000</td>\n",
       "      <td>902.000000</td>\n",
       "    </tr>\n",
       "    <tr>\n",
       "      <th>max</th>\n",
       "      <td>168606.000000</td>\n",
       "      <td>NaN</td>\n",
       "      <td>NaN</td>\n",
       "      <td>NaN</td>\n",
       "      <td>973286.000000</td>\n",
       "      <td>NaN</td>\n",
       "      <td>4817.000000</td>\n",
       "      <td>144395.000000</td>\n",
       "      <td>166155.000000</td>\n",
       "    </tr>\n",
       "  </tbody>\n",
       "</table>\n",
       "</div>"
      ],
      "text/plain": [
       "              user_id                       date direction internal  \\\n",
       "count    53902.000000                      53902     53902    53785   \n",
       "unique            NaN                        119         2        2   \n",
       "top               NaN  2019-11-25 00:00:00+03:00       out    False   \n",
       "freq              NaN                       1220     31917    47621   \n",
       "mean    167295.344477                        NaN       NaN      NaN   \n",
       "std        598.883775                        NaN       NaN      NaN   \n",
       "min     166377.000000                        NaN       NaN      NaN   \n",
       "25%     166782.000000                        NaN       NaN      NaN   \n",
       "50%     167162.000000                        NaN       NaN      NaN   \n",
       "75%     167819.000000                        NaN       NaN      NaN   \n",
       "max     168606.000000                        NaN       NaN      NaN   \n",
       "\n",
       "          operator_id is_missed_call   calls_count  call_duration  \\\n",
       "count    45730.000000          53902  53902.000000   53902.000000   \n",
       "unique            NaN              2           NaN            NaN   \n",
       "top               NaN          False           NaN            NaN   \n",
       "freq              NaN          30334           NaN            NaN   \n",
       "mean    916535.993002            NaN     16.451245     866.684427   \n",
       "std      21254.123136            NaN     62.917170    3731.791202   \n",
       "min     879896.000000            NaN      1.000000       0.000000   \n",
       "25%     900788.000000            NaN      1.000000       0.000000   \n",
       "50%     913938.000000            NaN      4.000000      38.000000   \n",
       "75%     937708.000000            NaN     12.000000     572.000000   \n",
       "max     973286.000000            NaN   4817.000000  144395.000000   \n",
       "\n",
       "        total_call_duration  \n",
       "count          53902.000000  \n",
       "unique                  NaN  \n",
       "top                     NaN  \n",
       "freq                    NaN  \n",
       "mean            1157.133297  \n",
       "std             4403.468763  \n",
       "min                0.000000  \n",
       "25%               47.000000  \n",
       "50%              210.000000  \n",
       "75%              902.000000  \n",
       "max           166155.000000  "
      ]
     },
     "metadata": {},
     "output_type": "display_data"
    },
    {
     "data": {
      "text/html": [
       "<div>\n",
       "<style scoped>\n",
       "    .dataframe tbody tr th:only-of-type {\n",
       "        vertical-align: middle;\n",
       "    }\n",
       "\n",
       "    .dataframe tbody tr th {\n",
       "        vertical-align: top;\n",
       "    }\n",
       "\n",
       "    .dataframe thead th {\n",
       "        text-align: right;\n",
       "    }\n",
       "</style>\n",
       "<table border=\"1\" class=\"dataframe\">\n",
       "  <thead>\n",
       "    <tr style=\"text-align: right;\">\n",
       "      <th></th>\n",
       "      <th>user_id</th>\n",
       "      <th>tariff_plan</th>\n",
       "      <th>date_start</th>\n",
       "    </tr>\n",
       "  </thead>\n",
       "  <tbody>\n",
       "    <tr>\n",
       "      <th>count</th>\n",
       "      <td>732.000000</td>\n",
       "      <td>732</td>\n",
       "      <td>732</td>\n",
       "    </tr>\n",
       "    <tr>\n",
       "      <th>unique</th>\n",
       "      <td>NaN</td>\n",
       "      <td>3</td>\n",
       "      <td>73</td>\n",
       "    </tr>\n",
       "    <tr>\n",
       "      <th>top</th>\n",
       "      <td>NaN</td>\n",
       "      <td>C</td>\n",
       "      <td>2019-09-24</td>\n",
       "    </tr>\n",
       "    <tr>\n",
       "      <th>freq</th>\n",
       "      <td>NaN</td>\n",
       "      <td>395</td>\n",
       "      <td>24</td>\n",
       "    </tr>\n",
       "    <tr>\n",
       "      <th>mean</th>\n",
       "      <td>167431.927596</td>\n",
       "      <td>NaN</td>\n",
       "      <td>NaN</td>\n",
       "    </tr>\n",
       "    <tr>\n",
       "      <th>std</th>\n",
       "      <td>633.810383</td>\n",
       "      <td>NaN</td>\n",
       "      <td>NaN</td>\n",
       "    </tr>\n",
       "    <tr>\n",
       "      <th>min</th>\n",
       "      <td>166373.000000</td>\n",
       "      <td>NaN</td>\n",
       "      <td>NaN</td>\n",
       "    </tr>\n",
       "    <tr>\n",
       "      <th>25%</th>\n",
       "      <td>166900.750000</td>\n",
       "      <td>NaN</td>\n",
       "      <td>NaN</td>\n",
       "    </tr>\n",
       "    <tr>\n",
       "      <th>50%</th>\n",
       "      <td>167432.000000</td>\n",
       "      <td>NaN</td>\n",
       "      <td>NaN</td>\n",
       "    </tr>\n",
       "    <tr>\n",
       "      <th>75%</th>\n",
       "      <td>167973.000000</td>\n",
       "      <td>NaN</td>\n",
       "      <td>NaN</td>\n",
       "    </tr>\n",
       "    <tr>\n",
       "      <th>max</th>\n",
       "      <td>168606.000000</td>\n",
       "      <td>NaN</td>\n",
       "      <td>NaN</td>\n",
       "    </tr>\n",
       "  </tbody>\n",
       "</table>\n",
       "</div>"
      ],
      "text/plain": [
       "              user_id tariff_plan  date_start\n",
       "count      732.000000         732         732\n",
       "unique            NaN           3          73\n",
       "top               NaN           C  2019-09-24\n",
       "freq              NaN         395          24\n",
       "mean    167431.927596         NaN         NaN\n",
       "std        633.810383         NaN         NaN\n",
       "min     166373.000000         NaN         NaN\n",
       "25%     166900.750000         NaN         NaN\n",
       "50%     167432.000000         NaN         NaN\n",
       "75%     167973.000000         NaN         NaN\n",
       "max     168606.000000         NaN         NaN"
      ]
     },
     "metadata": {},
     "output_type": "display_data"
    }
   ],
   "source": [
    "# Revisión de la distribución estadística de los datasets:\n",
    "display(df_1.describe(include='all'))\n",
    "display(df_2.describe(include='all'))\n"
   ]
  },
  {
   "cell_type": "markdown",
   "metadata": {},
   "source": [
    "Como podemos ver, usando los métodos de .info(), head(), y describe() de la librería pandas podemos percibir la estructura de los datos, el número de columnas y registros que posee cada dataset, como también cuales registros tienen valores ausentes y aquellas columnas que requieren ser transformadas tanto en el nombre de sus columnas como en el formato y/o tipo de dato que contienen."
   ]
  },
  {
   "cell_type": "markdown",
   "metadata": {},
   "source": [
    "## **3.4 Limpieza y estandarización de los datos previos al análisis:**"
   ]
  },
  {
   "cell_type": "markdown",
   "metadata": {},
   "source": [
    "### **3.4.1 Estudiar los valores ausentes:**\n",
    "\n",
    "En este paso se define cuantos registros ausentes existen en los datasets, se define la relevancia y su proporción respecto al resto de registros y en base a eso se define sí los valores ausentes:\n",
    "\n",
    "    - Se eliminan\n",
    "    - Se reemplazan por un valor coherente\n",
    "    - Se les asigna un valor de 0, o de la media/mediana en función de los valores que se registren en dicha columna."
   ]
  },
  {
   "cell_type": "markdown",
   "metadata": {},
   "source": [
    "### **3.4.2 Eliminación de datos duplicados:**\n",
    "\n",
    "Dependiendo de la estructura del dataset, se define si los datos enteramente duplicados tienen coherencia o no. En caso que haya una fecha específica (como en el ejemplo del dataset de telecom_dataset_us) un dato enteramente duplicado debería ser eliminado para no afectar el análisis."
   ]
  },
  {
   "cell_type": "markdown",
   "metadata": {},
   "source": [
    "### **3.4.3 Conversión del tipo de datos:**\n",
    "\n",
    "Convertir los datos según el tipo de datos que estén en los registros."
   ]
  },
  {
   "cell_type": "markdown",
   "metadata": {},
   "source": [
    "# **4. Análisis Exploratorio de Datos (EDA):**"
   ]
  },
  {
   "cell_type": "markdown",
   "metadata": {},
   "source": [
    "## **4.1 Descripción estadística de los datos**\n",
    "Se determinan aquellos registros que agreguen valor a los indicadores previamente definidos. A partir de ahí se definen la distribución estadística de los datos, valores máximos, mínimos, promedios, desviaciones estándar entre otros."
   ]
  },
  {
   "cell_type": "markdown",
   "metadata": {},
   "source": [
    "## **4.2 Visualización de distribuciones de las métricas clave (llamadas perdidas, tiempos de espera, llamadas salientes)**\n"
   ]
  },
  {
   "cell_type": "markdown",
   "metadata": {},
   "source": [
    "A partir de aquí, el propósito es facilitar el panorama a partir de gráficos y visualizaciones claves que ayuden a determinar el estado actual de la problemática en cuestión."
   ]
  },
  {
   "cell_type": "markdown",
   "metadata": {},
   "source": [
    "## **4.3 Identificación de correlaciones y patrones**"
   ]
  },
  {
   "cell_type": "markdown",
   "metadata": {},
   "source": [
    "Identficar si existen patrones y correlaciones es clave para definir si existen comportamientos, labores, o patrones ineficientes dentro del proceso."
   ]
  },
  {
   "cell_type": "markdown",
   "metadata": {},
   "source": [
    "# **5. Definición de Umbrales de Ineficacia:**\n"
   ]
  },
  {
   "cell_type": "markdown",
   "metadata": {},
   "source": [
    "## **5.1 Calcular promedios y desviaciones estándar de las métricas clave.**\n",
    "\n"
   ]
  },
  {
   "cell_type": "markdown",
   "metadata": {},
   "source": [
    "## **Definir umbrales de ineficacia para cada métrica según lo descrito anteriormente.**\n",
    "\n",
    "Ayudarse de los valores estadísticos y análisis previo para definir los valores límite y/o umbrales que ayuden a definir cuando estaríamos tratando con operadores ineficaces o no:"
   ]
  },
  {
   "cell_type": "markdown",
   "metadata": {},
   "source": [
    "# **6. Identificación de Operadores Ineficaces:**\n",
    "   - Aplicar los umbrales definidos para identificar a los operadores ineficaces a partir de métodos que ayuden a filtrar los datasets previamente analizados en función de aquellos que estén por debajo de los umbrales definidos.\n",
    "   - Generar un reporte de operadores ineficaces con detalles de sus métricas."
   ]
  },
  {
   "cell_type": "markdown",
   "metadata": {},
   "source": [
    "# **7. Etapa de Hipótesis**\n",
    "\n",
    "En esta etapa se definen las hipótesis a partir de una noción previa producto del análisis. **Por ejemplo** se podría establecer que:\n",
    "\n",
    "1. **Hipótesis 1:** Los operadores con un alto porcentaje de llamadas perdidas son ineficaces.\n",
    "2. **Hipótesis 2:** Los operadores con tiempos de espera prolongados para las llamadas entrantes son ineficaces.\n",
    "3. **Hipótesis 3:** Los operadores que realizan pocas llamadas salientes, cuando se supone que deben hacerlas, son ineficaces.\n",
    "4. **Hipótesis 4:** Los operadores que contactan con clientes con fechas de registros más recientes suelen ser ineficaces."
   ]
  },
  {
   "cell_type": "markdown",
   "metadata": {},
   "source": [
    "## **7.1 Definir el tipo de prueba estadística en función de los resultados obtenidos en el análisis.**\n",
    "\n",
    "En este paso se definen y realizan las pruebas estadísticas correspondiente en función de la hipótesis a probar y el comportamiento de los datos en el análisis. Confirmar y/o rechazar las hipótesis a partir de los resultados de las pruebas."
   ]
  },
  {
   "cell_type": "markdown",
   "metadata": {},
   "source": [
    "# **8. Conclusiones de los análisis realizados y proposiciones de acciones de mejora**\n",
    "\n",
    "Finalmente, elaborar conclusiones a partir de los estudios analíticos realizados.\n",
    "\n",
    "Conclusiones y sugerencias que aporten valor a los actores interesados en el proceso de estudio definidos en el apartado 1.2\n",
    "\n"
   ]
  },
  {
   "cell_type": "markdown",
   "metadata": {},
   "source": [
    "## **8.1 Verificar si las conclusiones van en función de las posibles soluciones propuestas en el paso 1.3**\n",
    "\n",
    "A manera de ejemplo, se podría contrastar las acciones propuestas en el paso 1.3 y verificar si se validan y/o se agregan las posibles soluciones a la problemática de la ineficacia de los operadores.\n",
    "\n",
    "**Posibles soluciones luego del análisis y las pruebas de hipótesis:**\n",
    "\n",
    "- **Capacitación de operadores:** Identificar necesidades de capacitación para mejorar el desempeño de operadores ineficaces y de aquellos que estén haciendo bien su trabajo actualmente (ejemplos a seguir).\n",
    "- **Redistribución de tareas:** Ajustar la carga de trabajo y responsabilidades de los operadores para equilibrar la eficiencia operativa. Además de eliminar tareas que puedan resultar innecesarias.\n",
    "- **Revisión de procedimientos:** Implementar cambios en los procedimientos de manejo de llamadas para reducir los tiempos de espera y las llamadas perdidas.\n",
    "- **Evaluación de rendimiento:** Realizar evaluaciones periódicas del rendimiento de los operadores utilizando métricas clave para garantizar la mejora continua.\n",
    "- **Optimización del servicio:** Ajustar las estrategias operativas y los planes de acción para mejorar la eficiencia general del servicio de telefonía virtual.\n",
    "- **Retroalimentación del proceso:** Al establecer acciones de retroalimentación, se garantiza la vinculación de todos aquellos actores implicados en el proceso y que tengan la capacidad de establecer acciones propositivas, documentadas y de mejora continua que alimenten el proceso constantemente, indiferente de su posición jerárquica en la empresa."
   ]
  },
  {
   "cell_type": "markdown",
   "metadata": {},
   "source": [
    "# **9. Presentación de los análisis de los resultados en función del actor interesado (stakeholder):**\n",
    "\n",
    "En este paso final, es importante establecer a quien irá dirigido el reporte a presentar:\n",
    "\n",
    "1. **Dashboard para seguimiento de indicadores:** Esta solución podría interesar a los supervisores y a los mismos operadores para tener presente su estado actual en términos de eficacia en su operación.\n",
    "2. **Reporte/Presentación de los resultados en diapositivas o reporte corporativo:** En este caso, simplemente se puede tener un estado actual de la situación que puede interesar a cargos administrativos más altos que ayuden a entender las acciones a tomar y poder retroalimentar a su personal y a los clientes. "
   ]
  }
 ],
 "metadata": {
  "kernelspec": {
   "display_name": "Python 3",
   "language": "python",
   "name": "python3"
  },
  "language_info": {
   "codemirror_mode": {
    "name": "ipython",
    "version": 3
   },
   "file_extension": ".py",
   "mimetype": "text/x-python",
   "name": "python",
   "nbconvert_exporter": "python",
   "pygments_lexer": "ipython3",
   "version": "3.10.11"
  }
 },
 "nbformat": 4,
 "nbformat_minor": 2
}
