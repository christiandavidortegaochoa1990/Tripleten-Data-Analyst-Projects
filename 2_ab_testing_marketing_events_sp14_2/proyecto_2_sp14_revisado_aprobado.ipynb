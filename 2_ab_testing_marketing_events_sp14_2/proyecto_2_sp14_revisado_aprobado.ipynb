{
 "cells": [
  {
   "cell_type": "markdown",
   "metadata": {},
   "source": [
    "# Proyecto de pruebas A/B\n",
    "\n",
    "Has recibido una tarea analítica de una tienda en línea internacional. Tus predecesores no consiguieron completarla: lanzaron una prueba A/B y luego abandonaron (para iniciar una granja de sandías en Brasil). Solo dejaron las especificaciones técnicas y los resultados de las pruebas.\n"
   ]
  },
  {
   "cell_type": "markdown",
   "metadata": {},
   "source": [
    "# Descripción técnica\n",
    "-\t**Nombre de la prueba:** recommender_system_test\n",
    "-\t**Grupos:** А (control), B (nuevo embudo de pago)\n",
    "-\t**Fecha de lanzamiento:** 2020-12-07\n",
    "-\t**Fecha en la que dejaron de aceptar nuevos usuarios:** 2020-12-21\n",
    "-\t**Fecha de finalización:** 2021-01-01\n",
    "-\t**Audiencia:** 15% de los nuevos usuarios de la región de la UE\n",
    "-\t**Propósito de la prueba:** probar cambios relacionados con la introducción de un sistema de recomendaciones mejorado\n",
    "-\t**Resultado esperado:** dentro de los 14 días posteriores a la inscripción, los usuarios mostrarán una mejor conversión en vistas de la página del producto (el evento product_page), instancias de agregar artículos al carrito de compras (product_cart) y compras (purchase). En cada etapa del embudo product_page → product_cart → purchase, habrá al menos un 10% de aumento.\n",
    "-\t**Número previsto de participantes de la prueba:** 6 000\n"
   ]
  },
  {
   "cell_type": "markdown",
   "metadata": {},
   "source": [
    "# Descripción de los datos\n",
    "\n",
    "1. ab_project_marketing_events_us.csv — el calendario de eventos de marketing para 2020\n",
    "2. final_ab_new_users_upd_us.csv — todos los usuarios que se registraron en la tienda en línea desde el 7 hasta el 21 de diciembre de 2020\n",
    "3. final_ab_events_upd_us.csv — todos los eventos de los nuevos usuarios en el período comprendido entre el 7 de diciembre de 2020 y el 1 de enero de 2021\n",
    "4. final_ab_participants_upd_us.csv — tabla con los datos de los participantes de la prueba\n"
   ]
  },
  {
   "cell_type": "markdown",
   "metadata": {},
   "source": [
    "## Estructura `ab_project_marketing_events_us.csv`:\n",
    "\n",
    "- `name`: el nombre del evento de marketing\n",
    "- `regions`: regiones donde se llevará a cabo la campaña publicitaria\n",
    "- `start_dt`: fecha de inicio de la campaña\n",
    "- `finish_dt`: fecha de finalización de la campaña"
   ]
  },
  {
   "cell_type": "markdown",
   "metadata": {},
   "source": [
    "## Estructura `final_ab_new_users_upd_us.csv`:\n",
    "\n",
    "- `user_id`\n",
    "- `first_date`: fecha de inscripción\n",
    "- `region`\n",
    "- `device`: dispositivo utilizado para la inscripción"
   ]
  },
  {
   "cell_type": "markdown",
   "metadata": {},
   "source": [
    "## Estructura `final_ab_events_upd_us.csv`:\n",
    "\n",
    "- `user_id`\n",
    "- `event_dt`: fecha y hora del evento\n",
    "- `event_name`: nombre del tipo de evento\n",
    "- `details`: datos adicionales sobre el evento (por ejemplo, el pedido total en USD para los eventos `purchase`)"
   ]
  },
  {
   "cell_type": "markdown",
   "metadata": {},
   "source": [
    "## Estructura `final_ab_participants_upd_us.csv`:\n",
    "\n",
    "- `user_id`\n",
    "- `ab_test`: nombre de la prueba\n",
    "- `group`: el grupo de prueba al que pertenecía el usuario"
   ]
  },
  {
   "cell_type": "markdown",
   "metadata": {},
   "source": [
    "# - Describe los objetivos del estudio.\n"
   ]
  },
  {
   "cell_type": "markdown",
   "metadata": {},
   "source": [
    "## - Explora los datos:\n",
    "- ¿Es necesario convertir los tipos?\n",
    "- ¿Hay valores ausentes o duplicados? Si es así, ¿cómo los caracterizarías?"
   ]
  },
  {
   "cell_type": "markdown",
   "metadata": {},
   "source": [
    "# Etapa de Preprocesamiento"
   ]
  },
  {
   "cell_type": "code",
   "execution_count": 89,
   "metadata": {},
   "outputs": [],
   "source": [
    "# Importe de librerías necesarias para el proyecto:\n",
    "\n",
    "import pandas as pd\n",
    "import plotly.express as px\n",
    "import seaborn as sns\n",
    "\n",
    "from plotly import graph_objects as go\n",
    "from matplotlib import pyplot as plt\n",
    "from scipy import stats\n",
    "import statsmodels.api as sm"
   ]
  },
  {
   "cell_type": "code",
   "execution_count": 90,
   "metadata": {},
   "outputs": [],
   "source": [
    "# Cargue de los datasets a utilizar:\n",
    "\n",
    "df1_ab_project_mark = pd.read_csv('https://practicum-content.s3.us-west-1.amazonaws.com/datasets/ab_project_marketing_events_us.csv')\n",
    "df2_ab_new_users = pd.read_csv('https://practicum-content.s3.us-west-1.amazonaws.com/datasets/final_ab_new_users_upd_us.csv')\n",
    "df3_ab_events = pd.read_csv('https://practicum-content.s3.us-west-1.amazonaws.com/datasets/final_ab_events_upd_us.csv')\n",
    "df4_ab_participants = pd.read_csv('https://practicum-content.s3.us-west-1.amazonaws.com/datasets/final_ab_participants_upd_us.csv')"
   ]
  },
  {
   "cell_type": "markdown",
   "metadata": {},
   "source": [
    "<div class=\"alert alert-block alert-success\">\n",
    "<b>Comentario del revisor (1ra Iteracion)</b> <a class=“tocSkip”></a>\n",
    "\n",
    "Perfecto! Usar el link para cargar los datos asegura que cualquiera pueda reproducir el proceso de análisis sin preocuparse por que los datasets estén en la misma dirección\n",
    "</div>"
   ]
  },
  {
   "cell_type": "code",
   "execution_count": 91,
   "metadata": {},
   "outputs": [
    {
     "name": "stdout",
     "output_type": "stream",
     "text": [
      "<class 'pandas.core.frame.DataFrame'>\n",
      "RangeIndex: 14 entries, 0 to 13\n",
      "Data columns (total 4 columns):\n",
      " #   Column     Non-Null Count  Dtype \n",
      "---  ------     --------------  ----- \n",
      " 0   name       14 non-null     object\n",
      " 1   regions    14 non-null     object\n",
      " 2   start_dt   14 non-null     object\n",
      " 3   finish_dt  14 non-null     object\n",
      "dtypes: object(4)\n",
      "memory usage: 576.0+ bytes\n"
     ]
    }
   ],
   "source": [
    "# Revisión de la estructura del primer Dataframe: \n",
    "\n",
    "df1_ab_project_mark.info()"
   ]
  },
  {
   "cell_type": "code",
   "execution_count": 92,
   "metadata": {},
   "outputs": [
    {
     "data": {
      "text/html": [
       "<div>\n",
       "<style scoped>\n",
       "    .dataframe tbody tr th:only-of-type {\n",
       "        vertical-align: middle;\n",
       "    }\n",
       "\n",
       "    .dataframe tbody tr th {\n",
       "        vertical-align: top;\n",
       "    }\n",
       "\n",
       "    .dataframe thead th {\n",
       "        text-align: right;\n",
       "    }\n",
       "</style>\n",
       "<table border=\"1\" class=\"dataframe\">\n",
       "  <thead>\n",
       "    <tr style=\"text-align: right;\">\n",
       "      <th></th>\n",
       "      <th>name</th>\n",
       "      <th>regions</th>\n",
       "      <th>start_dt</th>\n",
       "      <th>finish_dt</th>\n",
       "    </tr>\n",
       "  </thead>\n",
       "  <tbody>\n",
       "    <tr>\n",
       "      <th>13</th>\n",
       "      <td>Chinese Moon Festival</td>\n",
       "      <td>APAC</td>\n",
       "      <td>2020-10-01</td>\n",
       "      <td>2020-10-07</td>\n",
       "    </tr>\n",
       "    <tr>\n",
       "      <th>6</th>\n",
       "      <td>Chinese New Year Promo</td>\n",
       "      <td>APAC</td>\n",
       "      <td>2020-01-25</td>\n",
       "      <td>2020-02-07</td>\n",
       "    </tr>\n",
       "    <tr>\n",
       "      <th>7</th>\n",
       "      <td>Labor day (May 1st) Ads Campaign</td>\n",
       "      <td>EU, CIS, APAC</td>\n",
       "      <td>2020-05-01</td>\n",
       "      <td>2020-05-03</td>\n",
       "    </tr>\n",
       "    <tr>\n",
       "      <th>4</th>\n",
       "      <td>4th of July Promo</td>\n",
       "      <td>N.America</td>\n",
       "      <td>2020-07-04</td>\n",
       "      <td>2020-07-11</td>\n",
       "    </tr>\n",
       "    <tr>\n",
       "      <th>11</th>\n",
       "      <td>Dragon Boat Festival Giveaway</td>\n",
       "      <td>APAC</td>\n",
       "      <td>2020-06-25</td>\n",
       "      <td>2020-07-01</td>\n",
       "    </tr>\n",
       "    <tr>\n",
       "      <th>5</th>\n",
       "      <td>Black Friday Ads Campaign</td>\n",
       "      <td>EU, CIS, APAC, N.America</td>\n",
       "      <td>2020-11-26</td>\n",
       "      <td>2020-12-01</td>\n",
       "    </tr>\n",
       "    <tr>\n",
       "      <th>12</th>\n",
       "      <td>Single's Day Gift Promo</td>\n",
       "      <td>APAC</td>\n",
       "      <td>2020-11-11</td>\n",
       "      <td>2020-11-12</td>\n",
       "    </tr>\n",
       "    <tr>\n",
       "      <th>10</th>\n",
       "      <td>CIS New Year Gift Lottery</td>\n",
       "      <td>CIS</td>\n",
       "      <td>2020-12-30</td>\n",
       "      <td>2021-01-07</td>\n",
       "    </tr>\n",
       "    <tr>\n",
       "      <th>9</th>\n",
       "      <td>Victory Day CIS (May 9th) Event</td>\n",
       "      <td>CIS</td>\n",
       "      <td>2020-05-09</td>\n",
       "      <td>2020-05-11</td>\n",
       "    </tr>\n",
       "    <tr>\n",
       "      <th>1</th>\n",
       "      <td>St. Valentine's Day Giveaway</td>\n",
       "      <td>EU, CIS, APAC, N.America</td>\n",
       "      <td>2020-02-14</td>\n",
       "      <td>2020-02-16</td>\n",
       "    </tr>\n",
       "  </tbody>\n",
       "</table>\n",
       "</div>"
      ],
      "text/plain": [
       "                                name                   regions    start_dt  \\\n",
       "13             Chinese Moon Festival                      APAC  2020-10-01   \n",
       "6             Chinese New Year Promo                      APAC  2020-01-25   \n",
       "7   Labor day (May 1st) Ads Campaign             EU, CIS, APAC  2020-05-01   \n",
       "4                  4th of July Promo                 N.America  2020-07-04   \n",
       "11     Dragon Boat Festival Giveaway                      APAC  2020-06-25   \n",
       "5          Black Friday Ads Campaign  EU, CIS, APAC, N.America  2020-11-26   \n",
       "12           Single's Day Gift Promo                      APAC  2020-11-11   \n",
       "10         CIS New Year Gift Lottery                       CIS  2020-12-30   \n",
       "9    Victory Day CIS (May 9th) Event                       CIS  2020-05-09   \n",
       "1       St. Valentine's Day Giveaway  EU, CIS, APAC, N.America  2020-02-14   \n",
       "\n",
       "     finish_dt  \n",
       "13  2020-10-07  \n",
       "6   2020-02-07  \n",
       "7   2020-05-03  \n",
       "4   2020-07-11  \n",
       "11  2020-07-01  \n",
       "5   2020-12-01  \n",
       "12  2020-11-12  \n",
       "10  2021-01-07  \n",
       "9   2020-05-11  \n",
       "1   2020-02-16  "
      ]
     },
     "execution_count": 92,
     "metadata": {},
     "output_type": "execute_result"
    }
   ],
   "source": [
    "df1_ab_project_mark.sample(10)"
   ]
  },
  {
   "cell_type": "markdown",
   "metadata": {},
   "source": [
    "Luego de la revisión del primer Dataframe `df1_ab_project_mark` podemos establecer lo siguiente:\n",
    "\n",
    "-   Existen 14 registros en total, con 4 columnas, donde todas son de tipo `object`. No existen datos nulos en los registros (cada columna contiene 14 registros no nulos). El nombre de las columnas tienen la estructura snake_case. Las columnas name y regions serán cambiadas a tipo `Category` para obtener un [mejor procesamiento de los datos](https://pfr.com.ar/dtypes/). Por otro lado las columnas con registros de fecha (start_dt y finish_dt) serán convertidas a datetime."
   ]
  },
  {
   "cell_type": "code",
   "execution_count": 93,
   "metadata": {},
   "outputs": [
    {
     "name": "stdout",
     "output_type": "stream",
     "text": [
      "<class 'pandas.core.frame.DataFrame'>\n",
      "RangeIndex: 58703 entries, 0 to 58702\n",
      "Data columns (total 4 columns):\n",
      " #   Column      Non-Null Count  Dtype \n",
      "---  ------      --------------  ----- \n",
      " 0   user_id     58703 non-null  object\n",
      " 1   first_date  58703 non-null  object\n",
      " 2   region      58703 non-null  object\n",
      " 3   device      58703 non-null  object\n",
      "dtypes: object(4)\n",
      "memory usage: 1.8+ MB\n"
     ]
    }
   ],
   "source": [
    "# Revisión de la estructura del segundo Dataframe: \n",
    "\n",
    "df2_ab_new_users.info()"
   ]
  },
  {
   "cell_type": "code",
   "execution_count": 94,
   "metadata": {},
   "outputs": [
    {
     "data": {
      "text/html": [
       "<div>\n",
       "<style scoped>\n",
       "    .dataframe tbody tr th:only-of-type {\n",
       "        vertical-align: middle;\n",
       "    }\n",
       "\n",
       "    .dataframe tbody tr th {\n",
       "        vertical-align: top;\n",
       "    }\n",
       "\n",
       "    .dataframe thead th {\n",
       "        text-align: right;\n",
       "    }\n",
       "</style>\n",
       "<table border=\"1\" class=\"dataframe\">\n",
       "  <thead>\n",
       "    <tr style=\"text-align: right;\">\n",
       "      <th></th>\n",
       "      <th>user_id</th>\n",
       "      <th>first_date</th>\n",
       "      <th>region</th>\n",
       "      <th>device</th>\n",
       "    </tr>\n",
       "  </thead>\n",
       "  <tbody>\n",
       "    <tr>\n",
       "      <th>16108</th>\n",
       "      <td>8D0A57F6E8368AFF</td>\n",
       "      <td>2020-12-21</td>\n",
       "      <td>APAC</td>\n",
       "      <td>Android</td>\n",
       "    </tr>\n",
       "    <tr>\n",
       "      <th>13229</th>\n",
       "      <td>C0E129D98B3D5891</td>\n",
       "      <td>2020-12-21</td>\n",
       "      <td>CIS</td>\n",
       "      <td>Android</td>\n",
       "    </tr>\n",
       "    <tr>\n",
       "      <th>14294</th>\n",
       "      <td>B24426D1DED28DA4</td>\n",
       "      <td>2020-12-21</td>\n",
       "      <td>N.America</td>\n",
       "      <td>Android</td>\n",
       "    </tr>\n",
       "    <tr>\n",
       "      <th>48480</th>\n",
       "      <td>17366D7FA47885DC</td>\n",
       "      <td>2020-12-19</td>\n",
       "      <td>N.America</td>\n",
       "      <td>Android</td>\n",
       "    </tr>\n",
       "    <tr>\n",
       "      <th>6059</th>\n",
       "      <td>396CAE3B1E340C85</td>\n",
       "      <td>2020-12-14</td>\n",
       "      <td>EU</td>\n",
       "      <td>Android</td>\n",
       "    </tr>\n",
       "    <tr>\n",
       "      <th>33477</th>\n",
       "      <td>61A36520E6EC52F3</td>\n",
       "      <td>2020-12-10</td>\n",
       "      <td>N.America</td>\n",
       "      <td>iPhone</td>\n",
       "    </tr>\n",
       "    <tr>\n",
       "      <th>37674</th>\n",
       "      <td>9937721809714095</td>\n",
       "      <td>2020-12-17</td>\n",
       "      <td>EU</td>\n",
       "      <td>PC</td>\n",
       "    </tr>\n",
       "    <tr>\n",
       "      <th>7540</th>\n",
       "      <td>8D293114A72B8668</td>\n",
       "      <td>2020-12-14</td>\n",
       "      <td>EU</td>\n",
       "      <td>iPhone</td>\n",
       "    </tr>\n",
       "    <tr>\n",
       "      <th>7073</th>\n",
       "      <td>AEE02C4D203A1193</td>\n",
       "      <td>2020-12-14</td>\n",
       "      <td>CIS</td>\n",
       "      <td>Android</td>\n",
       "    </tr>\n",
       "    <tr>\n",
       "      <th>10416</th>\n",
       "      <td>C2E00F674E860806</td>\n",
       "      <td>2020-12-14</td>\n",
       "      <td>EU</td>\n",
       "      <td>Android</td>\n",
       "    </tr>\n",
       "  </tbody>\n",
       "</table>\n",
       "</div>"
      ],
      "text/plain": [
       "                user_id  first_date     region   device\n",
       "16108  8D0A57F6E8368AFF  2020-12-21       APAC  Android\n",
       "13229  C0E129D98B3D5891  2020-12-21        CIS  Android\n",
       "14294  B24426D1DED28DA4  2020-12-21  N.America  Android\n",
       "48480  17366D7FA47885DC  2020-12-19  N.America  Android\n",
       "6059   396CAE3B1E340C85  2020-12-14         EU  Android\n",
       "33477  61A36520E6EC52F3  2020-12-10  N.America   iPhone\n",
       "37674  9937721809714095  2020-12-17         EU       PC\n",
       "7540   8D293114A72B8668  2020-12-14         EU   iPhone\n",
       "7073   AEE02C4D203A1193  2020-12-14        CIS  Android\n",
       "10416  C2E00F674E860806  2020-12-14         EU  Android"
      ]
     },
     "execution_count": 94,
     "metadata": {},
     "output_type": "execute_result"
    }
   ],
   "source": [
    "df2_ab_new_users.sample(10)"
   ]
  },
  {
   "cell_type": "markdown",
   "metadata": {},
   "source": [
    "Luego de la revisión del segundo Dataframe `df2_ab_new_users` podemos establecer lo siguiente:\n",
    "\n",
    "-   Existen 58703 registros en total, con 4 columnas, donde todas son de tipo `object`. No existen datos nulos en los registros (cada columna contiene 58703 registros no nulos). El nombre de las columnas tienen la estructura snake_case. Las columnas user_id, region y device serán cambiadas a tipo `Category` para obtener un [mejor procesamiento de los datos](https://pfr.com.ar/dtypes/). Por otro lado la columna con registro de fecha (first_date) será convertida a datetime."
   ]
  },
  {
   "cell_type": "code",
   "execution_count": 95,
   "metadata": {},
   "outputs": [
    {
     "name": "stdout",
     "output_type": "stream",
     "text": [
      "<class 'pandas.core.frame.DataFrame'>\n",
      "RangeIndex: 423761 entries, 0 to 423760\n",
      "Data columns (total 4 columns):\n",
      " #   Column      Non-Null Count   Dtype  \n",
      "---  ------      --------------   -----  \n",
      " 0   user_id     423761 non-null  object \n",
      " 1   event_dt    423761 non-null  object \n",
      " 2   event_name  423761 non-null  object \n",
      " 3   details     60314 non-null   float64\n",
      "dtypes: float64(1), object(3)\n",
      "memory usage: 12.9+ MB\n"
     ]
    }
   ],
   "source": [
    "# Revisión de la estructura del primer Dataframe: \n",
    "\n",
    "df3_ab_events.info()"
   ]
  },
  {
   "cell_type": "code",
   "execution_count": 96,
   "metadata": {},
   "outputs": [
    {
     "data": {
      "text/html": [
       "<div>\n",
       "<style scoped>\n",
       "    .dataframe tbody tr th:only-of-type {\n",
       "        vertical-align: middle;\n",
       "    }\n",
       "\n",
       "    .dataframe tbody tr th {\n",
       "        vertical-align: top;\n",
       "    }\n",
       "\n",
       "    .dataframe thead th {\n",
       "        text-align: right;\n",
       "    }\n",
       "</style>\n",
       "<table border=\"1\" class=\"dataframe\">\n",
       "  <thead>\n",
       "    <tr style=\"text-align: right;\">\n",
       "      <th></th>\n",
       "      <th>user_id</th>\n",
       "      <th>event_dt</th>\n",
       "      <th>event_name</th>\n",
       "      <th>details</th>\n",
       "    </tr>\n",
       "  </thead>\n",
       "  <tbody>\n",
       "    <tr>\n",
       "      <th>397863</th>\n",
       "      <td>9DA8023CF9EE42AF</td>\n",
       "      <td>2020-12-24 21:54:28</td>\n",
       "      <td>login</td>\n",
       "      <td>NaN</td>\n",
       "    </tr>\n",
       "    <tr>\n",
       "      <th>117476</th>\n",
       "      <td>39894C54091340ED</td>\n",
       "      <td>2020-12-28 10:26:51</td>\n",
       "      <td>product_cart</td>\n",
       "      <td>NaN</td>\n",
       "    </tr>\n",
       "    <tr>\n",
       "      <th>154115</th>\n",
       "      <td>8D31936C6E2858DF</td>\n",
       "      <td>2020-12-14 06:56:14</td>\n",
       "      <td>product_page</td>\n",
       "      <td>NaN</td>\n",
       "    </tr>\n",
       "    <tr>\n",
       "      <th>134322</th>\n",
       "      <td>D4329B78B953FAA2</td>\n",
       "      <td>2020-12-10 19:29:47</td>\n",
       "      <td>product_page</td>\n",
       "      <td>NaN</td>\n",
       "    </tr>\n",
       "    <tr>\n",
       "      <th>152806</th>\n",
       "      <td>0B4BB06B48620EF1</td>\n",
       "      <td>2020-12-14 04:40:42</td>\n",
       "      <td>product_page</td>\n",
       "      <td>NaN</td>\n",
       "    </tr>\n",
       "    <tr>\n",
       "      <th>409105</th>\n",
       "      <td>AF58629EAC6ED632</td>\n",
       "      <td>2020-12-26 09:30:42</td>\n",
       "      <td>login</td>\n",
       "      <td>NaN</td>\n",
       "    </tr>\n",
       "    <tr>\n",
       "      <th>398149</th>\n",
       "      <td>F8F6ECD9F9F00AEF</td>\n",
       "      <td>2020-12-24 04:18:40</td>\n",
       "      <td>login</td>\n",
       "      <td>NaN</td>\n",
       "    </tr>\n",
       "    <tr>\n",
       "      <th>147072</th>\n",
       "      <td>70B2783F3432E81F</td>\n",
       "      <td>2020-12-13 17:20:29</td>\n",
       "      <td>product_page</td>\n",
       "      <td>NaN</td>\n",
       "    </tr>\n",
       "    <tr>\n",
       "      <th>73422</th>\n",
       "      <td>30449A5BCDAC762E</td>\n",
       "      <td>2020-12-13 00:26:04</td>\n",
       "      <td>product_cart</td>\n",
       "      <td>NaN</td>\n",
       "    </tr>\n",
       "    <tr>\n",
       "      <th>384384</th>\n",
       "      <td>4A0C127CA8708875</td>\n",
       "      <td>2020-12-23 06:19:11</td>\n",
       "      <td>login</td>\n",
       "      <td>NaN</td>\n",
       "    </tr>\n",
       "  </tbody>\n",
       "</table>\n",
       "</div>"
      ],
      "text/plain": [
       "                 user_id             event_dt    event_name  details\n",
       "397863  9DA8023CF9EE42AF  2020-12-24 21:54:28         login      NaN\n",
       "117476  39894C54091340ED  2020-12-28 10:26:51  product_cart      NaN\n",
       "154115  8D31936C6E2858DF  2020-12-14 06:56:14  product_page      NaN\n",
       "134322  D4329B78B953FAA2  2020-12-10 19:29:47  product_page      NaN\n",
       "152806  0B4BB06B48620EF1  2020-12-14 04:40:42  product_page      NaN\n",
       "409105  AF58629EAC6ED632  2020-12-26 09:30:42         login      NaN\n",
       "398149  F8F6ECD9F9F00AEF  2020-12-24 04:18:40         login      NaN\n",
       "147072  70B2783F3432E81F  2020-12-13 17:20:29  product_page      NaN\n",
       "73422   30449A5BCDAC762E  2020-12-13 00:26:04  product_cart      NaN\n",
       "384384  4A0C127CA8708875  2020-12-23 06:19:11         login      NaN"
      ]
     },
     "execution_count": 96,
     "metadata": {},
     "output_type": "execute_result"
    }
   ],
   "source": [
    "df3_ab_events.sample(10)"
   ]
  },
  {
   "cell_type": "markdown",
   "metadata": {},
   "source": [
    "Luego de la revisión del tercer Dataframe `df3_ab_events` podemos establecer lo siguiente:\n",
    "\n",
    "- Existen 423761 registros en total, con 4 columnas, donde todas son de tipo `object` salvo la última columna `details` que es de tipo float64. En este caso `details` sí contiene muchísimos datos nulos (más de 300 mil), por ende debe definirse posteriormente como tratar dichos nulos. El nombre de las columnas tienen la estructura snake_case. Las columnas user_id y event_name serán cambiadas a tipo `Category` para obtener un [mejor procesamiento de los datos](https://pfr.com.ar/dtypes/). Por otro lado la columna con registro de fecha (event_dt) será convertida a datetime."
   ]
  },
  {
   "cell_type": "code",
   "execution_count": 97,
   "metadata": {},
   "outputs": [
    {
     "name": "stdout",
     "output_type": "stream",
     "text": [
      "<class 'pandas.core.frame.DataFrame'>\n",
      "RangeIndex: 14525 entries, 0 to 14524\n",
      "Data columns (total 3 columns):\n",
      " #   Column   Non-Null Count  Dtype \n",
      "---  ------   --------------  ----- \n",
      " 0   user_id  14525 non-null  object\n",
      " 1   group    14525 non-null  object\n",
      " 2   ab_test  14525 non-null  object\n",
      "dtypes: object(3)\n",
      "memory usage: 340.6+ KB\n"
     ]
    }
   ],
   "source": [
    "# Revisión de la estructura del cuarto Dataframe: \n",
    "\n",
    "df4_ab_participants.info()"
   ]
  },
  {
   "cell_type": "code",
   "execution_count": 98,
   "metadata": {},
   "outputs": [
    {
     "data": {
      "text/html": [
       "<div>\n",
       "<style scoped>\n",
       "    .dataframe tbody tr th:only-of-type {\n",
       "        vertical-align: middle;\n",
       "    }\n",
       "\n",
       "    .dataframe tbody tr th {\n",
       "        vertical-align: top;\n",
       "    }\n",
       "\n",
       "    .dataframe thead th {\n",
       "        text-align: right;\n",
       "    }\n",
       "</style>\n",
       "<table border=\"1\" class=\"dataframe\">\n",
       "  <thead>\n",
       "    <tr style=\"text-align: right;\">\n",
       "      <th></th>\n",
       "      <th>user_id</th>\n",
       "      <th>group</th>\n",
       "      <th>ab_test</th>\n",
       "    </tr>\n",
       "  </thead>\n",
       "  <tbody>\n",
       "    <tr>\n",
       "      <th>2012</th>\n",
       "      <td>F540E917082B3F70</td>\n",
       "      <td>A</td>\n",
       "      <td>recommender_system_test</td>\n",
       "    </tr>\n",
       "    <tr>\n",
       "      <th>9857</th>\n",
       "      <td>DFFB4F3905881D6B</td>\n",
       "      <td>B</td>\n",
       "      <td>interface_eu_test</td>\n",
       "    </tr>\n",
       "    <tr>\n",
       "      <th>6109</th>\n",
       "      <td>DF7C1D368B5359B2</td>\n",
       "      <td>B</td>\n",
       "      <td>interface_eu_test</td>\n",
       "    </tr>\n",
       "    <tr>\n",
       "      <th>3199</th>\n",
       "      <td>198FEF39910DCF76</td>\n",
       "      <td>A</td>\n",
       "      <td>recommender_system_test</td>\n",
       "    </tr>\n",
       "    <tr>\n",
       "      <th>1352</th>\n",
       "      <td>6DB2AB2869590A63</td>\n",
       "      <td>B</td>\n",
       "      <td>recommender_system_test</td>\n",
       "    </tr>\n",
       "    <tr>\n",
       "      <th>13432</th>\n",
       "      <td>AF199ED3ED55ECD1</td>\n",
       "      <td>B</td>\n",
       "      <td>interface_eu_test</td>\n",
       "    </tr>\n",
       "    <tr>\n",
       "      <th>7072</th>\n",
       "      <td>305AFF7F49CC1085</td>\n",
       "      <td>B</td>\n",
       "      <td>interface_eu_test</td>\n",
       "    </tr>\n",
       "    <tr>\n",
       "      <th>7327</th>\n",
       "      <td>3E7A039F169B02DB</td>\n",
       "      <td>A</td>\n",
       "      <td>interface_eu_test</td>\n",
       "    </tr>\n",
       "    <tr>\n",
       "      <th>13619</th>\n",
       "      <td>28F350E59A67F7EB</td>\n",
       "      <td>A</td>\n",
       "      <td>interface_eu_test</td>\n",
       "    </tr>\n",
       "    <tr>\n",
       "      <th>5782</th>\n",
       "      <td>BF353E8CDCBB1B7C</td>\n",
       "      <td>A</td>\n",
       "      <td>interface_eu_test</td>\n",
       "    </tr>\n",
       "  </tbody>\n",
       "</table>\n",
       "</div>"
      ],
      "text/plain": [
       "                user_id group                  ab_test\n",
       "2012   F540E917082B3F70     A  recommender_system_test\n",
       "9857   DFFB4F3905881D6B     B        interface_eu_test\n",
       "6109   DF7C1D368B5359B2     B        interface_eu_test\n",
       "3199   198FEF39910DCF76     A  recommender_system_test\n",
       "1352   6DB2AB2869590A63     B  recommender_system_test\n",
       "13432  AF199ED3ED55ECD1     B        interface_eu_test\n",
       "7072   305AFF7F49CC1085     B        interface_eu_test\n",
       "7327   3E7A039F169B02DB     A        interface_eu_test\n",
       "13619  28F350E59A67F7EB     A        interface_eu_test\n",
       "5782   BF353E8CDCBB1B7C     A        interface_eu_test"
      ]
     },
     "execution_count": 98,
     "metadata": {},
     "output_type": "execute_result"
    }
   ],
   "source": [
    "df4_ab_participants.sample(10)"
   ]
  },
  {
   "cell_type": "markdown",
   "metadata": {},
   "source": [
    "Luego de la revisión del cuarto Dataframe `df4_ab_participants` podemos establecer lo siguiente:\n",
    "\n",
    "-  Existen 14525 registros en total, con 3 columnas, donde todas son de tipo `object`. No existen datos nulos en los registros (cada columna contiene 14525 registros no nulos). El nombre de las columnas tienen la estructura snake_case. Las columnas user_id, group y ab_test serán cambiadas a tipo `Category` para obtener un [mejor procesamiento de los datos](https://pfr.com.ar/dtypes)."
   ]
  },
  {
   "cell_type": "markdown",
   "metadata": {},
   "source": [
    "## Conversión del tipo de datos"
   ]
  },
  {
   "cell_type": "code",
   "execution_count": 99,
   "metadata": {},
   "outputs": [
    {
     "name": "stdout",
     "output_type": "stream",
     "text": [
      "<class 'pandas.core.frame.DataFrame'>\n",
      "RangeIndex: 14 entries, 0 to 13\n",
      "Data columns (total 4 columns):\n",
      " #   Column     Non-Null Count  Dtype         \n",
      "---  ------     --------------  -----         \n",
      " 0   name       14 non-null     category      \n",
      " 1   regions    14 non-null     category      \n",
      " 2   start_dt   14 non-null     datetime64[ns]\n",
      " 3   finish_dt  14 non-null     datetime64[ns]\n",
      "dtypes: category(2), datetime64[ns](2)\n",
      "memory usage: 1.2 KB\n"
     ]
    },
    {
     "data": {
      "text/plain": [
       "None"
      ]
     },
     "metadata": {},
     "output_type": "display_data"
    },
    {
     "name": "stdout",
     "output_type": "stream",
     "text": [
      "<class 'pandas.core.frame.DataFrame'>\n",
      "RangeIndex: 58703 entries, 0 to 58702\n",
      "Data columns (total 4 columns):\n",
      " #   Column      Non-Null Count  Dtype         \n",
      "---  ------      --------------  -----         \n",
      " 0   user_id     58703 non-null  category      \n",
      " 1   first_date  58703 non-null  datetime64[ns]\n",
      " 2   region      58703 non-null  category      \n",
      " 3   device      58703 non-null  category      \n",
      "dtypes: category(3), datetime64[ns](1)\n",
      "memory usage: 3.2 MB\n"
     ]
    },
    {
     "data": {
      "text/plain": [
       "None"
      ]
     },
     "metadata": {},
     "output_type": "display_data"
    },
    {
     "name": "stdout",
     "output_type": "stream",
     "text": [
      "<class 'pandas.core.frame.DataFrame'>\n",
      "RangeIndex: 423761 entries, 0 to 423760\n",
      "Data columns (total 4 columns):\n",
      " #   Column      Non-Null Count   Dtype         \n",
      "---  ------      --------------   -----         \n",
      " 0   user_id     423761 non-null  category      \n",
      " 1   event_dt    423761 non-null  datetime64[ns]\n",
      " 2   event_name  423761 non-null  category      \n",
      " 3   details     60314 non-null   float64       \n",
      "dtypes: category(2), datetime64[ns](1), float64(1)\n",
      "memory usage: 11.0 MB\n"
     ]
    },
    {
     "data": {
      "text/plain": [
       "None"
      ]
     },
     "metadata": {},
     "output_type": "display_data"
    },
    {
     "name": "stdout",
     "output_type": "stream",
     "text": [
      "<class 'pandas.core.frame.DataFrame'>\n",
      "RangeIndex: 14525 entries, 0 to 14524\n",
      "Data columns (total 3 columns):\n",
      " #   Column   Non-Null Count  Dtype   \n",
      "---  ------   --------------  -----   \n",
      " 0   user_id  14525 non-null  category\n",
      " 1   group    14525 non-null  category\n",
      " 2   ab_test  14525 non-null  category\n",
      "dtypes: category(3)\n",
      "memory usage: 679.7 KB\n"
     ]
    },
    {
     "data": {
      "text/plain": [
       "None"
      ]
     },
     "metadata": {},
     "output_type": "display_data"
    }
   ],
   "source": [
    "#Conversión del tipo de datos para las columnas de cada Dataframe:\n",
    "\n",
    "# Conversión en df1_ab_project_mark:\n",
    "df1_ab_project_mark['name'] = df1_ab_project_mark['name'].astype('category')\n",
    "df1_ab_project_mark['regions'] = df1_ab_project_mark['regions'].astype('category')\n",
    "df1_ab_project_mark['start_dt'] = pd.to_datetime(df1_ab_project_mark['start_dt'])\n",
    "df1_ab_project_mark['finish_dt'] = pd.to_datetime(df1_ab_project_mark['finish_dt'])\n",
    "\n",
    "display(df1_ab_project_mark.info())\n",
    "\n",
    "# Conversión en df2_ab_new_users:\n",
    "df2_ab_new_users['user_id'] = df2_ab_new_users['user_id'].astype('category')\n",
    "df2_ab_new_users['region'] = df2_ab_new_users['region'].astype('category')\n",
    "df2_ab_new_users['device'] = df2_ab_new_users['device'].astype('category')\n",
    "df2_ab_new_users['first_date'] = pd.to_datetime(df2_ab_new_users['first_date'])\n",
    "\n",
    "display(df2_ab_new_users.info())\n",
    "\n",
    "# Conversión en df3_ab_events:\n",
    "df3_ab_events['user_id'] = df3_ab_events['user_id'].astype('category')\n",
    "df3_ab_events['event_name'] = df3_ab_events['event_name'].astype('category')\n",
    "df3_ab_events['event_dt'] = pd.to_datetime(df3_ab_events['event_dt'])\n",
    "\n",
    "display(df3_ab_events.info())\n",
    "\n",
    "# Conversión en df4_ab_participants:\n",
    "df4_ab_participants['ab_test'] = df4_ab_participants['ab_test'].astype('category')\n",
    "df4_ab_participants['group'] = df4_ab_participants['group'].astype('category')\n",
    "df4_ab_participants['user_id'] = df4_ab_participants['user_id'].astype('category')\n",
    "\n",
    "display(df4_ab_participants.info())"
   ]
  },
  {
   "cell_type": "markdown",
   "metadata": {},
   "source": [
    "<div class=\"alert alert-block alert-success\">\n",
    "<b>Comentario del revisor (1ra Iteracion)</b> <a class=“tocSkip”></a>\n",
    "\n",
    "Muy buen trabajo con la transformación de datos y revisando los datos ausentes, un dataset limpio es clave para una buena toma de decisiones en un experimento.\n",
    "</div>"
   ]
  },
  {
   "cell_type": "markdown",
   "metadata": {},
   "source": [
    "## Revisión de datos nulos\n",
    "\n",
    "Como lo mencionamos en la revisión previa, el único caso de columnas nulas es df3_ab_events['details']. Utilizaremos como criterio la mediana de los registros en dicha columna para evitar los sesgos en los resultados estadísticos"
   ]
  },
  {
   "cell_type": "code",
   "execution_count": 100,
   "metadata": {},
   "outputs": [
    {
     "data": {
      "text/plain": [
       "count    423761.000000\n",
       "mean          7.678792\n",
       "std          28.037349\n",
       "min           4.990000\n",
       "25%           4.990000\n",
       "50%           4.990000\n",
       "75%           4.990000\n",
       "max         499.990000\n",
       "Name: details, dtype: float64"
      ]
     },
     "execution_count": 100,
     "metadata": {},
     "output_type": "execute_result"
    }
   ],
   "source": [
    "# Revisión de datos nulos caso df3_ab_events['details']:\n",
    "\n",
    "df3_ab_events['details'] = df3_ab_events['details'].fillna(df3_ab_events['details'].median())\n",
    "\n",
    "df3_ab_events['details'].describe()"
   ]
  },
  {
   "cell_type": "markdown",
   "metadata": {},
   "source": [
    "## Revisión de datos duplicados"
   ]
  },
  {
   "cell_type": "code",
   "execution_count": 101,
   "metadata": {},
   "outputs": [
    {
     "name": "stdout",
     "output_type": "stream",
     "text": [
      "0\n",
      "0\n",
      "0\n",
      "0\n"
     ]
    }
   ],
   "source": [
    "# Revisión de datos duplicados en cada Dataframe:\n",
    "\n",
    "# Revisión en dataframe df1_ab_project_mark:\n",
    "print(df1_ab_project_mark.duplicated().sum())\n",
    "\n",
    "# Revisión en dataframe df2_ab_new_users:\n",
    "print(df2_ab_new_users.duplicated().sum())\n",
    "\n",
    "# Revisión en dataframe df3_ab_events:\n",
    "print(df3_ab_events.duplicated().sum())\n",
    "\n",
    "# Revisión en dataframe df4_ab_participants:\n",
    "print(df4_ab_participants.duplicated().sum())"
   ]
  },
  {
   "cell_type": "markdown",
   "metadata": {},
   "source": [
    "No existen datos duplicados en los dataframes."
   ]
  },
  {
   "cell_type": "markdown",
   "metadata": {},
   "source": [
    "# Análisis exploratorio de datos (EDA):"
   ]
  },
  {
   "cell_type": "markdown",
   "metadata": {},
   "source": [
    "- Lleva a cabo el análisis exploratorio de datos:\n",
    "    - Estudia la conversión en las diferentes etapas del embudo.\n",
    "    - ¿El número de eventos por usuario está distribuido equitativamente entre las muestras?\n",
    "    - ¿Hay usuarios que están presentes en ambas muestras?\n",
    "    - ¿Cómo se distribuye el número de eventos entre los días?\n",
    "    - ¿Hay alguna peculiaridad en los datos que hay que tener en cuenta antes de iniciar la prueba A/B?"
   ]
  },
  {
   "cell_type": "code",
   "execution_count": 102,
   "metadata": {},
   "outputs": [
    {
     "data": {
      "text/html": [
       "<div>\n",
       "<style scoped>\n",
       "    .dataframe tbody tr th:only-of-type {\n",
       "        vertical-align: middle;\n",
       "    }\n",
       "\n",
       "    .dataframe tbody tr th {\n",
       "        vertical-align: top;\n",
       "    }\n",
       "\n",
       "    .dataframe thead th {\n",
       "        text-align: right;\n",
       "    }\n",
       "</style>\n",
       "<table border=\"1\" class=\"dataframe\">\n",
       "  <thead>\n",
       "    <tr style=\"text-align: right;\">\n",
       "      <th></th>\n",
       "      <th>user_id</th>\n",
       "      <th>event_dt</th>\n",
       "      <th>event_name</th>\n",
       "      <th>details</th>\n",
       "      <th>group</th>\n",
       "      <th>ab_test</th>\n",
       "    </tr>\n",
       "  </thead>\n",
       "  <tbody>\n",
       "    <tr>\n",
       "      <th>0</th>\n",
       "      <td>96F27A054B191457</td>\n",
       "      <td>2020-12-07 04:02:40</td>\n",
       "      <td>purchase</td>\n",
       "      <td>4.99</td>\n",
       "      <td>B</td>\n",
       "      <td>interface_eu_test</td>\n",
       "    </tr>\n",
       "    <tr>\n",
       "      <th>1</th>\n",
       "      <td>831887FE7F2D6CBA</td>\n",
       "      <td>2020-12-07 06:50:29</td>\n",
       "      <td>purchase</td>\n",
       "      <td>4.99</td>\n",
       "      <td>A</td>\n",
       "      <td>recommender_system_test</td>\n",
       "    </tr>\n",
       "    <tr>\n",
       "      <th>2</th>\n",
       "      <td>A92195E3CFB83DBD</td>\n",
       "      <td>2020-12-07 00:32:07</td>\n",
       "      <td>purchase</td>\n",
       "      <td>4.99</td>\n",
       "      <td>A</td>\n",
       "      <td>interface_eu_test</td>\n",
       "    </tr>\n",
       "    <tr>\n",
       "      <th>3</th>\n",
       "      <td>354D653172FF2A2D</td>\n",
       "      <td>2020-12-07 15:45:11</td>\n",
       "      <td>purchase</td>\n",
       "      <td>4.99</td>\n",
       "      <td>A</td>\n",
       "      <td>interface_eu_test</td>\n",
       "    </tr>\n",
       "    <tr>\n",
       "      <th>4</th>\n",
       "      <td>7FCD34F47C13A9AC</td>\n",
       "      <td>2020-12-07 22:06:13</td>\n",
       "      <td>purchase</td>\n",
       "      <td>9.99</td>\n",
       "      <td>B</td>\n",
       "      <td>interface_eu_test</td>\n",
       "    </tr>\n",
       "  </tbody>\n",
       "</table>\n",
       "</div>"
      ],
      "text/plain": [
       "            user_id            event_dt event_name  details group  \\\n",
       "0  96F27A054B191457 2020-12-07 04:02:40   purchase     4.99     B   \n",
       "1  831887FE7F2D6CBA 2020-12-07 06:50:29   purchase     4.99     A   \n",
       "2  A92195E3CFB83DBD 2020-12-07 00:32:07   purchase     4.99     A   \n",
       "3  354D653172FF2A2D 2020-12-07 15:45:11   purchase     4.99     A   \n",
       "4  7FCD34F47C13A9AC 2020-12-07 22:06:13   purchase     9.99     B   \n",
       "\n",
       "                   ab_test  \n",
       "0        interface_eu_test  \n",
       "1  recommender_system_test  \n",
       "2        interface_eu_test  \n",
       "3        interface_eu_test  \n",
       "4        interface_eu_test  "
      ]
     },
     "execution_count": 102,
     "metadata": {},
     "output_type": "execute_result"
    }
   ],
   "source": [
    "# Antes de proceder con el análisis, es necesario definir un nuevo Dataframe que contenga los usuarios por eventos y por el grupo de prueba al cual está asociado el usuario.\n",
    "# Es por ello que uniremos los dataframes df3_ab_events y df4_ab_participants en un nuevo dataframe para obtener dicha información:\n",
    "\n",
    "df5_ab_events_participants = df3_ab_events.merge(df4_ab_participants, on='user_id', how='inner')\n",
    "\n",
    "df5_ab_events_participants.head()"
   ]
  },
  {
   "cell_type": "code",
   "execution_count": 103,
   "metadata": {},
   "outputs": [
    {
     "name": "stdout",
     "output_type": "stream",
     "text": [
      "user_id       0\n",
      "event_dt      0\n",
      "event_name    0\n",
      "details       0\n",
      "group         0\n",
      "ab_test       0\n",
      "dtype: int64\n",
      "\n",
      "102838\n"
     ]
    }
   ],
   "source": [
    "print(df5_ab_events_participants.isna().sum())\n",
    "print()\n",
    "print(len(df5_ab_events_participants))"
   ]
  },
  {
   "cell_type": "markdown",
   "metadata": {},
   "source": [
    "<div class=\"alert alert-block alert-danger\">\n",
    "<b>Comentario del revisor (1ra Iteracion)</b> <a class=“tocSkip”></a>\n",
    "\n",
    "Por favor revisa el `how` del merge si quieres tratar los datos de esta forma, el outer está tomando datos que no estén en común entre los datasets, por eso obtenes tantos NaN. Para una prueba AB lo importante es capturar las métricas para los usuarios que están en los tratamientos no para los que no lo están\n",
    "</div>"
   ]
  },
  {
   "cell_type": "markdown",
   "metadata": {},
   "source": [
    "<div class=\"alert alert-block alert-info\">\n",
    "<b>Respuesta del estudiante</b> \n",
    "Ya fue corregido, se usa how='inner' y se obtienen sólo los grupo A y B <a class=“tocSkip”></a>\n",
    "</div>"
   ]
  },
  {
   "cell_type": "markdown",
   "metadata": {},
   "source": [
    "<div class=\"alert alert-block alert-danger\">\n",
    "<b>Comentario del revisor (1ra Iteracion)</b> <a class=“tocSkip”></a>\n",
    "\n",
    "Los datos que tienes ya están correctamente generados para determinar a que grupo pertenece cada usuario, no es necesario que agregues nuevos grupos ya que esto alterará tus métricas además que como puedes leer en la descripción del proyecto solo hay dos grupos para este experimento, no 3\n",
    "</div>"
   ]
  },
  {
   "cell_type": "markdown",
   "metadata": {},
   "source": [
    "<div class=\"alert alert-block alert-info\">\n",
    "<b>Respuesta del estudiante</b> \n",
    "Ya fue corregido, se elimina la creación de un nuevo grupo <a class=“tocSkip”></a>\n",
    "</div>"
   ]
  },
  {
   "cell_type": "markdown",
   "metadata": {},
   "source": [
    "<div class=\"alert alert-block alert-success\">\n",
    "<b>Comentario del revisor (2da Iteracion)</b> <a class=“tocSkip”></a>\n",
    "\n",
    "Buen trabajo con la corrección!\n",
    "</div>"
   ]
  },
  {
   "cell_type": "code",
   "execution_count": 104,
   "metadata": {},
   "outputs": [
    {
     "data": {
      "text/plain": [
       "group\n",
       "A    58705\n",
       "B    44133\n",
       "Name: count, dtype: int64"
      ]
     },
     "metadata": {},
     "output_type": "display_data"
    }
   ],
   "source": [
    "events_per_group = df5_ab_events_participants['group'].value_counts()\n",
    "display(events_per_group)"
   ]
  },
  {
   "cell_type": "markdown",
   "metadata": {},
   "source": [
    "58705 eventos pertenecen al grupo de prueba A, 44133 pertenecen al grupo de prueba B."
   ]
  },
  {
   "cell_type": "code",
   "execution_count": 105,
   "metadata": {},
   "outputs": [
    {
     "name": "stdout",
     "output_type": "stream",
     "text": [
      "El total de eventos es de: 102838\n"
     ]
    }
   ],
   "source": [
    "# Ahora revisaremos el número de eventos en los registros del dataframe df5_ab_events_participants:\n",
    "total_events = len(df5_ab_events_participants)\n",
    "print('El total de eventos es de:', total_events)"
   ]
  },
  {
   "cell_type": "code",
   "execution_count": 106,
   "metadata": {},
   "outputs": [
    {
     "name": "stdout",
     "output_type": "stream",
     "text": [
      "El número de usuarios únicos es de: 13638 usuarios\n"
     ]
    }
   ],
   "source": [
    "# El número de usuarios únicos en los registros que registraron eventos:\n",
    "\n",
    "unique_users = df5_ab_events_participants['user_id'].nunique()\n",
    "print('El número de usuarios únicos es de:', unique_users, 'usuarios')"
   ]
  },
  {
   "cell_type": "markdown",
   "metadata": {},
   "source": [
    "Con la información anterior, podemos ver cual es el número promedio de eventos por usuario"
   ]
  },
  {
   "cell_type": "code",
   "execution_count": 107,
   "metadata": {},
   "outputs": [
    {
     "name": "stdout",
     "output_type": "stream",
     "text": [
      "El promedio de eventos por usuarios es de 7.54 eventos por usuario\n"
     ]
    }
   ],
   "source": [
    "# Promedio de eventos por usuario:\n",
    "avg_events_per_user = total_events / unique_users\n",
    "print('El promedio de eventos por usuarios es de {:.2f}'.format(avg_events_per_user), 'eventos por usuario')"
   ]
  },
  {
   "cell_type": "markdown",
   "metadata": {},
   "source": [
    "Ahora procederemos cuales son los periodos de tiempo que comprenden los datos."
   ]
  },
  {
   "cell_type": "code",
   "execution_count": 108,
   "metadata": {},
   "outputs": [
    {
     "name": "stdout",
     "output_type": "stream",
     "text": [
      "El periodo de tiempo que comprenden los datos va desde 2020-12-07 hasta 2020-12-30\n"
     ]
    }
   ],
   "source": [
    "# Registraremos sólo las fechas (sin registro de hora) en una nueva columna 'event_date':\n",
    "df5_ab_events_participants['event_date'] = df5_ab_events_participants['event_dt'].dt.date # ---> Adición de columna con registro en formato fecha\n",
    "\n",
    "# Revisión de los límites mínimos y máximos de fechas (para definier el periodo de tiempo que comprenden los datos):\n",
    "min_date = df5_ab_events_participants['event_date'].min()\n",
    "max_date = df5_ab_events_participants['event_date'].max()\n",
    "\n",
    "print('El periodo de tiempo que comprenden los datos va desde', min_date, 'hasta', max_date)"
   ]
  },
  {
   "cell_type": "code",
   "execution_count": 109,
   "metadata": {},
   "outputs": [
    {
     "data": {
      "image/png": "[encoded data removed]",
      "text/plain": [
       "<Figure size 1200x600 with 1 Axes>"
      ]
     },
     "metadata": {},
     "output_type": "display_data"
    }
   ],
   "source": [
    "# ¿Cómo se distribuye el número de eventos entre los días?:\n",
    "\n",
    "events_period_time_distribution = df5_ab_events_participants['event_date'].value_counts().sort_index()\n",
    "\n",
    "# Histograma por fecha desde 07-12-2020 al 30-12-2020:\n",
    "plt.figure(figsize=(12, 6))\n",
    "df5_ab_events_participants['event_date'].value_counts().sort_index().plot(kind='bar', color='red')\n",
    "plt.title('Número de eventos por fecha')\n",
    "plt.xlabel('Fecha')\n",
    "plt.ylabel('Número de eventos')\n",
    "plt.xticks(rotation=60)\n",
    "plt.show()"
   ]
  },
  {
   "cell_type": "markdown",
   "metadata": {},
   "source": [
    "<div class=\"alert alert-block alert-danger\">\n",
    "<b>Comentario del revisor (1ra Iteracion)</b> <a class=“tocSkip”></a>\n",
    "\n",
    "Verifica los datos que se están pasando a esta parte ya que hay un error en su ejecución\n",
    "</div>"
   ]
  },
  {
   "cell_type": "markdown",
   "metadata": {},
   "source": [
    "<div class=\"alert alert-block alert-info\">\n",
    "<b>Respuesta del estudiante</b> \n",
    "Ya fue corregido, se corrige el código usando matplotlib <a class=“tocSkip”></a>\n",
    "</div>"
   ]
  },
  {
   "cell_type": "markdown",
   "metadata": {},
   "source": [
    "<div class=\"alert alert-block alert-success\">\n",
    "<b>Comentario del revisor (2da Iteracion)</b> <a class=“tocSkip”></a>\n",
    "\n",
    "Buen trabajo con la corrección!\n",
    "</div>"
   ]
  },
  {
   "cell_type": "markdown",
   "metadata": {},
   "source": [
    "## Resultados obtenidos hasta el momento:\n",
    "\n",
    "Hasta ahora podemos resumir que:\n",
    "\n",
    "- **El total de eventos en los registros es de:** 102838, distribuidos así:\n",
    "    - **Grupo A:** 58705 eventos\n",
    "    - **Grupo B:** 44133 eventos\n",
    "\n",
    "- **El número de usuarios únicos en los registros es de:** 13638\n",
    "- **El promedio de eventos por usuario:** Un aproximado de 7.54 eventos por usuario\n",
    "- **El periodo de tiempo que comprende los datos:** Van desde el 7 de Diciembre de 2020 hasta el 30 de Diciembre de 2020.\n",
    "\n",
    "- **Del Histograma podemos concluir que:** Los eventos fueron en constante crecimiento, experimentando leves bajas en actividad llegando al pico máximo de eventos el 21 de diciembre para terminar llegando al pico mínimo de eventos el 30 de diciembre de 2020."
   ]
  },
  {
   "cell_type": "markdown",
   "metadata": {},
   "source": [
    "Ahora para proceder con el análsis del embudo, será necesario definir como es la frecuencia por evento. De la misma manera, será necesario como es el comportamiento de los eventos por usuario."
   ]
  },
  {
   "cell_type": "code",
   "execution_count": 110,
   "metadata": {},
   "outputs": [
    {
     "data": {
      "text/plain": [
       "event_name\n",
       "login           44705\n",
       "product_page    28961\n",
       "purchase        14854\n",
       "product_cart    14318\n",
       "Name: count, dtype: int64"
      ]
     },
     "metadata": {},
     "output_type": "display_data"
    },
    {
     "name": "stderr",
     "output_type": "stream",
     "text": [
      "C:\\Users\\c_ort\\AppData\\Local\\Temp\\ipykernel_21440\\1544397116.py:7: FutureWarning:\n",
      "\n",
      "The default of observed=False is deprecated and will be changed to True in a future version of pandas. Pass observed=False to retain current behavior or observed=True to adopt the future default and silence this warning.\n",
      "\n"
     ]
    },
    {
     "data": {
      "text/plain": [
       "event_name\n",
       "login           13636\n",
       "product_page     8923\n",
       "purchase         4563\n",
       "product_cart     4394\n",
       "Name: user_id, dtype: int64"
      ]
     },
     "metadata": {},
     "output_type": "display_data"
    },
    {
     "data": {
      "text/plain": [
       "event_name\n",
       "login           0.999853\n",
       "product_page    0.654275\n",
       "purchase        0.334580\n",
       "product_cart    0.322188\n",
       "Name: user_id, dtype: float64"
      ]
     },
     "metadata": {},
     "output_type": "display_data"
    }
   ],
   "source": [
    "# Cálculo de la frecuencia de actividad por eventos:\n",
    "\n",
    "events_frequency = df5_ab_events_participants['event_name'].value_counts()\n",
    "display(events_frequency)\n",
    "\n",
    "# Encontrar la cantidad de usuarios por evento:\n",
    "users_per_event = df5_ab_events_participants.groupby('event_name')['user_id'].nunique()\n",
    "display(users_per_event.sort_values(ascending=False))\n",
    "\n",
    "#Proporción de usuarios por evento\n",
    "user_proportion_per_event = users_per_event / unique_users # ---> Reutilizaremos la variable unique_users definida previamente\n",
    "display(user_proportion_per_event.sort_values(ascending=False))"
   ]
  },
  {
   "cell_type": "markdown",
   "metadata": {},
   "source": [
    "## Conclusiones sobre la frecuencia y proporción de usuarios por evento:\n",
    "\n",
    "- **login**: El total de ingresos (`login`) fue de 44705, de los cuales 13636 usuarios distintos registraron este evento. Dicho evento, en proporción por usuario, fue realizado el 99.99 % de las veces.\n",
    "- **product_page**: El total de interacciones con `product_page` fue de 28961, de los cuales 8923 usuarios distintos registraron este evento. Dicho evento, en proporción por usuario, fue realizado el 65.43 % de las veces.\n",
    "- **purchase**: El total de eventos de `purchase` fue de 14854, de los cuales 4563 usuarios distintos registraron este evento. Dicho evento, en proporción por usuario, fue realizado el 33.49 % de las veces.\n",
    "- **product_cart**: La frecuencia de uso del carrito de compras (`product_cart`) fue de 14318, de los cuales 4394 usuarios distintos registraron este evento. Dicho evento, en proporción por usuario, fue realizado el 32.22 % de las veces."
   ]
  },
  {
   "cell_type": "markdown",
   "metadata": {},
   "source": [
    "## Definir la secuencia de los eventos\n",
    "\n",
    "Las conclusiones anteriores nos pueden dar una idea de la secuencia que siguen los usuarios para los eventos. En este caso, es necesario definir la secuencia de los eventos en función de como los usuarios interactúan con dichas etapas y la proporción de usuarios que pasan de una etapa a otra (definir el embudo)."
   ]
  },
  {
   "cell_type": "code",
   "execution_count": 111,
   "metadata": {},
   "outputs": [
    {
     "name": "stdout",
     "output_type": "stream",
     "text": [
      "[13636, 8923, 4394, 4563]\n"
     ]
    }
   ],
   "source": [
    "# Lista para definir la secuencia de los eventos:\n",
    "events_sequence = ['login', 'product_page', 'product_cart', 'purchase']\n",
    "\n",
    "# Cálculo de la cantidad de usuarios que completan cada etapa a través de un bucle for:\n",
    "user_counts = [users_per_event[event] for event in events_sequence]\n",
    "print(user_counts)\n"
   ]
  },
  {
   "cell_type": "code",
   "execution_count": 112,
   "metadata": {},
   "outputs": [
    {
     "name": "stdout",
     "output_type": "stream",
     "text": [
      "[0.6543707832208859, 0.4924352796144794, 1.0384615384615385]\n"
     ]
    }
   ],
   "source": [
    "#Calcular la proporción de usuarios que pasan de una etapa a la siguiente a través de recorrer user_counts:\n",
    "\n",
    "conversion_rates = []\n",
    "\n",
    "\"\"\"En el siguiente bucle se recorrerán 3 eventos \n",
    "    donde se calculará la proporción entre la cantidad\n",
    "    de usuarios de un evento respecto al anterior   \n",
    "\"\"\"\n",
    "\n",
    "for i in range(len(user_counts) - 1):\n",
    "    conversion_rate = user_counts[i + 1] / user_counts[i]      \n",
    "    conversion_rates.append(conversion_rate)\n",
    "\n",
    "print(conversion_rates)"
   ]
  },
  {
   "cell_type": "code",
   "execution_count": 113,
   "metadata": {},
   "outputs": [
    {
     "name": "stdout",
     "output_type": "stream",
     "text": [
      "0.33462892343795836\n"
     ]
    }
   ],
   "source": [
    "# Finalmente se calcula la proporción de usuarios que hacen el recorrido por todos los eventos (recorren todo el embudo):\n",
    "total_conversion_rate = user_counts[-1] / user_counts[0]\n",
    "print(total_conversion_rate)"
   ]
  },
  {
   "cell_type": "markdown",
   "metadata": {},
   "source": [
    "Ahora procederemos a procesar gráficamente los resultados obtenidos."
   ]
  },
  {
   "cell_type": "code",
   "execution_count": 114,
   "metadata": {},
   "outputs": [
    {
     "data": {
      "text/html": [
       "<div>\n",
       "<style scoped>\n",
       "    .dataframe tbody tr th:only-of-type {\n",
       "        vertical-align: middle;\n",
       "    }\n",
       "\n",
       "    .dataframe tbody tr th {\n",
       "        vertical-align: top;\n",
       "    }\n",
       "\n",
       "    .dataframe thead th {\n",
       "        text-align: right;\n",
       "    }\n",
       "</style>\n",
       "<table border=\"1\" class=\"dataframe\">\n",
       "  <thead>\n",
       "    <tr style=\"text-align: right;\">\n",
       "      <th></th>\n",
       "      <th>event</th>\n",
       "      <th>users</th>\n",
       "    </tr>\n",
       "  </thead>\n",
       "  <tbody>\n",
       "    <tr>\n",
       "      <th>0</th>\n",
       "      <td>login</td>\n",
       "      <td>13636</td>\n",
       "    </tr>\n",
       "    <tr>\n",
       "      <th>1</th>\n",
       "      <td>product_page</td>\n",
       "      <td>8923</td>\n",
       "    </tr>\n",
       "    <tr>\n",
       "      <th>2</th>\n",
       "      <td>product_cart</td>\n",
       "      <td>4394</td>\n",
       "    </tr>\n",
       "    <tr>\n",
       "      <th>3</th>\n",
       "      <td>purchase</td>\n",
       "      <td>4563</td>\n",
       "    </tr>\n",
       "  </tbody>\n",
       "</table>\n",
       "</div>"
      ],
      "text/plain": [
       "          event  users\n",
       "0         login  13636\n",
       "1  product_page   8923\n",
       "2  product_cart   4394\n",
       "3      purchase   4563"
      ]
     },
     "metadata": {},
     "output_type": "display_data"
    },
    {
     "data": {
      "application/vnd.plotly.v1+json": {
       "config": {
        "plotlyServerURL": "https://plot.ly"
       },
       "data": [
        {
         "type": "funnel",
         "x": [
          13636,
          8923,
          4394,
          4563
         ],
         "y": [
          "login",
          "product_page",
          "product_cart",
          "purchase"
         ]
        }
       ],
       "layout": {
        "template": {
         "data": {
          "bar": [
           {
            "error_x": {
             "color": "#2a3f5f"
            },
            "error_y": {
             "color": "#2a3f5f"
            },
            "marker": {
             "line": {
              "color": "#E5ECF6",
              "width": 0.5
             },
             "pattern": {
              "fillmode": "overlay",
              "size": 10,
              "solidity": 0.2
             }
            },
            "type": "bar"
           }
          ],
          "barpolar": [
           {
            "marker": {
             "line": {
              "color": "#E5ECF6",
              "width": 0.5
             },
             "pattern": {
              "fillmode": "overlay",
              "size": 10,
              "solidity": 0.2
             }
            },
            "type": "barpolar"
           }
          ],
          "carpet": [
           {
            "aaxis": {
             "endlinecolor": "#2a3f5f",
             "gridcolor": "white",
             "linecolor": "white",
             "minorgridcolor": "white",
             "startlinecolor": "#2a3f5f"
            },
            "baxis": {
             "endlinecolor": "#2a3f5f",
             "gridcolor": "white",
             "linecolor": "white",
             "minorgridcolor": "white",
             "startlinecolor": "#2a3f5f"
            },
            "type": "carpet"
           }
          ],
          "choropleth": [
           {
            "colorbar": {
             "outlinewidth": 0,
             "ticks": ""
            },
            "type": "choropleth"
           }
          ],
          "contour": [
           {
            "colorbar": {
             "outlinewidth": 0,
             "ticks": ""
            },
            "colorscale": [
             [
              0,
              "#0d0887"
             ],
             [
              0.1111111111111111,
              "#46039f"
             ],
             [
              0.2222222222222222,
              "#7201a8"
             ],
             [
              0.3333333333333333,
              "#9c179e"
             ],
             [
              0.4444444444444444,
              "#bd3786"
             ],
             [
              0.5555555555555556,
              "#d8576b"
             ],
             [
              0.6666666666666666,
              "#ed7953"
             ],
             [
              0.7777777777777778,
              "#fb9f3a"
             ],
             [
              0.8888888888888888,
              "#fdca26"
             ],
             [
              1,
              "#f0f921"
             ]
            ],
            "type": "contour"
           }
          ],
          "contourcarpet": [
           {
            "colorbar": {
             "outlinewidth": 0,
             "ticks": ""
            },
            "type": "contourcarpet"
           }
          ],
          "heatmap": [
           {
            "colorbar": {
             "outlinewidth": 0,
             "ticks": ""
            },
            "colorscale": [
             [
              0,
              "#0d0887"
             ],
             [
              0.1111111111111111,
              "#46039f"
             ],
             [
              0.2222222222222222,
              "#7201a8"
             ],
             [
              0.3333333333333333,
              "#9c179e"
             ],
             [
              0.4444444444444444,
              "#bd3786"
             ],
             [
              0.5555555555555556,
              "#d8576b"
             ],
             [
              0.6666666666666666,
              "#ed7953"
             ],
             [
              0.7777777777777778,
              "#fb9f3a"
             ],
             [
              0.8888888888888888,
              "#fdca26"
             ],
             [
              1,
              "#f0f921"
             ]
            ],
            "type": "heatmap"
           }
          ],
          "heatmapgl": [
           {
            "colorbar": {
             "outlinewidth": 0,
             "ticks": ""
            },
            "colorscale": [
             [
              0,
              "#0d0887"
             ],
             [
              0.1111111111111111,
              "#46039f"
             ],
             [
              0.2222222222222222,
              "#7201a8"
             ],
             [
              0.3333333333333333,
              "#9c179e"
             ],
             [
              0.4444444444444444,
              "#bd3786"
             ],
             [
              0.5555555555555556,
              "#d8576b"
             ],
             [
              0.6666666666666666,
              "#ed7953"
             ],
             [
              0.7777777777777778,
              "#fb9f3a"
             ],
             [
              0.8888888888888888,
              "#fdca26"
             ],
             [
              1,
              "#f0f921"
             ]
            ],
            "type": "heatmapgl"
           }
          ],
          "histogram": [
           {
            "marker": {
             "pattern": {
              "fillmode": "overlay",
              "size": 10,
              "solidity": 0.2
             }
            },
            "type": "histogram"
           }
          ],
          "histogram2d": [
           {
            "colorbar": {
             "outlinewidth": 0,
             "ticks": ""
            },
            "colorscale": [
             [
              0,
              "#0d0887"
             ],
             [
              0.1111111111111111,
              "#46039f"
             ],
             [
              0.2222222222222222,
              "#7201a8"
             ],
             [
              0.3333333333333333,
              "#9c179e"
             ],
             [
              0.4444444444444444,
              "#bd3786"
             ],
             [
              0.5555555555555556,
              "#d8576b"
             ],
             [
              0.6666666666666666,
              "#ed7953"
             ],
             [
              0.7777777777777778,
              "#fb9f3a"
             ],
             [
              0.8888888888888888,
              "#fdca26"
             ],
             [
              1,
              "#f0f921"
             ]
            ],
            "type": "histogram2d"
           }
          ],
          "histogram2dcontour": [
           {
            "colorbar": {
             "outlinewidth": 0,
             "ticks": ""
            },
            "colorscale": [
             [
              0,
              "#0d0887"
             ],
             [
              0.1111111111111111,
              "#46039f"
             ],
             [
              0.2222222222222222,
              "#7201a8"
             ],
             [
              0.3333333333333333,
              "#9c179e"
             ],
             [
              0.4444444444444444,
              "#bd3786"
             ],
             [
              0.5555555555555556,
              "#d8576b"
             ],
             [
              0.6666666666666666,
              "#ed7953"
             ],
             [
              0.7777777777777778,
              "#fb9f3a"
             ],
             [
              0.8888888888888888,
              "#fdca26"
             ],
             [
              1,
              "#f0f921"
             ]
            ],
            "type": "histogram2dcontour"
           }
          ],
          "mesh3d": [
           {
            "colorbar": {
             "outlinewidth": 0,
             "ticks": ""
            },
            "type": "mesh3d"
           }
          ],
          "parcoords": [
           {
            "line": {
             "colorbar": {
              "outlinewidth": 0,
              "ticks": ""
             }
            },
            "type": "parcoords"
           }
          ],
          "pie": [
           {
            "automargin": true,
            "type": "pie"
           }
          ],
          "scatter": [
           {
            "fillpattern": {
             "fillmode": "overlay",
             "size": 10,
             "solidity": 0.2
            },
            "type": "scatter"
           }
          ],
          "scatter3d": [
           {
            "line": {
             "colorbar": {
              "outlinewidth": 0,
              "ticks": ""
             }
            },
            "marker": {
             "colorbar": {
              "outlinewidth": 0,
              "ticks": ""
             }
            },
            "type": "scatter3d"
           }
          ],
          "scattercarpet": [
           {
            "marker": {
             "colorbar": {
              "outlinewidth": 0,
              "ticks": ""
             }
            },
            "type": "scattercarpet"
           }
          ],
          "scattergeo": [
           {
            "marker": {
             "colorbar": {
              "outlinewidth": 0,
              "ticks": ""
             }
            },
            "type": "scattergeo"
           }
          ],
          "scattergl": [
           {
            "marker": {
             "colorbar": {
              "outlinewidth": 0,
              "ticks": ""
             }
            },
            "type": "scattergl"
           }
          ],
          "scattermapbox": [
           {
            "marker": {
             "colorbar": {
              "outlinewidth": 0,
              "ticks": ""
             }
            },
            "type": "scattermapbox"
           }
          ],
          "scatterpolar": [
           {
            "marker": {
             "colorbar": {
              "outlinewidth": 0,
              "ticks": ""
             }
            },
            "type": "scatterpolar"
           }
          ],
          "scatterpolargl": [
           {
            "marker": {
             "colorbar": {
              "outlinewidth": 0,
              "ticks": ""
             }
            },
            "type": "scatterpolargl"
           }
          ],
          "scatterternary": [
           {
            "marker": {
             "colorbar": {
              "outlinewidth": 0,
              "ticks": ""
             }
            },
            "type": "scatterternary"
           }
          ],
          "surface": [
           {
            "colorbar": {
             "outlinewidth": 0,
             "ticks": ""
            },
            "colorscale": [
             [
              0,
              "#0d0887"
             ],
             [
              0.1111111111111111,
              "#46039f"
             ],
             [
              0.2222222222222222,
              "#7201a8"
             ],
             [
              0.3333333333333333,
              "#9c179e"
             ],
             [
              0.4444444444444444,
              "#bd3786"
             ],
             [
              0.5555555555555556,
              "#d8576b"
             ],
             [
              0.6666666666666666,
              "#ed7953"
             ],
             [
              0.7777777777777778,
              "#fb9f3a"
             ],
             [
              0.8888888888888888,
              "#fdca26"
             ],
             [
              1,
              "#f0f921"
             ]
            ],
            "type": "surface"
           }
          ],
          "table": [
           {
            "cells": {
             "fill": {
              "color": "#EBF0F8"
             },
             "line": {
              "color": "white"
             }
            },
            "header": {
             "fill": {
              "color": "#C8D4E3"
             },
             "line": {
              "color": "white"
             }
            },
            "type": "table"
           }
          ]
         },
         "layout": {
          "annotationdefaults": {
           "arrowcolor": "#2a3f5f",
           "arrowhead": 0,
           "arrowwidth": 1
          },
          "autotypenumbers": "strict",
          "coloraxis": {
           "colorbar": {
            "outlinewidth": 0,
            "ticks": ""
           }
          },
          "colorscale": {
           "diverging": [
            [
             0,
             "#8e0152"
            ],
            [
             0.1,
             "#c51b7d"
            ],
            [
             0.2,
             "#de77ae"
            ],
            [
             0.3,
             "#f1b6da"
            ],
            [
             0.4,
             "#fde0ef"
            ],
            [
             0.5,
             "#f7f7f7"
            ],
            [
             0.6,
             "#e6f5d0"
            ],
            [
             0.7,
             "#b8e186"
            ],
            [
             0.8,
             "#7fbc41"
            ],
            [
             0.9,
             "#4d9221"
            ],
            [
             1,
             "#276419"
            ]
           ],
           "sequential": [
            [
             0,
             "#0d0887"
            ],
            [
             0.1111111111111111,
             "#46039f"
            ],
            [
             0.2222222222222222,
             "#7201a8"
            ],
            [
             0.3333333333333333,
             "#9c179e"
            ],
            [
             0.4444444444444444,
             "#bd3786"
            ],
            [
             0.5555555555555556,
             "#d8576b"
            ],
            [
             0.6666666666666666,
             "#ed7953"
            ],
            [
             0.7777777777777778,
             "#fb9f3a"
            ],
            [
             0.8888888888888888,
             "#fdca26"
            ],
            [
             1,
             "#f0f921"
            ]
           ],
           "sequentialminus": [
            [
             0,
             "#0d0887"
            ],
            [
             0.1111111111111111,
             "#46039f"
            ],
            [
             0.2222222222222222,
             "#7201a8"
            ],
            [
             0.3333333333333333,
             "#9c179e"
            ],
            [
             0.4444444444444444,
             "#bd3786"
            ],
            [
             0.5555555555555556,
             "#d8576b"
            ],
            [
             0.6666666666666666,
             "#ed7953"
            ],
            [
             0.7777777777777778,
             "#fb9f3a"
            ],
            [
             0.8888888888888888,
             "#fdca26"
            ],
            [
             1,
             "#f0f921"
            ]
           ]
          },
          "colorway": [
           "#636efa",
           "#EF553B",
           "#00cc96",
           "#ab63fa",
           "#FFA15A",
           "#19d3f3",
           "#FF6692",
           "#B6E880",
           "#FF97FF",
           "#FECB52"
          ],
          "font": {
           "color": "#2a3f5f"
          },
          "geo": {
           "bgcolor": "white",
           "lakecolor": "white",
           "landcolor": "#E5ECF6",
           "showlakes": true,
           "showland": true,
           "subunitcolor": "white"
          },
          "hoverlabel": {
           "align": "left"
          },
          "hovermode": "closest",
          "mapbox": {
           "style": "light"
          },
          "paper_bgcolor": "white",
          "plot_bgcolor": "#E5ECF6",
          "polar": {
           "angularaxis": {
            "gridcolor": "white",
            "linecolor": "white",
            "ticks": ""
           },
           "bgcolor": "#E5ECF6",
           "radialaxis": {
            "gridcolor": "white",
            "linecolor": "white",
            "ticks": ""
           }
          },
          "scene": {
           "xaxis": {
            "backgroundcolor": "#E5ECF6",
            "gridcolor": "white",
            "gridwidth": 2,
            "linecolor": "white",
            "showbackground": true,
            "ticks": "",
            "zerolinecolor": "white"
           },
           "yaxis": {
            "backgroundcolor": "#E5ECF6",
            "gridcolor": "white",
            "gridwidth": 2,
            "linecolor": "white",
            "showbackground": true,
            "ticks": "",
            "zerolinecolor": "white"
           },
           "zaxis": {
            "backgroundcolor": "#E5ECF6",
            "gridcolor": "white",
            "gridwidth": 2,
            "linecolor": "white",
            "showbackground": true,
            "ticks": "",
            "zerolinecolor": "white"
           }
          },
          "shapedefaults": {
           "line": {
            "color": "#2a3f5f"
           }
          },
          "ternary": {
           "aaxis": {
            "gridcolor": "white",
            "linecolor": "white",
            "ticks": ""
           },
           "baxis": {
            "gridcolor": "white",
            "linecolor": "white",
            "ticks": ""
           },
           "bgcolor": "#E5ECF6",
           "caxis": {
            "gridcolor": "white",
            "linecolor": "white",
            "ticks": ""
           }
          },
          "title": {
           "x": 0.05
          },
          "xaxis": {
           "automargin": true,
           "gridcolor": "white",
           "linecolor": "white",
           "ticks": "",
           "title": {
            "standoff": 15
           },
           "zerolinecolor": "white",
           "zerolinewidth": 2
          },
          "yaxis": {
           "automargin": true,
           "gridcolor": "white",
           "linecolor": "white",
           "ticks": "",
           "title": {
            "standoff": 15
           },
           "zerolinecolor": "white",
           "zerolinewidth": 2
          }
         }
        }
       }
      }
     },
     "metadata": {},
     "output_type": "display_data"
    }
   ],
   "source": [
    "# Almacenar los resultados en un nuevo DataFrame para el embudo de eventos:\n",
    "events_funnel = pd.DataFrame({'event': events_sequence, 'users': user_counts})\n",
    "display(events_funnel)\n",
    "\n",
    "# Gráfico de funnel:\n",
    "fig = go.Figure(go.Funnel(\n",
    "    y = events_sequence,\n",
    "    x = events_funnel['users']\n",
    "    ))\n",
    "fig.show()"
   ]
  },
  {
   "cell_type": "markdown",
   "metadata": {},
   "source": [
    "## Conclusiones del embudo de eventos:\n",
    "\n",
    "- **login**: 13636 usuarios distintos registraron este evento. Desde este primer evento a la etapa de final de compra llega un 33.5% de los usuarios.\n",
    "- **product_page**: 8923 usuarios distintos registraron este evento. En proporción a la etapa inicial 65.4 % de los usuarios son los que llegan a esta etapa.\n",
    "- **product_cart**: 4394 usuarios distintos registraron este evento. 49.2% de los usuarios que estuvieron anteriormente en `product_page` llegan a esta etapa y 32.2% respecto a `login`.\n",
    "- **purchase**: Finalmente 4563 usuarios distintos registraron este evento. 103.8% respecto a `product_cart`, es probable que algunos usuarios hayan interactuado con este evento sin previamente haber pasado por el carrito de compras."
   ]
  },
  {
   "cell_type": "markdown",
   "metadata": {},
   "source": [
    "<div class=\"alert alert-block alert-success\">\n",
    "<b>Comentario del revisor (1ra Iteracion)</b> <a class=“tocSkip”></a>\n",
    "\n",
    "Muy bien hecho! La visualización es correcta para este caso \n",
    "</div>"
   ]
  },
  {
   "cell_type": "markdown",
   "metadata": {},
   "source": [
    "# Evaluación de la prueba A/B"
   ]
  },
  {
   "cell_type": "markdown",
   "metadata": {},
   "source": [
    "## Definir los usuarios para cada grupo"
   ]
  },
  {
   "cell_type": "code",
   "execution_count": 115,
   "metadata": {},
   "outputs": [
    {
     "name": "stdout",
     "output_type": "stream",
     "text": [
      "Total de usuarios que pertenecen al grupo A: 7874\n",
      "Total de usuarios que pertenecen al grupo B: 6205\n"
     ]
    }
   ],
   "source": [
    "# Inicialmente necesitaremos filtrar los datos por los grupos de control y prueba:\n",
    "group_A = df5_ab_events_participants[df5_ab_events_participants['group'] == 'A']\n",
    "group_B = df5_ab_events_participants[df5_ab_events_participants['group'] == 'B']\n",
    "\n",
    "# Contar usuarios únicos que realizaron la prueba (sólo usuarios pertenecientes a los grupos A y B):\n",
    "total_users_A = group_A['user_id'].nunique()\n",
    "total_users_B = group_B['user_id'].nunique()\n",
    "\n",
    "print('Total de usuarios que pertenecen al grupo A:', total_users_A)\n",
    "print('Total de usuarios que pertenecen al grupo B:', total_users_B)"
   ]
  },
  {
   "cell_type": "code",
   "execution_count": 126,
   "metadata": {},
   "outputs": [
    {
     "name": "stderr",
     "output_type": "stream",
     "text": [
      "C:\\Users\\c_ort\\AppData\\Local\\Temp\\ipykernel_21440\\4081049815.py:2: FutureWarning:\n",
      "\n",
      "The default of observed=False is deprecated and will be changed to True in a future version of pandas. Pass observed=False to retain current behavior or observed=True to adopt the future default and silence this warning.\n",
      "\n"
     ]
    },
    {
     "data": {
      "text/html": [
       "<div>\n",
       "<style scoped>\n",
       "    .dataframe tbody tr th:only-of-type {\n",
       "        vertical-align: middle;\n",
       "    }\n",
       "\n",
       "    .dataframe tbody tr th {\n",
       "        vertical-align: top;\n",
       "    }\n",
       "\n",
       "    .dataframe thead th {\n",
       "        text-align: right;\n",
       "    }\n",
       "</style>\n",
       "<table border=\"1\" class=\"dataframe\">\n",
       "  <thead>\n",
       "    <tr style=\"text-align: right;\">\n",
       "      <th>group</th>\n",
       "      <th>event_name</th>\n",
       "      <th>A</th>\n",
       "      <th>B</th>\n",
       "    </tr>\n",
       "  </thead>\n",
       "  <tbody>\n",
       "    <tr>\n",
       "      <th>0</th>\n",
       "      <td>login</td>\n",
       "      <td>7873</td>\n",
       "      <td>6204</td>\n",
       "    </tr>\n",
       "    <tr>\n",
       "      <th>1</th>\n",
       "      <td>product_cart</td>\n",
       "      <td>2483</td>\n",
       "      <td>2037</td>\n",
       "    </tr>\n",
       "    <tr>\n",
       "      <th>2</th>\n",
       "      <td>product_page</td>\n",
       "      <td>5208</td>\n",
       "      <td>3986</td>\n",
       "    </tr>\n",
       "    <tr>\n",
       "      <th>3</th>\n",
       "      <td>purchase</td>\n",
       "      <td>2682</td>\n",
       "      <td>2008</td>\n",
       "    </tr>\n",
       "  </tbody>\n",
       "</table>\n",
       "</div>"
      ],
      "text/plain": [
       "group    event_name     A     B\n",
       "0             login  7873  6204\n",
       "1      product_cart  2483  2037\n",
       "2      product_page  5208  3986\n",
       "3          purchase  2682  2008"
      ]
     },
     "metadata": {},
     "output_type": "display_data"
    }
   ],
   "source": [
    "# Ahora necesitamos resumir como se distribuyen los usuarios en cada evento para cada grupo:\n",
    "summary = df5_ab_events_participants.groupby(['group', 'event_name']).agg({'user_id': 'nunique'}).reset_index()\n",
    "summary_pivot = summary.pivot(index='event_name', columns='group', values='user_id').reset_index()\n",
    "\n",
    "display(summary_pivot)"
   ]
  },
  {
   "cell_type": "code",
   "execution_count": 127,
   "metadata": {},
   "outputs": [
    {
     "data": {
      "text/html": [
       "<div>\n",
       "<style scoped>\n",
       "    .dataframe tbody tr th:only-of-type {\n",
       "        vertical-align: middle;\n",
       "    }\n",
       "\n",
       "    .dataframe tbody tr th {\n",
       "        vertical-align: top;\n",
       "    }\n",
       "\n",
       "    .dataframe thead th {\n",
       "        text-align: right;\n",
       "    }\n",
       "</style>\n",
       "<table border=\"1\" class=\"dataframe\">\n",
       "  <thead>\n",
       "    <tr style=\"text-align: right;\">\n",
       "      <th>group</th>\n",
       "      <th>event_name</th>\n",
       "      <th>A</th>\n",
       "      <th>B</th>\n",
       "      <th>conversion_A</th>\n",
       "      <th>conversion_B</th>\n",
       "    </tr>\n",
       "  </thead>\n",
       "  <tbody>\n",
       "    <tr>\n",
       "      <th>0</th>\n",
       "      <td>login</td>\n",
       "      <td>7873</td>\n",
       "      <td>6204</td>\n",
       "      <td>0.999873</td>\n",
       "      <td>0.999839</td>\n",
       "    </tr>\n",
       "    <tr>\n",
       "      <th>1</th>\n",
       "      <td>product_cart</td>\n",
       "      <td>2483</td>\n",
       "      <td>2037</td>\n",
       "      <td>0.315342</td>\n",
       "      <td>0.328284</td>\n",
       "    </tr>\n",
       "    <tr>\n",
       "      <th>2</th>\n",
       "      <td>product_page</td>\n",
       "      <td>5208</td>\n",
       "      <td>3986</td>\n",
       "      <td>0.661417</td>\n",
       "      <td>0.642385</td>\n",
       "    </tr>\n",
       "    <tr>\n",
       "      <th>3</th>\n",
       "      <td>purchase</td>\n",
       "      <td>2682</td>\n",
       "      <td>2008</td>\n",
       "      <td>0.340615</td>\n",
       "      <td>0.323610</td>\n",
       "    </tr>\n",
       "  </tbody>\n",
       "</table>\n",
       "</div>"
      ],
      "text/plain": [
       "group    event_name     A     B  conversion_A  conversion_B\n",
       "0             login  7873  6204      0.999873      0.999839\n",
       "1      product_cart  2483  2037      0.315342      0.328284\n",
       "2      product_page  5208  3986      0.661417      0.642385\n",
       "3          purchase  2682  2008      0.340615      0.323610"
      ]
     },
     "metadata": {},
     "output_type": "display_data"
    }
   ],
   "source": [
    "# Calculamos las tasas de conversión para cada grupo:\n",
    "summary_pivot['conversion_A'] = summary_pivot['A'] / total_users_A\n",
    "summary_pivot['conversion_B'] = summary_pivot['B'] / total_users_B\n",
    "\n",
    "display(summary_pivot)"
   ]
  },
  {
   "cell_type": "code",
   "execution_count": 128,
   "metadata": {},
   "outputs": [
    {
     "data": {
      "text/html": [
       "<div>\n",
       "<style scoped>\n",
       "    .dataframe tbody tr th:only-of-type {\n",
       "        vertical-align: middle;\n",
       "    }\n",
       "\n",
       "    .dataframe tbody tr th {\n",
       "        vertical-align: top;\n",
       "    }\n",
       "\n",
       "    .dataframe thead th {\n",
       "        text-align: right;\n",
       "    }\n",
       "</style>\n",
       "<table border=\"1\" class=\"dataframe\">\n",
       "  <thead>\n",
       "    <tr style=\"text-align: right;\">\n",
       "      <th>group</th>\n",
       "      <th>event_name</th>\n",
       "      <th>A</th>\n",
       "      <th>B</th>\n",
       "      <th>conversion_A</th>\n",
       "      <th>conversion_B</th>\n",
       "      <th>difference</th>\n",
       "      <th>expected_increase</th>\n",
       "    </tr>\n",
       "  </thead>\n",
       "  <tbody>\n",
       "    <tr>\n",
       "      <th>0</th>\n",
       "      <td>login</td>\n",
       "      <td>7873</td>\n",
       "      <td>6204</td>\n",
       "      <td>0.999873</td>\n",
       "      <td>0.999839</td>\n",
       "      <td>-0.000034</td>\n",
       "      <td>0.099987</td>\n",
       "    </tr>\n",
       "    <tr>\n",
       "      <th>1</th>\n",
       "      <td>product_cart</td>\n",
       "      <td>2483</td>\n",
       "      <td>2037</td>\n",
       "      <td>0.315342</td>\n",
       "      <td>0.328284</td>\n",
       "      <td>0.012942</td>\n",
       "      <td>0.031534</td>\n",
       "    </tr>\n",
       "    <tr>\n",
       "      <th>2</th>\n",
       "      <td>product_page</td>\n",
       "      <td>5208</td>\n",
       "      <td>3986</td>\n",
       "      <td>0.661417</td>\n",
       "      <td>0.642385</td>\n",
       "      <td>-0.019032</td>\n",
       "      <td>0.066142</td>\n",
       "    </tr>\n",
       "    <tr>\n",
       "      <th>3</th>\n",
       "      <td>purchase</td>\n",
       "      <td>2682</td>\n",
       "      <td>2008</td>\n",
       "      <td>0.340615</td>\n",
       "      <td>0.323610</td>\n",
       "      <td>-0.017005</td>\n",
       "      <td>0.034061</td>\n",
       "    </tr>\n",
       "  </tbody>\n",
       "</table>\n",
       "</div>"
      ],
      "text/plain": [
       "group    event_name     A     B  conversion_A  conversion_B  difference  \\\n",
       "0             login  7873  6204      0.999873      0.999839   -0.000034   \n",
       "1      product_cart  2483  2037      0.315342      0.328284    0.012942   \n",
       "2      product_page  5208  3986      0.661417      0.642385   -0.019032   \n",
       "3          purchase  2682  2008      0.340615      0.323610   -0.017005   \n",
       "\n",
       "group  expected_increase  \n",
       "0               0.099987  \n",
       "1               0.031534  \n",
       "2               0.066142  \n",
       "3               0.034061  "
      ]
     },
     "metadata": {},
     "output_type": "display_data"
    }
   ],
   "source": [
    "# Calcular diferencias en tasas de conversión y el incremento esperado del 10% (según lo planteado en el resultado esperado):\n",
    "summary_pivot['difference'] = summary_pivot['conversion_B'] - summary_pivot['conversion_A']\n",
    "summary_pivot['expected_increase'] = summary_pivot['conversion_A'] * 0.10\n",
    "\n",
    "display(summary_pivot)"
   ]
  },
  {
   "cell_type": "code",
   "execution_count": 129,
   "metadata": {},
   "outputs": [
    {
     "data": {
      "text/html": [
       "<div>\n",
       "<style scoped>\n",
       "    .dataframe tbody tr th:only-of-type {\n",
       "        vertical-align: middle;\n",
       "    }\n",
       "\n",
       "    .dataframe tbody tr th {\n",
       "        vertical-align: top;\n",
       "    }\n",
       "\n",
       "    .dataframe thead th {\n",
       "        text-align: right;\n",
       "    }\n",
       "</style>\n",
       "<table border=\"1\" class=\"dataframe\">\n",
       "  <thead>\n",
       "    <tr style=\"text-align: right;\">\n",
       "      <th>group</th>\n",
       "      <th>event_name</th>\n",
       "      <th>A</th>\n",
       "      <th>B</th>\n",
       "      <th>conversion_A</th>\n",
       "      <th>conversion_B</th>\n",
       "      <th>difference</th>\n",
       "      <th>expected_increase</th>\n",
       "      <th>z_stat</th>\n",
       "      <th>p_val</th>\n",
       "    </tr>\n",
       "  </thead>\n",
       "  <tbody>\n",
       "    <tr>\n",
       "      <th>0</th>\n",
       "      <td>login</td>\n",
       "      <td>7873</td>\n",
       "      <td>6204</td>\n",
       "      <td>0.999873</td>\n",
       "      <td>0.999839</td>\n",
       "      <td>-0.000034</td>\n",
       "      <td>0.099987</td>\n",
       "      <td>0.168851</td>\n",
       "      <td>0.865914</td>\n",
       "    </tr>\n",
       "    <tr>\n",
       "      <th>1</th>\n",
       "      <td>product_cart</td>\n",
       "      <td>2483</td>\n",
       "      <td>2037</td>\n",
       "      <td>0.315342</td>\n",
       "      <td>0.328284</td>\n",
       "      <td>0.012942</td>\n",
       "      <td>0.031534</td>\n",
       "      <td>-1.632980</td>\n",
       "      <td>0.102473</td>\n",
       "    </tr>\n",
       "    <tr>\n",
       "      <th>2</th>\n",
       "      <td>product_page</td>\n",
       "      <td>5208</td>\n",
       "      <td>3986</td>\n",
       "      <td>0.661417</td>\n",
       "      <td>0.642385</td>\n",
       "      <td>-0.019032</td>\n",
       "      <td>0.066142</td>\n",
       "      <td>2.355363</td>\n",
       "      <td>0.018505</td>\n",
       "    </tr>\n",
       "    <tr>\n",
       "      <th>3</th>\n",
       "      <td>purchase</td>\n",
       "      <td>2682</td>\n",
       "      <td>2008</td>\n",
       "      <td>0.340615</td>\n",
       "      <td>0.323610</td>\n",
       "      <td>-0.017005</td>\n",
       "      <td>0.034061</td>\n",
       "      <td>2.125334</td>\n",
       "      <td>0.033559</td>\n",
       "    </tr>\n",
       "  </tbody>\n",
       "</table>\n",
       "</div>"
      ],
      "text/plain": [
       "group    event_name     A     B  conversion_A  conversion_B  difference  \\\n",
       "0             login  7873  6204      0.999873      0.999839   -0.000034   \n",
       "1      product_cart  2483  2037      0.315342      0.328284    0.012942   \n",
       "2      product_page  5208  3986      0.661417      0.642385   -0.019032   \n",
       "3          purchase  2682  2008      0.340615      0.323610   -0.017005   \n",
       "\n",
       "group  expected_increase    z_stat     p_val  \n",
       "0               0.099987  0.168851  0.865914  \n",
       "1               0.031534 -1.632980  0.102473  \n",
       "2               0.066142  2.355363  0.018505  \n",
       "3               0.034061  2.125334  0.033559  "
      ]
     },
     "metadata": {},
     "output_type": "display_data"
    }
   ],
   "source": [
    "# Finalmente realizaremos la prueba de proporciones para cada evento:\n",
    "for event in summary_pivot['event_name']:\n",
    "    count_A = summary_pivot[summary_pivot['event_name'] == event]['A'].values[0]\n",
    "    count_B = summary_pivot[summary_pivot['event_name'] == event]['B'].values[0]\n",
    "    \n",
    "    z_stat, p_val = sm.stats.proportions_ztest([count_A, count_B], [total_users_A, total_users_B])\n",
    "    summary_pivot.loc[summary_pivot['event_name'] == event, 'z_stat'] = z_stat\n",
    "    summary_pivot.loc[summary_pivot['event_name'] == event, 'p_val'] = p_val\n",
    "    \n",
    "display(summary_pivot)"
   ]
  },
  {
   "cell_type": "markdown",
   "metadata": {},
   "source": [
    "<div class=\"alert alert-block alert-success\">\n",
    "<b>Comentario del revisor (1ra Iteracion)</b> <a class=“tocSkip”></a>\n",
    "\n",
    "Muy buen trabajo! Siempre es bueno revisar por cada parte del embudo si hay algún cambio estadísticamente significativo\n",
    "</div>"
   ]
  },
  {
   "cell_type": "markdown",
   "metadata": {},
   "source": [
    "## Interpretación de Resultados:\n",
    "\n",
    "Valores p para los grupos A, B:\n",
    "\n",
    "* product_page: **p_val** = 0.018505\n",
    "* product_cart: **p_val** = 0.102473\n",
    "* purchase: **p_val** = 0.033559\n",
    "\n",
    "La prueba no mostró un aumento del 10% en las tasas de conversión para ninguno de los eventos del embudo (product_page, product_cart, purchase)."
   ]
  },
  {
   "cell_type": "markdown",
   "metadata": {},
   "source": [
    "## Recomendaciones:\n",
    "1. Realizar más iteraciones de pruebas para afinar el sistema de recomendaciones.\n",
    "2. Explorar otros factores que pueden estar influyendo en las tasas de conversión.\n",
    "3. Considerar mejoras adicionales en el sistema de recomendaciones y re-evaluar con una nueva prueba A/B."
   ]
  },
  {
   "cell_type": "markdown",
   "metadata": {},
   "source": [
    "<div class=\"alert alert-block alert-info\">\n",
    "<b>Comentario general (1ra Iteracion)</b> <a class=“tocSkip”></a>\n",
    "\n",
    "Hiciste un trabajo muy bueno Christian, solo que hay una parte donde hubo una confusión para los grupos que debes analizar ya que creaste otro grupo más lo cual luego afecta el resto de métricas.\n",
    "    \n",
    "Te he dejado algunos comentarios en esas partes para que puedas realizar las correcciones y aplicar de nuevo las pruebas de hipótesisis y demás.\n",
    "    \n",
    "    \n",
    "Saludos.\n",
    "</div>"
   ]
  },
  {
   "cell_type": "markdown",
   "metadata": {},
   "source": [
    "<div class=\"alert alert-block alert-info\">\n",
    "<b>Respuesta del estudiante</b> \n",
    "Las correcciones fueron realizadas y hecha una nueva prueba de hipótesis para los grupos <a class=“tocSkip”></a>\n",
    "</div>"
   ]
  },
  {
   "cell_type": "markdown",
   "metadata": {},
   "source": [
    "<div class=\"alert alert-block alert-success\">\n",
    "<b>Comentario del revisor (2da Iteracion)</b> <a class=“tocSkip”></a>\n",
    "\n",
    "Muy bien hecho! Ahora obtuviste otros resultados ya que aplicaste las pruebas de hipótesis sobre los datos correctos\n",
    "</div>"
   ]
  }
 ],
 "metadata": {
  "ExecuteTimeLog": [
   {
    "duration": 5566,
    "start_time": "2024-08-09T23:16:31.884Z"
   },
   {
    "duration": 3909,
    "start_time": "2024-08-09T23:16:37.454Z"
   },
   {
    "duration": 16,
    "start_time": "2024-08-09T23:16:41.366Z"
   },
   {
    "duration": 20,
    "start_time": "2024-08-09T23:16:41.388Z"
   },
   {
    "duration": 23,
    "start_time": "2024-08-09T23:16:41.412Z"
   },
   {
    "duration": 19,
    "start_time": "2024-08-09T23:16:41.440Z"
   },
   {
    "duration": 114,
    "start_time": "2024-08-09T23:16:41.461Z"
   },
   {
    "duration": 56,
    "start_time": "2024-08-09T23:16:41.578Z"
   },
   {
    "duration": 18,
    "start_time": "2024-08-09T23:16:41.637Z"
   },
   {
    "duration": 46,
    "start_time": "2024-08-09T23:16:41.663Z"
   },
   {
    "duration": 1609,
    "start_time": "2024-08-09T23:16:41.713Z"
   },
   {
    "duration": 34,
    "start_time": "2024-08-09T23:16:43.326Z"
   },
   {
    "duration": 223,
    "start_time": "2024-08-09T23:16:43.364Z"
   },
   {
    "duration": 260,
    "start_time": "2024-08-09T23:16:43.590Z"
   },
   {
    "duration": 25,
    "start_time": "2024-08-09T23:16:43.853Z"
   },
   {
    "duration": 49,
    "start_time": "2024-08-09T23:16:43.881Z"
   },
   {
    "duration": 11,
    "start_time": "2024-08-09T23:16:43.935Z"
   },
   {
    "duration": 102,
    "start_time": "2024-08-09T23:16:43.952Z"
   },
   {
    "duration": 5,
    "start_time": "2024-08-09T23:16:44.057Z"
   },
   {
    "duration": 263,
    "start_time": "2024-08-09T23:16:44.065Z"
   },
   {
    "duration": 978,
    "start_time": "2024-08-09T23:16:44.331Z"
   },
   {
    "duration": 0,
    "start_time": "2024-08-09T23:16:45.313Z"
   },
   {
    "duration": 0,
    "start_time": "2024-08-09T23:16:45.315Z"
   },
   {
    "duration": 0,
    "start_time": "2024-08-09T23:16:45.317Z"
   },
   {
    "duration": 0,
    "start_time": "2024-08-09T23:16:45.321Z"
   },
   {
    "duration": 0,
    "start_time": "2024-08-09T23:16:45.324Z"
   },
   {
    "duration": 0,
    "start_time": "2024-08-09T23:16:45.326Z"
   },
   {
    "duration": 0,
    "start_time": "2024-08-09T23:16:45.329Z"
   },
   {
    "duration": 39,
    "start_time": "2024-08-09T23:23:01.831Z"
   },
   {
    "duration": 28,
    "start_time": "2024-08-09T23:23:01.979Z"
   },
   {
    "duration": 127,
    "start_time": "2024-08-09T23:23:08.135Z"
   },
   {
    "duration": 5,
    "start_time": "2024-08-09T23:23:13.331Z"
   },
   {
    "duration": 5,
    "start_time": "2024-08-09T23:23:14.027Z"
   },
   {
    "duration": 5,
    "start_time": "2024-08-09T23:23:15.191Z"
   },
   {
    "duration": 220,
    "start_time": "2024-08-09T23:23:18.725Z"
   },
   {
    "duration": 83,
    "start_time": "2024-08-09T23:24:00.888Z"
   },
   {
    "duration": 214,
    "start_time": "2024-08-09T23:24:01.066Z"
   }
  ],
  "kernelspec": {
   "display_name": "Python 3 (ipykernel)",
   "language": "python",
   "name": "python3"
  },
  "language_info": {
   "codemirror_mode": {
    "name": "ipython",
    "version": 3
   },
   "file_extension": ".py",
   "mimetype": "text/x-python",
   "name": "python",
   "nbconvert_exporter": "python",
   "pygments_lexer": "ipython3",
   "version": "3.9.19"
  },
  "toc": {
   "base_numbering": 1,
   "nav_menu": {},
   "number_sections": true,
   "sideBar": true,
   "skip_h1_title": true,
   "title_cell": "Table of Contents",
   "title_sidebar": "Contents",
   "toc_cell": false,
   "toc_position": {},
   "toc_section_display": true,
   "toc_window_display": false
  }
 },
 "nbformat": 4,
 "nbformat_minor": 2
}
