{
 "cells": [
  {
   "cell_type": "markdown",
   "metadata": {},
   "source": [
    "# Descripción del proyecto\n",
    "Has decidido abrir un pequeño café regentado por robots en Los Ángeles. El proyecto es prometedor pero caro, así que tú y tus compañeros decidís intentar atraer inversionistas. Están interesados en las condiciones actuales del mercado, ¿serás capaz de mantener tu éxito cuando la novedad de los camareros robot desaparezca?\n",
    "\n",
    "Eres un gurú del análisis así que te han pedido que prepares un estudio de mercado. Tienes datos procedentes de fuentes abiertas sobre restaurantes en LA."
   ]
  },
  {
   "cell_type": "markdown",
   "metadata": {},
   "source": [
    "# Paso 1. Descarga los datos y prepáralos para el análisis\n",
    "\n",
    "Descarga los datos de los restaurantes en LA. Asegúrate de que el tipo de datos para cada columna es correcto y que no hay valores ausentes o duplicados. Procésalos si es necesario.\n",
    "\n",
    "Ruta de archivo: /datasets/rest_data_us_upd.csv. [Descargar dataset](https://practicum-content.s3.amazonaws.com/datasets/rest_data_us_upd.csv)"
   ]
  },
  {
   "cell_type": "markdown",
   "metadata": {},
   "source": [
    "## Descripción de datos\n",
    "\n",
    "**Tabla rest_data:**\n",
    "\n",
    "- object_name — nombre del establecimiento\n",
    "- chain — establecimiento que pertenece a una cadena (TRUE/FALSE)\n",
    "- object_type — tipo de establecimiento\n",
    "- address — dirección\n",
    "- number — número de asientos"
   ]
  },
  {
   "cell_type": "markdown",
   "metadata": {},
   "source": [
    "## Preparación de los datos"
   ]
  },
  {
   "cell_type": "markdown",
   "metadata": {},
   "source": [
    "### Importe de librerías, creación de DataFrames y revisión preliminar de la información:"
   ]
  },
  {
   "cell_type": "code",
   "execution_count": 1,
   "metadata": {},
   "outputs": [],
   "source": [
    "#Importe de librerías a usar en el desarrollo del proyecto:\n",
    "\n",
    "import pandas as pd\n",
    "import seaborn as sns\n",
    "import matplotlib.pyplot as plt\n",
    "import plotly.express as px\n",
    "\n",
    "from plotly import graph_objects as go\n"
   ]
  },
  {
   "cell_type": "code",
   "execution_count": 2,
   "metadata": {},
   "outputs": [],
   "source": [
    "#Lectura de dataset como fuente de datos y creación de DataFrame a desarrollar:\n",
    "\n",
    "df = pd.read_csv('https://practicum-content.s3.amazonaws.com/datasets/rest_data_us_upd.csv')"
   ]
  },
  {
   "cell_type": "markdown",
   "metadata": {},
   "source": [
    "<div class=\"alert alert-block alert-success\">\n",
    "<b>Comentario del revisor (1ra Iteración)</b> <a class=“tocSkip”></a>\n",
    "\n",
    "Perfecto, datos y librerías cargados correctamente\n",
    "</div>"
   ]
  },
  {
   "cell_type": "code",
   "execution_count": 3,
   "metadata": {},
   "outputs": [
    {
     "name": "stdout",
     "output_type": "stream",
     "text": [
      "<class 'pandas.core.frame.DataFrame'>\n",
      "RangeIndex: 9651 entries, 0 to 9650\n",
      "Data columns (total 6 columns):\n",
      " #   Column       Non-Null Count  Dtype \n",
      "---  ------       --------------  ----- \n",
      " 0   id           9651 non-null   int64 \n",
      " 1   object_name  9651 non-null   object\n",
      " 2   address      9651 non-null   object\n",
      " 3   chain        9648 non-null   object\n",
      " 4   object_type  9651 non-null   object\n",
      " 5   number       9651 non-null   int64 \n",
      "dtypes: int64(2), object(4)\n",
      "memory usage: 452.5+ KB\n"
     ]
    }
   ],
   "source": [
    "df.info()"
   ]
  },
  {
   "cell_type": "code",
   "execution_count": 4,
   "metadata": {},
   "outputs": [
    {
     "data": {
      "text/html": [
       "<div>\n",
       "<style scoped>\n",
       "    .dataframe tbody tr th:only-of-type {\n",
       "        vertical-align: middle;\n",
       "    }\n",
       "\n",
       "    .dataframe tbody tr th {\n",
       "        vertical-align: top;\n",
       "    }\n",
       "\n",
       "    .dataframe thead th {\n",
       "        text-align: right;\n",
       "    }\n",
       "</style>\n",
       "<table border=\"1\" class=\"dataframe\">\n",
       "  <thead>\n",
       "    <tr style=\"text-align: right;\">\n",
       "      <th></th>\n",
       "      <th>id</th>\n",
       "      <th>object_name</th>\n",
       "      <th>address</th>\n",
       "      <th>chain</th>\n",
       "      <th>object_type</th>\n",
       "      <th>number</th>\n",
       "    </tr>\n",
       "  </thead>\n",
       "  <tbody>\n",
       "    <tr>\n",
       "      <th>3324</th>\n",
       "      <td>15110</td>\n",
       "      <td>BANQUET KITCHEN</td>\n",
       "      <td>135 N GRAND AVE</td>\n",
       "      <td>False</td>\n",
       "      <td>Restaurant</td>\n",
       "      <td>185</td>\n",
       "    </tr>\n",
       "    <tr>\n",
       "      <th>8592</th>\n",
       "      <td>20378</td>\n",
       "      <td>BURGER KING #06023</td>\n",
       "      <td>7201 S FIGUEROA AVE</td>\n",
       "      <td>True</td>\n",
       "      <td>Fast Food</td>\n",
       "      <td>81</td>\n",
       "    </tr>\n",
       "    <tr>\n",
       "      <th>7431</th>\n",
       "      <td>19217</td>\n",
       "      <td>FEAST FROM THE EAST</td>\n",
       "      <td>1949 WESTWOOD BLVD</td>\n",
       "      <td>False</td>\n",
       "      <td>Restaurant</td>\n",
       "      <td>33</td>\n",
       "    </tr>\n",
       "    <tr>\n",
       "      <th>1668</th>\n",
       "      <td>13454</td>\n",
       "      <td>THE TRAILS</td>\n",
       "      <td>2333 FERN DELL DR</td>\n",
       "      <td>False</td>\n",
       "      <td>Restaurant</td>\n",
       "      <td>21</td>\n",
       "    </tr>\n",
       "    <tr>\n",
       "      <th>1040</th>\n",
       "      <td>12826</td>\n",
       "      <td>THE BOWERY</td>\n",
       "      <td>1234 W 7TH ST</td>\n",
       "      <td>False</td>\n",
       "      <td>Restaurant</td>\n",
       "      <td>32</td>\n",
       "    </tr>\n",
       "    <tr>\n",
       "      <th>6397</th>\n",
       "      <td>18183</td>\n",
       "      <td>EAST WEST CAFE</td>\n",
       "      <td>404 S FIGUEROA ST STE #402</td>\n",
       "      <td>True</td>\n",
       "      <td>Restaurant</td>\n",
       "      <td>24</td>\n",
       "    </tr>\n",
       "    <tr>\n",
       "      <th>7708</th>\n",
       "      <td>19494</td>\n",
       "      <td>RED MANGO YOGURT &amp; SMOOTHIES</td>\n",
       "      <td>1011 S FIGUEROA ST #B 120</td>\n",
       "      <td>False</td>\n",
       "      <td>Restaurant</td>\n",
       "      <td>5</td>\n",
       "    </tr>\n",
       "    <tr>\n",
       "      <th>3389</th>\n",
       "      <td>15175</td>\n",
       "      <td>WILSHIRE COUNTRY CLUB</td>\n",
       "      <td>301 N ROSSMORE AVE</td>\n",
       "      <td>False</td>\n",
       "      <td>Restaurant</td>\n",
       "      <td>192</td>\n",
       "    </tr>\n",
       "    <tr>\n",
       "      <th>1472</th>\n",
       "      <td>13258</td>\n",
       "      <td>WOODY'S BAR-B-Q</td>\n",
       "      <td>3446 W SLAUSON AVE</td>\n",
       "      <td>False</td>\n",
       "      <td>Bar</td>\n",
       "      <td>2</td>\n",
       "    </tr>\n",
       "    <tr>\n",
       "      <th>2781</th>\n",
       "      <td>14567</td>\n",
       "      <td>SHAWARMA LAND</td>\n",
       "      <td>10821 VENICE BLVD</td>\n",
       "      <td>False</td>\n",
       "      <td>Restaurant</td>\n",
       "      <td>41</td>\n",
       "    </tr>\n",
       "    <tr>\n",
       "      <th>2964</th>\n",
       "      <td>14750</td>\n",
       "      <td>NEW EAST INDIA GRILL</td>\n",
       "      <td>345 N LA BREA AVE STE 205</td>\n",
       "      <td>False</td>\n",
       "      <td>Restaurant</td>\n",
       "      <td>46</td>\n",
       "    </tr>\n",
       "    <tr>\n",
       "      <th>3707</th>\n",
       "      <td>15493</td>\n",
       "      <td>LUNCHSTOP AIRPORT COURTHOUSE</td>\n",
       "      <td>11701 S LA CIENEGA BLVD</td>\n",
       "      <td>False</td>\n",
       "      <td>Restaurant</td>\n",
       "      <td>107</td>\n",
       "    </tr>\n",
       "    <tr>\n",
       "      <th>3250</th>\n",
       "      <td>15036</td>\n",
       "      <td>GUREUNSAN</td>\n",
       "      <td>1101 S VERMONT AVE UNIT 103-0</td>\n",
       "      <td>False</td>\n",
       "      <td>Restaurant</td>\n",
       "      <td>124</td>\n",
       "    </tr>\n",
       "    <tr>\n",
       "      <th>6893</th>\n",
       "      <td>18679</td>\n",
       "      <td>SUBWAY</td>\n",
       "      <td>1400 W PICO BLVD</td>\n",
       "      <td>True</td>\n",
       "      <td>Fast Food</td>\n",
       "      <td>20</td>\n",
       "    </tr>\n",
       "    <tr>\n",
       "      <th>7940</th>\n",
       "      <td>19726</td>\n",
       "      <td>ALOHA CAFE</td>\n",
       "      <td>410 E 2ND ST</td>\n",
       "      <td>False</td>\n",
       "      <td>Restaurant</td>\n",
       "      <td>40</td>\n",
       "    </tr>\n",
       "  </tbody>\n",
       "</table>\n",
       "</div>"
      ],
      "text/plain": [
       "         id                   object_name                        address  \\\n",
       "3324  15110               BANQUET KITCHEN                135 N GRAND AVE   \n",
       "8592  20378            BURGER KING #06023            7201 S FIGUEROA AVE   \n",
       "7431  19217           FEAST FROM THE EAST             1949 WESTWOOD BLVD   \n",
       "1668  13454                    THE TRAILS              2333 FERN DELL DR   \n",
       "1040  12826                    THE BOWERY                  1234 W 7TH ST   \n",
       "6397  18183                EAST WEST CAFE     404 S FIGUEROA ST STE #402   \n",
       "7708  19494  RED MANGO YOGURT & SMOOTHIES      1011 S FIGUEROA ST #B 120   \n",
       "3389  15175         WILSHIRE COUNTRY CLUB             301 N ROSSMORE AVE   \n",
       "1472  13258               WOODY'S BAR-B-Q             3446 W SLAUSON AVE   \n",
       "2781  14567                 SHAWARMA LAND              10821 VENICE BLVD   \n",
       "2964  14750          NEW EAST INDIA GRILL      345 N LA BREA AVE STE 205   \n",
       "3707  15493  LUNCHSTOP AIRPORT COURTHOUSE        11701 S LA CIENEGA BLVD   \n",
       "3250  15036                     GUREUNSAN  1101 S VERMONT AVE UNIT 103-0   \n",
       "6893  18679                        SUBWAY               1400 W PICO BLVD   \n",
       "7940  19726                    ALOHA CAFE                   410 E 2ND ST   \n",
       "\n",
       "      chain object_type  number  \n",
       "3324  False  Restaurant     185  \n",
       "8592   True   Fast Food      81  \n",
       "7431  False  Restaurant      33  \n",
       "1668  False  Restaurant      21  \n",
       "1040  False  Restaurant      32  \n",
       "6397   True  Restaurant      24  \n",
       "7708  False  Restaurant       5  \n",
       "3389  False  Restaurant     192  \n",
       "1472  False         Bar       2  \n",
       "2781  False  Restaurant      41  \n",
       "2964  False  Restaurant      46  \n",
       "3707  False  Restaurant     107  \n",
       "3250  False  Restaurant     124  \n",
       "6893   True   Fast Food      20  \n",
       "7940  False  Restaurant      40  "
      ]
     },
     "execution_count": 4,
     "metadata": {},
     "output_type": "execute_result"
    }
   ],
   "source": [
    "#Revisión general de la información:\n",
    "\n",
    "df.sample(15)"
   ]
  },
  {
   "cell_type": "markdown",
   "metadata": {},
   "source": [
    "El dataset **rest_data_us_upd** almacenado ahora en el DataFrame **df** contiene 9651 registros con 6 columnas, de las cuales sólo 2 son del tipo entero y el resto son de tipo object. existen solamente 3 registros con datos nulos en la columna 'chain'\n",
    "\n",
    "Para mejorar la calidad de la información este dataset será estandarizado con:\n",
    "\n",
    "- Serán revisados los registros con datos nulos. Reemplazados y/o eliminados en caso que la cantidad no sea representativa para el análisis del dataset.\n",
    "- Se revisarán los datos duplicados.\n",
    "- La columnas tipo 'Object' será modificada a tipo 'Category' para obtener un [mejor procesamiento de los datos](https://pfr.com.ar/dtypes/).\n",
    "\n"
   ]
  },
  {
   "cell_type": "markdown",
   "metadata": {},
   "source": [
    "#### Revisión y tratamiento de datos nulos:"
   ]
  },
  {
   "cell_type": "code",
   "execution_count": 5,
   "metadata": {},
   "outputs": [
    {
     "data": {
      "text/plain": [
       "id             0\n",
       "object_name    0\n",
       "address        0\n",
       "chain          3\n",
       "object_type    0\n",
       "number         0\n",
       "dtype: int64"
      ]
     },
     "execution_count": 5,
     "metadata": {},
     "output_type": "execute_result"
    }
   ],
   "source": [
    "#Revisión de datos nulos en df:\n",
    "\n",
    "df_null_data = df.isnull().sum()\n",
    "\n",
    "df_null_data\n"
   ]
  },
  {
   "cell_type": "code",
   "execution_count": 6,
   "metadata": {},
   "outputs": [
    {
     "data": {
      "text/html": [
       "<div>\n",
       "<style scoped>\n",
       "    .dataframe tbody tr th:only-of-type {\n",
       "        vertical-align: middle;\n",
       "    }\n",
       "\n",
       "    .dataframe tbody tr th {\n",
       "        vertical-align: top;\n",
       "    }\n",
       "\n",
       "    .dataframe thead th {\n",
       "        text-align: right;\n",
       "    }\n",
       "</style>\n",
       "<table border=\"1\" class=\"dataframe\">\n",
       "  <thead>\n",
       "    <tr style=\"text-align: right;\">\n",
       "      <th></th>\n",
       "      <th>id</th>\n",
       "      <th>object_name</th>\n",
       "      <th>address</th>\n",
       "      <th>chain</th>\n",
       "      <th>object_type</th>\n",
       "      <th>number</th>\n",
       "    </tr>\n",
       "  </thead>\n",
       "  <tbody>\n",
       "    <tr>\n",
       "      <th>7408</th>\n",
       "      <td>19194</td>\n",
       "      <td>TAQUERIA LOS 3 CARNALES</td>\n",
       "      <td>5000 E WHITTIER BLVD</td>\n",
       "      <td>NaN</td>\n",
       "      <td>Restaurant</td>\n",
       "      <td>14</td>\n",
       "    </tr>\n",
       "    <tr>\n",
       "      <th>7523</th>\n",
       "      <td>19309</td>\n",
       "      <td>JAMMIN JIMMY'S PIZZA</td>\n",
       "      <td>1641 FIRESTONE BLVD</td>\n",
       "      <td>NaN</td>\n",
       "      <td>Pizza</td>\n",
       "      <td>1</td>\n",
       "    </tr>\n",
       "    <tr>\n",
       "      <th>8648</th>\n",
       "      <td>20434</td>\n",
       "      <td>THE LEXINGTON THEATER</td>\n",
       "      <td>129 E 3RD ST</td>\n",
       "      <td>NaN</td>\n",
       "      <td>Restaurant</td>\n",
       "      <td>35</td>\n",
       "    </tr>\n",
       "  </tbody>\n",
       "</table>\n",
       "</div>"
      ],
      "text/plain": [
       "         id              object_name               address chain object_type  \\\n",
       "7408  19194  TAQUERIA LOS 3 CARNALES  5000 E WHITTIER BLVD   NaN  Restaurant   \n",
       "7523  19309     JAMMIN JIMMY'S PIZZA   1641 FIRESTONE BLVD   NaN       Pizza   \n",
       "8648  20434    THE LEXINGTON THEATER          129 E 3RD ST   NaN  Restaurant   \n",
       "\n",
       "      number  \n",
       "7408      14  \n",
       "7523       1  \n",
       "8648      35  "
      ]
     },
     "metadata": {},
     "output_type": "display_data"
    },
    {
     "name": "stdout",
     "output_type": "stream",
     "text": [
      "El porcentaje de datos nulos respecto a la cantidad de registros es del: 0.031084861672365557 %\n"
     ]
    }
   ],
   "source": [
    "# Revisión de los restaurantes con el dato nulo en 'chain':\n",
    "\n",
    "null_data_chain = df[df['chain'].isnull()]\n",
    "\n",
    "display(null_data_chain) # ---> Revisión del dataframe filtrado con los datos nulos en chain\n",
    "\n",
    "print('El porcentaje de datos nulos respecto a la cantidad de registros es del:', (len(null_data_chain)/len(df)*100), '%')"
   ]
  },
  {
   "cell_type": "markdown",
   "metadata": {},
   "source": [
    "Dado el hecho que la cantidad de registros nulos representa menos del 0,05 % de los datos, serán descartados del estudio completo del dataframe."
   ]
  },
  {
   "cell_type": "code",
   "execution_count": 7,
   "metadata": {},
   "outputs": [],
   "source": [
    "# Eliminación de datos nulos de 'chain':\n",
    "\n",
    "df = df.dropna()\n"
   ]
  },
  {
   "cell_type": "code",
   "execution_count": 8,
   "metadata": {},
   "outputs": [
    {
     "name": "stdout",
     "output_type": "stream",
     "text": [
      "<class 'pandas.core.frame.DataFrame'>\n",
      "Index: 9648 entries, 0 to 9650\n",
      "Data columns (total 6 columns):\n",
      " #   Column       Non-Null Count  Dtype \n",
      "---  ------       --------------  ----- \n",
      " 0   id           9648 non-null   int64 \n",
      " 1   object_name  9648 non-null   object\n",
      " 2   address      9648 non-null   object\n",
      " 3   chain        9648 non-null   object\n",
      " 4   object_type  9648 non-null   object\n",
      " 5   number       9648 non-null   int64 \n",
      "dtypes: int64(2), object(4)\n",
      "memory usage: 527.6+ KB\n"
     ]
    }
   ],
   "source": [
    "df.info()"
   ]
  },
  {
   "cell_type": "markdown",
   "metadata": {},
   "source": [
    "#### Revisión y tratamiento de datos duplicados:"
   ]
  },
  {
   "cell_type": "code",
   "execution_count": 9,
   "metadata": {},
   "outputs": [
    {
     "name": "stdout",
     "output_type": "stream",
     "text": [
      "0\n"
     ]
    }
   ],
   "source": [
    "#Revisión de datos duplicados en df:\n",
    "\n",
    "df_duplicated_data = df.duplicated().sum()\n",
    "\n",
    "print(df_duplicated_data)"
   ]
  },
  {
   "cell_type": "markdown",
   "metadata": {},
   "source": [
    "No existen registros duplicados en el dataset **rest_data_us_upd**. Serán revisadas aquellas columnas que NO deberían tener datos duplicados. En este caso las columnas: 'id' y 'object_name'. Esto debido a que:\n",
    "\n",
    "1. No deben existir números de id repetidos.\n",
    "2. Si existen datos duplicados en los nombres, pueden pertenecer a una franquicia, pero los números de id deben ser distintos."
   ]
  },
  {
   "cell_type": "code",
   "execution_count": 10,
   "metadata": {},
   "outputs": [
    {
     "name": "stdout",
     "output_type": "stream",
     "text": [
      "id\n",
      "False    9648\n",
      "Name: count, dtype: int64\n"
     ]
    }
   ],
   "source": [
    "# Revisión de datos duplicados en 'id':\n",
    "\n",
    "df_duplicated_data_id = df['id'].duplicated()\n",
    "\n",
    "print(df_duplicated_data_id.value_counts())"
   ]
  },
  {
   "cell_type": "markdown",
   "metadata": {},
   "source": [
    "No existen números de 'id' repetidos. Todos son únicos."
   ]
  },
  {
   "cell_type": "code",
   "execution_count": 11,
   "metadata": {},
   "outputs": [
    {
     "name": "stdout",
     "output_type": "stream",
     "text": [
      "object_name\n",
      "False    8669\n",
      "True      979\n",
      "Name: count, dtype: int64\n"
     ]
    }
   ],
   "source": [
    "# Revisión de datos duplicados en 'object_name':\n",
    "\n",
    "df_duplicated_data_names = df['object_name'].duplicated()\n",
    "\n",
    "print(df_duplicated_data_names.value_counts())"
   ]
  },
  {
   "cell_type": "markdown",
   "metadata": {},
   "source": [
    "En este caso existen 979 registros que tienen el mismo nombre. Debemos corroborar que correspondan a una cadena."
   ]
  },
  {
   "cell_type": "code",
   "execution_count": 12,
   "metadata": {},
   "outputs": [
    {
     "data": {
      "text/html": [
       "<div>\n",
       "<style scoped>\n",
       "    .dataframe tbody tr th:only-of-type {\n",
       "        vertical-align: middle;\n",
       "    }\n",
       "\n",
       "    .dataframe tbody tr th {\n",
       "        vertical-align: top;\n",
       "    }\n",
       "\n",
       "    .dataframe thead th {\n",
       "        text-align: right;\n",
       "    }\n",
       "</style>\n",
       "<table border=\"1\" class=\"dataframe\">\n",
       "  <thead>\n",
       "    <tr style=\"text-align: right;\">\n",
       "      <th></th>\n",
       "      <th>id</th>\n",
       "      <th>object_name</th>\n",
       "      <th>address</th>\n",
       "      <th>chain</th>\n",
       "      <th>object_type</th>\n",
       "      <th>number</th>\n",
       "    </tr>\n",
       "  </thead>\n",
       "  <tbody>\n",
       "    <tr>\n",
       "      <th>8</th>\n",
       "      <td>11794</td>\n",
       "      <td>ABC DONUTS</td>\n",
       "      <td>3027 N SAN FERNANDO RD UNIT 103</td>\n",
       "      <td>True</td>\n",
       "      <td>Fast Food</td>\n",
       "      <td>1</td>\n",
       "    </tr>\n",
       "    <tr>\n",
       "      <th>4497</th>\n",
       "      <td>16283</td>\n",
       "      <td>ABC DONUTS</td>\n",
       "      <td>4555 E 3RD ST 1A</td>\n",
       "      <td>True</td>\n",
       "      <td>Fast Food</td>\n",
       "      <td>21</td>\n",
       "    </tr>\n",
       "    <tr>\n",
       "      <th>4569</th>\n",
       "      <td>16355</td>\n",
       "      <td>ACA GRILL</td>\n",
       "      <td>3062 W 8TH ST</td>\n",
       "      <td>True</td>\n",
       "      <td>Restaurant</td>\n",
       "      <td>25</td>\n",
       "    </tr>\n",
       "    <tr>\n",
       "      <th>2874</th>\n",
       "      <td>14660</td>\n",
       "      <td>ACA GRILL</td>\n",
       "      <td>1300 S SAN PEDRO ST STE 220</td>\n",
       "      <td>True</td>\n",
       "      <td>Restaurant</td>\n",
       "      <td>118</td>\n",
       "    </tr>\n",
       "    <tr>\n",
       "      <th>128</th>\n",
       "      <td>11914</td>\n",
       "      <td>ADMIRALS CLUB</td>\n",
       "      <td>500 WORLD WAY</td>\n",
       "      <td>False</td>\n",
       "      <td>Restaurant</td>\n",
       "      <td>205</td>\n",
       "    </tr>\n",
       "    <tr>\n",
       "      <th>...</th>\n",
       "      <td>...</td>\n",
       "      <td>...</td>\n",
       "      <td>...</td>\n",
       "      <td>...</td>\n",
       "      <td>...</td>\n",
       "      <td>...</td>\n",
       "    </tr>\n",
       "    <tr>\n",
       "      <th>3414</th>\n",
       "      <td>15200</td>\n",
       "      <td>Z PIZZA</td>\n",
       "      <td>5933 W CENTURY BLVD STE C</td>\n",
       "      <td>True</td>\n",
       "      <td>Pizza</td>\n",
       "      <td>31</td>\n",
       "    </tr>\n",
       "    <tr>\n",
       "      <th>6957</th>\n",
       "      <td>18743</td>\n",
       "      <td>Z PIZZA</td>\n",
       "      <td>123 N LARCHMONT BLVD</td>\n",
       "      <td>True</td>\n",
       "      <td>Pizza</td>\n",
       "      <td>48</td>\n",
       "    </tr>\n",
       "    <tr>\n",
       "      <th>6943</th>\n",
       "      <td>18729</td>\n",
       "      <td>Z PIZZA</td>\n",
       "      <td>2664 N GRIFFITH PARK BLVD</td>\n",
       "      <td>True</td>\n",
       "      <td>Pizza</td>\n",
       "      <td>44</td>\n",
       "    </tr>\n",
       "    <tr>\n",
       "      <th>106</th>\n",
       "      <td>11892</td>\n",
       "      <td>ZANKOU CHICKEN</td>\n",
       "      <td>7851 W SUNSET BLVD</td>\n",
       "      <td>True</td>\n",
       "      <td>Restaurant</td>\n",
       "      <td>40</td>\n",
       "    </tr>\n",
       "    <tr>\n",
       "      <th>8509</th>\n",
       "      <td>20295</td>\n",
       "      <td>ZANKOU CHICKEN</td>\n",
       "      <td>5065 W SUNSET BLVD</td>\n",
       "      <td>True</td>\n",
       "      <td>Restaurant</td>\n",
       "      <td>67</td>\n",
       "    </tr>\n",
       "  </tbody>\n",
       "</table>\n",
       "<p>1503 rows × 6 columns</p>\n",
       "</div>"
      ],
      "text/plain": [
       "         id     object_name                          address  chain  \\\n",
       "8     11794      ABC DONUTS  3027 N SAN FERNANDO RD UNIT 103   True   \n",
       "4497  16283      ABC DONUTS                 4555 E 3RD ST 1A   True   \n",
       "4569  16355       ACA GRILL                    3062 W 8TH ST   True   \n",
       "2874  14660       ACA GRILL      1300 S SAN PEDRO ST STE 220   True   \n",
       "128   11914   ADMIRALS CLUB                    500 WORLD WAY  False   \n",
       "...     ...             ...                              ...    ...   \n",
       "3414  15200         Z PIZZA        5933 W CENTURY BLVD STE C   True   \n",
       "6957  18743         Z PIZZA             123 N LARCHMONT BLVD   True   \n",
       "6943  18729         Z PIZZA        2664 N GRIFFITH PARK BLVD   True   \n",
       "106   11892  ZANKOU CHICKEN               7851 W SUNSET BLVD   True   \n",
       "8509  20295  ZANKOU CHICKEN               5065 W SUNSET BLVD   True   \n",
       "\n",
       "     object_type  number  \n",
       "8      Fast Food       1  \n",
       "4497   Fast Food      21  \n",
       "4569  Restaurant      25  \n",
       "2874  Restaurant     118  \n",
       "128   Restaurant     205  \n",
       "...          ...     ...  \n",
       "3414       Pizza      31  \n",
       "6957       Pizza      48  \n",
       "6943       Pizza      44  \n",
       "106   Restaurant      40  \n",
       "8509  Restaurant      67  \n",
       "\n",
       "[1503 rows x 6 columns]"
      ]
     },
     "metadata": {},
     "output_type": "display_data"
    }
   ],
   "source": [
    "filtered_duplicated_names = df[df['object_name'].duplicated(keep=False)].sort_values(by='object_name') # ---> Filtro de los datos duplicados con el primer registro incluido.\n",
    "\n",
    "display(filtered_duplicated_names) "
   ]
  },
  {
   "cell_type": "markdown",
   "metadata": {},
   "source": [
    "Como podemos ver hay datos que están duplicados pero que no corresponden a una cadena."
   ]
  },
  {
   "cell_type": "code",
   "execution_count": 13,
   "metadata": {},
   "outputs": [
    {
     "data": {
      "text/html": [
       "<div>\n",
       "<style scoped>\n",
       "    .dataframe tbody tr th:only-of-type {\n",
       "        vertical-align: middle;\n",
       "    }\n",
       "\n",
       "    .dataframe tbody tr th {\n",
       "        vertical-align: top;\n",
       "    }\n",
       "\n",
       "    .dataframe thead th {\n",
       "        text-align: right;\n",
       "    }\n",
       "</style>\n",
       "<table border=\"1\" class=\"dataframe\">\n",
       "  <thead>\n",
       "    <tr style=\"text-align: right;\">\n",
       "      <th></th>\n",
       "      <th>id</th>\n",
       "      <th>object_name</th>\n",
       "      <th>address</th>\n",
       "      <th>chain</th>\n",
       "      <th>object_type</th>\n",
       "      <th>number</th>\n",
       "    </tr>\n",
       "  </thead>\n",
       "  <tbody>\n",
       "    <tr>\n",
       "      <th>128</th>\n",
       "      <td>11914</td>\n",
       "      <td>ADMIRALS CLUB</td>\n",
       "      <td>500 WORLD WAY</td>\n",
       "      <td>False</td>\n",
       "      <td>Restaurant</td>\n",
       "      <td>205</td>\n",
       "    </tr>\n",
       "    <tr>\n",
       "      <th>107</th>\n",
       "      <td>11893</td>\n",
       "      <td>ADMIRALS CLUB</td>\n",
       "      <td>400 WORLD WAY</td>\n",
       "      <td>False</td>\n",
       "      <td>Restaurant</td>\n",
       "      <td>118</td>\n",
       "    </tr>\n",
       "    <tr>\n",
       "      <th>104</th>\n",
       "      <td>11890</td>\n",
       "      <td>BARNEY'S BEANERY</td>\n",
       "      <td>200 WORLD WAY 240</td>\n",
       "      <td>False</td>\n",
       "      <td>Bar</td>\n",
       "      <td>75</td>\n",
       "    </tr>\n",
       "    <tr>\n",
       "      <th>7595</th>\n",
       "      <td>19381</td>\n",
       "      <td>BARNEY'S BEANERY</td>\n",
       "      <td>1037 BROXTON AVE</td>\n",
       "      <td>False</td>\n",
       "      <td>Bar</td>\n",
       "      <td>34</td>\n",
       "    </tr>\n",
       "    <tr>\n",
       "      <th>1599</th>\n",
       "      <td>13385</td>\n",
       "      <td>BBQ EXPRESS</td>\n",
       "      <td>600 ALVARADO ST</td>\n",
       "      <td>False</td>\n",
       "      <td>Fast Food</td>\n",
       "      <td>45</td>\n",
       "    </tr>\n",
       "    <tr>\n",
       "      <th>...</th>\n",
       "      <td>...</td>\n",
       "      <td>...</td>\n",
       "      <td>...</td>\n",
       "      <td>...</td>\n",
       "      <td>...</td>\n",
       "      <td>...</td>\n",
       "    </tr>\n",
       "    <tr>\n",
       "      <th>7712</th>\n",
       "      <td>19498</td>\n",
       "      <td>THE TWIN DRAGON</td>\n",
       "      <td>8647 W PICO BLVD</td>\n",
       "      <td>False</td>\n",
       "      <td>Restaurant</td>\n",
       "      <td>14</td>\n",
       "    </tr>\n",
       "    <tr>\n",
       "      <th>3944</th>\n",
       "      <td>15730</td>\n",
       "      <td>THE TWIN DRAGON</td>\n",
       "      <td>8597 W PICO BLVD</td>\n",
       "      <td>False</td>\n",
       "      <td>Restaurant</td>\n",
       "      <td>120</td>\n",
       "    </tr>\n",
       "    <tr>\n",
       "      <th>4433</th>\n",
       "      <td>16219</td>\n",
       "      <td>VIVA TACOS LA ESTRELLA</td>\n",
       "      <td>6103 N FIGUEROA ST</td>\n",
       "      <td>False</td>\n",
       "      <td>Fast Food</td>\n",
       "      <td>7</td>\n",
       "    </tr>\n",
       "    <tr>\n",
       "      <th>1746</th>\n",
       "      <td>13532</td>\n",
       "      <td>VIVA TACOS LA ESTRELLA</td>\n",
       "      <td>3733 1/2 N MISSION RD</td>\n",
       "      <td>False</td>\n",
       "      <td>Fast Food</td>\n",
       "      <td>13</td>\n",
       "    </tr>\n",
       "    <tr>\n",
       "      <th>9067</th>\n",
       "      <td>20853</td>\n",
       "      <td>WETZELS PRETZEL'S</td>\n",
       "      <td>800 N ALAMEDA ST</td>\n",
       "      <td>False</td>\n",
       "      <td>Restaurant</td>\n",
       "      <td>21</td>\n",
       "    </tr>\n",
       "  </tbody>\n",
       "</table>\n",
       "<p>62 rows × 6 columns</p>\n",
       "</div>"
      ],
      "text/plain": [
       "         id             object_name                address  chain object_type  \\\n",
       "128   11914           ADMIRALS CLUB          500 WORLD WAY  False  Restaurant   \n",
       "107   11893           ADMIRALS CLUB          400 WORLD WAY  False  Restaurant   \n",
       "104   11890        BARNEY'S BEANERY      200 WORLD WAY 240  False         Bar   \n",
       "7595  19381        BARNEY'S BEANERY       1037 BROXTON AVE  False         Bar   \n",
       "1599  13385             BBQ EXPRESS        600 ALVARADO ST  False   Fast Food   \n",
       "...     ...                     ...                    ...    ...         ...   \n",
       "7712  19498         THE TWIN DRAGON       8647 W PICO BLVD  False  Restaurant   \n",
       "3944  15730         THE TWIN DRAGON       8597 W PICO BLVD  False  Restaurant   \n",
       "4433  16219  VIVA TACOS LA ESTRELLA     6103 N FIGUEROA ST  False   Fast Food   \n",
       "1746  13532  VIVA TACOS LA ESTRELLA  3733 1/2 N MISSION RD  False   Fast Food   \n",
       "9067  20853       WETZELS PRETZEL'S       800 N ALAMEDA ST  False  Restaurant   \n",
       "\n",
       "      number  \n",
       "128      205  \n",
       "107      118  \n",
       "104       75  \n",
       "7595      34  \n",
       "1599      45  \n",
       "...      ...  \n",
       "7712      14  \n",
       "3944     120  \n",
       "4433       7  \n",
       "1746      13  \n",
       "9067      21  \n",
       "\n",
       "[62 rows x 6 columns]"
      ]
     },
     "execution_count": 13,
     "metadata": {},
     "output_type": "execute_result"
    }
   ],
   "source": [
    "#Ahora revisaremos aquellos negocios cuyo nombre sea el mismo pero que no correspondan a una cadena:\n",
    "\n",
    "filtered_duplicated_names[filtered_duplicated_names['chain'] == False]"
   ]
  },
  {
   "cell_type": "markdown",
   "metadata": {},
   "source": [
    "Como se puede observar, existen 62 negocios que tienen el mismo nombre, que no son una cadena. Pero como hemos comprobado antes, no tienen un mismo id. Es probable que las leyes sean flexibles frente al hecho que los negocios tengan un mismo nombre, o pueden pertenecer a un mismo dueño sin necesidad de estar registrados como una franquicia/cadena."
   ]
  },
  {
   "cell_type": "markdown",
   "metadata": {},
   "source": [
    "#### Optimización de Object a Category"
   ]
  },
  {
   "cell_type": "code",
   "execution_count": 14,
   "metadata": {},
   "outputs": [],
   "source": [
    "# Transformación de columnas tipo Object a Category:\n",
    "\n",
    "df['object_name'] = df['object_name'].astype(\"category\") #---> Transformación al tipo category de la columna 'object_name'\n",
    "\n",
    "df['address'] = df['address'].astype(\"category\") #---> Transformación al tipo category de la columna 'address'\n",
    "\n",
    "df['chain'] = df['chain'].astype(\"category\") #---> Transformación al tipo category de la columna 'chain'\n",
    "\n",
    "df['object_type'] = df['object_type'].astype(\"category\") #---> Transformación al tipo category de la columna 'object_type'"
   ]
  },
  {
   "cell_type": "code",
   "execution_count": 15,
   "metadata": {},
   "outputs": [
    {
     "name": "stdout",
     "output_type": "stream",
     "text": [
      "<class 'pandas.core.frame.DataFrame'>\n",
      "Index: 9648 entries, 0 to 9650\n",
      "Data columns (total 6 columns):\n",
      " #   Column       Non-Null Count  Dtype   \n",
      "---  ------       --------------  -----   \n",
      " 0   id           9648 non-null   int64   \n",
      " 1   object_name  9648 non-null   category\n",
      " 2   address      9648 non-null   category\n",
      " 3   chain        9648 non-null   category\n",
      " 4   object_type  9648 non-null   category\n",
      " 5   number       9648 non-null   int64   \n",
      "dtypes: category(4), int64(2)\n",
      "memory usage: 933.2 KB\n"
     ]
    }
   ],
   "source": [
    "df.info()"
   ]
  },
  {
   "cell_type": "markdown",
   "metadata": {},
   "source": [
    "<div class=\"alert alert-block alert-success\">\n",
    "<b>Comentario del revisor (1ra Iteración)</b> <a class=“tocSkip”></a>\n",
    "\n",
    "Bien hecho el tratamiento de tus datos previo al análisis\n",
    "</div>"
   ]
  },
  {
   "cell_type": "markdown",
   "metadata": {},
   "source": [
    "# Paso 2. Análisis de datos"
   ]
  },
  {
   "cell_type": "markdown",
   "metadata": {},
   "source": [
    "## Investiga las proporciones de los distintos tipos de establecimientos. Traza un gráfico."
   ]
  },
  {
   "cell_type": "code",
   "execution_count": 16,
   "metadata": {},
   "outputs": [],
   "source": [
    "# Procedemos a calcular los tipos de establecimiento en porcentajes:\n",
    "\n",
    "stablishments_proportion = (df['object_type'].value_counts() / df['object_type'].count()) * 100  #---> Cálculo de la proporción de establecimientos del total existente\n",
    "\n",
    "stablishments_proportion = stablishments_proportion.reset_index()\n",
    "\n",
    "stablishments_proportion.columns = ['stablishment_type', 'percentage']"
   ]
  },
  {
   "cell_type": "code",
   "execution_count": 17,
   "metadata": {},
   "outputs": [
    {
     "data": {
      "text/plain": [
       "object_type\n",
       "Restaurant    0.751762\n",
       "Fast Food     0.110489\n",
       "Cafe          0.045087\n",
       "Pizza         0.033064\n",
       "Bar           0.030265\n",
       "Bakery        0.029333\n",
       "Name: proportion, dtype: float64"
      ]
     },
     "execution_count": 17,
     "metadata": {},
     "output_type": "execute_result"
    }
   ],
   "source": [
    "df['object_type'].value_counts(normalize=True)"
   ]
  },
  {
   "cell_type": "markdown",
   "metadata": {},
   "source": [
    "<div class=\"alert alert-block alert-success\">\n",
    "<b>Comentario del revisor (1ra Iteración)</b> <a class=“tocSkip”></a>\n",
    "\n",
    "Buen trabajo, otra forma más rápida de obtener los porcentajes es en el value_counts() especificar `normalize=True` y esto te dará el resultado en valores de 0 a 1, donde 1 es 100%. Ejemplo:\n",
    "    \n",
    "```Python\n",
    "df['object_type'].value_counts(normalize=True)\n",
    "```\n",
    "    \n",
    "Y tendrás un resultado cómo el siguiente:\n",
    "```\n",
    "Restaurant    0.751762\n",
    "Fast Food     0.110489\n",
    "Cafe          0.045087\n",
    "Pizza         0.033064\n",
    "Bar           0.030265\n",
    "Bakery        0.029333\n",
    "Name: object_type, dtype: float64\n",
    "```\n",
    "</div>"
   ]
  },
  {
   "cell_type": "code",
   "execution_count": 18,
   "metadata": {},
   "outputs": [
    {
     "data": {
      "text/html": [
       "<div>\n",
       "<style scoped>\n",
       "    .dataframe tbody tr th:only-of-type {\n",
       "        vertical-align: middle;\n",
       "    }\n",
       "\n",
       "    .dataframe tbody tr th {\n",
       "        vertical-align: top;\n",
       "    }\n",
       "\n",
       "    .dataframe thead th {\n",
       "        text-align: right;\n",
       "    }\n",
       "</style>\n",
       "<table border=\"1\" class=\"dataframe\">\n",
       "  <thead>\n",
       "    <tr style=\"text-align: right;\">\n",
       "      <th></th>\n",
       "      <th>stablishment_type</th>\n",
       "      <th>percentage</th>\n",
       "    </tr>\n",
       "  </thead>\n",
       "  <tbody>\n",
       "    <tr>\n",
       "      <th>0</th>\n",
       "      <td>Restaurant</td>\n",
       "      <td>75.176202</td>\n",
       "    </tr>\n",
       "    <tr>\n",
       "      <th>1</th>\n",
       "      <td>Fast Food</td>\n",
       "      <td>11.048922</td>\n",
       "    </tr>\n",
       "    <tr>\n",
       "      <th>2</th>\n",
       "      <td>Cafe</td>\n",
       "      <td>4.508706</td>\n",
       "    </tr>\n",
       "    <tr>\n",
       "      <th>3</th>\n",
       "      <td>Pizza</td>\n",
       "      <td>3.306385</td>\n",
       "    </tr>\n",
       "    <tr>\n",
       "      <th>4</th>\n",
       "      <td>Bar</td>\n",
       "      <td>3.026534</td>\n",
       "    </tr>\n",
       "    <tr>\n",
       "      <th>5</th>\n",
       "      <td>Bakery</td>\n",
       "      <td>2.933250</td>\n",
       "    </tr>\n",
       "  </tbody>\n",
       "</table>\n",
       "</div>"
      ],
      "text/plain": [
       "  stablishment_type  percentage\n",
       "0        Restaurant   75.176202\n",
       "1         Fast Food   11.048922\n",
       "2              Cafe    4.508706\n",
       "3             Pizza    3.306385\n",
       "4               Bar    3.026534\n",
       "5            Bakery    2.933250"
      ]
     },
     "metadata": {},
     "output_type": "display_data"
    },
    {
     "data": {
      "application/vnd.plotly.v1+json": {
       "config": {
        "plotlyServerURL": "https://plot.ly"
       },
       "data": [
        {
         "alignmentgroup": "True",
         "hovertemplate": "stablishment_type=%{y}<br>percentage=%{x}<extra></extra>",
         "legendgroup": "Restaurant",
         "marker": {
          "color": "#636efa",
          "pattern": {
           "shape": ""
          }
         },
         "name": "Restaurant",
         "offsetgroup": "Restaurant",
         "orientation": "h",
         "showlegend": true,
         "textposition": "auto",
         "type": "bar",
         "x": [
          75.1762023217247
         ],
         "xaxis": "x",
         "y": [
          "Restaurant"
         ],
         "yaxis": "y"
        },
        {
         "alignmentgroup": "True",
         "hovertemplate": "stablishment_type=%{y}<br>percentage=%{x}<extra></extra>",
         "legendgroup": "Fast Food",
         "marker": {
          "color": "#EF553B",
          "pattern": {
           "shape": ""
          }
         },
         "name": "Fast Food",
         "offsetgroup": "Fast Food",
         "orientation": "h",
         "showlegend": true,
         "textposition": "auto",
         "type": "bar",
         "x": [
          11.048922056384743
         ],
         "xaxis": "x",
         "y": [
          "Fast Food"
         ],
         "yaxis": "y"
        },
        {
         "alignmentgroup": "True",
         "hovertemplate": "stablishment_type=%{y}<br>percentage=%{x}<extra></extra>",
         "legendgroup": "Cafe",
         "marker": {
          "color": "#00cc96",
          "pattern": {
           "shape": ""
          }
         },
         "name": "Cafe",
         "offsetgroup": "Cafe",
         "orientation": "h",
         "showlegend": true,
         "textposition": "auto",
         "type": "bar",
         "x": [
          4.508706467661692
         ],
         "xaxis": "x",
         "y": [
          "Cafe"
         ],
         "yaxis": "y"
        },
        {
         "alignmentgroup": "True",
         "hovertemplate": "stablishment_type=%{y}<br>percentage=%{x}<extra></extra>",
         "legendgroup": "Pizza",
         "marker": {
          "color": "#ab63fa",
          "pattern": {
           "shape": ""
          }
         },
         "name": "Pizza",
         "offsetgroup": "Pizza",
         "orientation": "h",
         "showlegend": true,
         "textposition": "auto",
         "type": "bar",
         "x": [
          3.3063847429519075
         ],
         "xaxis": "x",
         "y": [
          "Pizza"
         ],
         "yaxis": "y"
        },
        {
         "alignmentgroup": "True",
         "hovertemplate": "stablishment_type=%{y}<br>percentage=%{x}<extra></extra>",
         "legendgroup": "Bar",
         "marker": {
          "color": "#FFA15A",
          "pattern": {
           "shape": ""
          }
         },
         "name": "Bar",
         "offsetgroup": "Bar",
         "orientation": "h",
         "showlegend": true,
         "textposition": "auto",
         "type": "bar",
         "x": [
          3.0265339966832503
         ],
         "xaxis": "x",
         "y": [
          "Bar"
         ],
         "yaxis": "y"
        },
        {
         "alignmentgroup": "True",
         "hovertemplate": "stablishment_type=%{y}<br>percentage=%{x}<extra></extra>",
         "legendgroup": "Bakery",
         "marker": {
          "color": "#19d3f3",
          "pattern": {
           "shape": ""
          }
         },
         "name": "Bakery",
         "offsetgroup": "Bakery",
         "orientation": "h",
         "showlegend": true,
         "textposition": "auto",
         "type": "bar",
         "x": [
          2.933250414593698
         ],
         "xaxis": "x",
         "y": [
          "Bakery"
         ],
         "yaxis": "y"
        }
       ],
       "layout": {
        "barmode": "relative",
        "legend": {
         "title": {
          "text": "stablishment_type"
         },
         "tracegroupgap": 0
        },
        "template": {
         "data": {
          "bar": [
           {
            "error_x": {
             "color": "#2a3f5f"
            },
            "error_y": {
             "color": "#2a3f5f"
            },
            "marker": {
             "line": {
              "color": "#E5ECF6",
              "width": 0.5
             },
             "pattern": {
              "fillmode": "overlay",
              "size": 10,
              "solidity": 0.2
             }
            },
            "type": "bar"
           }
          ],
          "barpolar": [
           {
            "marker": {
             "line": {
              "color": "#E5ECF6",
              "width": 0.5
             },
             "pattern": {
              "fillmode": "overlay",
              "size": 10,
              "solidity": 0.2
             }
            },
            "type": "barpolar"
           }
          ],
          "carpet": [
           {
            "aaxis": {
             "endlinecolor": "#2a3f5f",
             "gridcolor": "white",
             "linecolor": "white",
             "minorgridcolor": "white",
             "startlinecolor": "#2a3f5f"
            },
            "baxis": {
             "endlinecolor": "#2a3f5f",
             "gridcolor": "white",
             "linecolor": "white",
             "minorgridcolor": "white",
             "startlinecolor": "#2a3f5f"
            },
            "type": "carpet"
           }
          ],
          "choropleth": [
           {
            "colorbar": {
             "outlinewidth": 0,
             "ticks": ""
            },
            "type": "choropleth"
           }
          ],
          "contour": [
           {
            "colorbar": {
             "outlinewidth": 0,
             "ticks": ""
            },
            "colorscale": [
             [
              0,
              "#0d0887"
             ],
             [
              0.1111111111111111,
              "#46039f"
             ],
             [
              0.2222222222222222,
              "#7201a8"
             ],
             [
              0.3333333333333333,
              "#9c179e"
             ],
             [
              0.4444444444444444,
              "#bd3786"
             ],
             [
              0.5555555555555556,
              "#d8576b"
             ],
             [
              0.6666666666666666,
              "#ed7953"
             ],
             [
              0.7777777777777778,
              "#fb9f3a"
             ],
             [
              0.8888888888888888,
              "#fdca26"
             ],
             [
              1,
              "#f0f921"
             ]
            ],
            "type": "contour"
           }
          ],
          "contourcarpet": [
           {
            "colorbar": {
             "outlinewidth": 0,
             "ticks": ""
            },
            "type": "contourcarpet"
           }
          ],
          "heatmap": [
           {
            "colorbar": {
             "outlinewidth": 0,
             "ticks": ""
            },
            "colorscale": [
             [
              0,
              "#0d0887"
             ],
             [
              0.1111111111111111,
              "#46039f"
             ],
             [
              0.2222222222222222,
              "#7201a8"
             ],
             [
              0.3333333333333333,
              "#9c179e"
             ],
             [
              0.4444444444444444,
              "#bd3786"
             ],
             [
              0.5555555555555556,
              "#d8576b"
             ],
             [
              0.6666666666666666,
              "#ed7953"
             ],
             [
              0.7777777777777778,
              "#fb9f3a"
             ],
             [
              0.8888888888888888,
              "#fdca26"
             ],
             [
              1,
              "#f0f921"
             ]
            ],
            "type": "heatmap"
           }
          ],
          "heatmapgl": [
           {
            "colorbar": {
             "outlinewidth": 0,
             "ticks": ""
            },
            "colorscale": [
             [
              0,
              "#0d0887"
             ],
             [
              0.1111111111111111,
              "#46039f"
             ],
             [
              0.2222222222222222,
              "#7201a8"
             ],
             [
              0.3333333333333333,
              "#9c179e"
             ],
             [
              0.4444444444444444,
              "#bd3786"
             ],
             [
              0.5555555555555556,
              "#d8576b"
             ],
             [
              0.6666666666666666,
              "#ed7953"
             ],
             [
              0.7777777777777778,
              "#fb9f3a"
             ],
             [
              0.8888888888888888,
              "#fdca26"
             ],
             [
              1,
              "#f0f921"
             ]
            ],
            "type": "heatmapgl"
           }
          ],
          "histogram": [
           {
            "marker": {
             "pattern": {
              "fillmode": "overlay",
              "size": 10,
              "solidity": 0.2
             }
            },
            "type": "histogram"
           }
          ],
          "histogram2d": [
           {
            "colorbar": {
             "outlinewidth": 0,
             "ticks": ""
            },
            "colorscale": [
             [
              0,
              "#0d0887"
             ],
             [
              0.1111111111111111,
              "#46039f"
             ],
             [
              0.2222222222222222,
              "#7201a8"
             ],
             [
              0.3333333333333333,
              "#9c179e"
             ],
             [
              0.4444444444444444,
              "#bd3786"
             ],
             [
              0.5555555555555556,
              "#d8576b"
             ],
             [
              0.6666666666666666,
              "#ed7953"
             ],
             [
              0.7777777777777778,
              "#fb9f3a"
             ],
             [
              0.8888888888888888,
              "#fdca26"
             ],
             [
              1,
              "#f0f921"
             ]
            ],
            "type": "histogram2d"
           }
          ],
          "histogram2dcontour": [
           {
            "colorbar": {
             "outlinewidth": 0,
             "ticks": ""
            },
            "colorscale": [
             [
              0,
              "#0d0887"
             ],
             [
              0.1111111111111111,
              "#46039f"
             ],
             [
              0.2222222222222222,
              "#7201a8"
             ],
             [
              0.3333333333333333,
              "#9c179e"
             ],
             [
              0.4444444444444444,
              "#bd3786"
             ],
             [
              0.5555555555555556,
              "#d8576b"
             ],
             [
              0.6666666666666666,
              "#ed7953"
             ],
             [
              0.7777777777777778,
              "#fb9f3a"
             ],
             [
              0.8888888888888888,
              "#fdca26"
             ],
             [
              1,
              "#f0f921"
             ]
            ],
            "type": "histogram2dcontour"
           }
          ],
          "mesh3d": [
           {
            "colorbar": {
             "outlinewidth": 0,
             "ticks": ""
            },
            "type": "mesh3d"
           }
          ],
          "parcoords": [
           {
            "line": {
             "colorbar": {
              "outlinewidth": 0,
              "ticks": ""
             }
            },
            "type": "parcoords"
           }
          ],
          "pie": [
           {
            "automargin": true,
            "type": "pie"
           }
          ],
          "scatter": [
           {
            "fillpattern": {
             "fillmode": "overlay",
             "size": 10,
             "solidity": 0.2
            },
            "type": "scatter"
           }
          ],
          "scatter3d": [
           {
            "line": {
             "colorbar": {
              "outlinewidth": 0,
              "ticks": ""
             }
            },
            "marker": {
             "colorbar": {
              "outlinewidth": 0,
              "ticks": ""
             }
            },
            "type": "scatter3d"
           }
          ],
          "scattercarpet": [
           {
            "marker": {
             "colorbar": {
              "outlinewidth": 0,
              "ticks": ""
             }
            },
            "type": "scattercarpet"
           }
          ],
          "scattergeo": [
           {
            "marker": {
             "colorbar": {
              "outlinewidth": 0,
              "ticks": ""
             }
            },
            "type": "scattergeo"
           }
          ],
          "scattergl": [
           {
            "marker": {
             "colorbar": {
              "outlinewidth": 0,
              "ticks": ""
             }
            },
            "type": "scattergl"
           }
          ],
          "scattermapbox": [
           {
            "marker": {
             "colorbar": {
              "outlinewidth": 0,
              "ticks": ""
             }
            },
            "type": "scattermapbox"
           }
          ],
          "scatterpolar": [
           {
            "marker": {
             "colorbar": {
              "outlinewidth": 0,
              "ticks": ""
             }
            },
            "type": "scatterpolar"
           }
          ],
          "scatterpolargl": [
           {
            "marker": {
             "colorbar": {
              "outlinewidth": 0,
              "ticks": ""
             }
            },
            "type": "scatterpolargl"
           }
          ],
          "scatterternary": [
           {
            "marker": {
             "colorbar": {
              "outlinewidth": 0,
              "ticks": ""
             }
            },
            "type": "scatterternary"
           }
          ],
          "surface": [
           {
            "colorbar": {
             "outlinewidth": 0,
             "ticks": ""
            },
            "colorscale": [
             [
              0,
              "#0d0887"
             ],
             [
              0.1111111111111111,
              "#46039f"
             ],
             [
              0.2222222222222222,
              "#7201a8"
             ],
             [
              0.3333333333333333,
              "#9c179e"
             ],
             [
              0.4444444444444444,
              "#bd3786"
             ],
             [
              0.5555555555555556,
              "#d8576b"
             ],
             [
              0.6666666666666666,
              "#ed7953"
             ],
             [
              0.7777777777777778,
              "#fb9f3a"
             ],
             [
              0.8888888888888888,
              "#fdca26"
             ],
             [
              1,
              "#f0f921"
             ]
            ],
            "type": "surface"
           }
          ],
          "table": [
           {
            "cells": {
             "fill": {
              "color": "#EBF0F8"
             },
             "line": {
              "color": "white"
             }
            },
            "header": {
             "fill": {
              "color": "#C8D4E3"
             },
             "line": {
              "color": "white"
             }
            },
            "type": "table"
           }
          ]
         },
         "layout": {
          "annotationdefaults": {
           "arrowcolor": "#2a3f5f",
           "arrowhead": 0,
           "arrowwidth": 1
          },
          "autotypenumbers": "strict",
          "coloraxis": {
           "colorbar": {
            "outlinewidth": 0,
            "ticks": ""
           }
          },
          "colorscale": {
           "diverging": [
            [
             0,
             "#8e0152"
            ],
            [
             0.1,
             "#c51b7d"
            ],
            [
             0.2,
             "#de77ae"
            ],
            [
             0.3,
             "#f1b6da"
            ],
            [
             0.4,
             "#fde0ef"
            ],
            [
             0.5,
             "#f7f7f7"
            ],
            [
             0.6,
             "#e6f5d0"
            ],
            [
             0.7,
             "#b8e186"
            ],
            [
             0.8,
             "#7fbc41"
            ],
            [
             0.9,
             "#4d9221"
            ],
            [
             1,
             "#276419"
            ]
           ],
           "sequential": [
            [
             0,
             "#0d0887"
            ],
            [
             0.1111111111111111,
             "#46039f"
            ],
            [
             0.2222222222222222,
             "#7201a8"
            ],
            [
             0.3333333333333333,
             "#9c179e"
            ],
            [
             0.4444444444444444,
             "#bd3786"
            ],
            [
             0.5555555555555556,
             "#d8576b"
            ],
            [
             0.6666666666666666,
             "#ed7953"
            ],
            [
             0.7777777777777778,
             "#fb9f3a"
            ],
            [
             0.8888888888888888,
             "#fdca26"
            ],
            [
             1,
             "#f0f921"
            ]
           ],
           "sequentialminus": [
            [
             0,
             "#0d0887"
            ],
            [
             0.1111111111111111,
             "#46039f"
            ],
            [
             0.2222222222222222,
             "#7201a8"
            ],
            [
             0.3333333333333333,
             "#9c179e"
            ],
            [
             0.4444444444444444,
             "#bd3786"
            ],
            [
             0.5555555555555556,
             "#d8576b"
            ],
            [
             0.6666666666666666,
             "#ed7953"
            ],
            [
             0.7777777777777778,
             "#fb9f3a"
            ],
            [
             0.8888888888888888,
             "#fdca26"
            ],
            [
             1,
             "#f0f921"
            ]
           ]
          },
          "colorway": [
           "#636efa",
           "#EF553B",
           "#00cc96",
           "#ab63fa",
           "#FFA15A",
           "#19d3f3",
           "#FF6692",
           "#B6E880",
           "#FF97FF",
           "#FECB52"
          ],
          "font": {
           "color": "#2a3f5f"
          },
          "geo": {
           "bgcolor": "white",
           "lakecolor": "white",
           "landcolor": "#E5ECF6",
           "showlakes": true,
           "showland": true,
           "subunitcolor": "white"
          },
          "hoverlabel": {
           "align": "left"
          },
          "hovermode": "closest",
          "mapbox": {
           "style": "light"
          },
          "paper_bgcolor": "white",
          "plot_bgcolor": "#E5ECF6",
          "polar": {
           "angularaxis": {
            "gridcolor": "white",
            "linecolor": "white",
            "ticks": ""
           },
           "bgcolor": "#E5ECF6",
           "radialaxis": {
            "gridcolor": "white",
            "linecolor": "white",
            "ticks": ""
           }
          },
          "scene": {
           "xaxis": {
            "backgroundcolor": "#E5ECF6",
            "gridcolor": "white",
            "gridwidth": 2,
            "linecolor": "white",
            "showbackground": true,
            "ticks": "",
            "zerolinecolor": "white"
           },
           "yaxis": {
            "backgroundcolor": "#E5ECF6",
            "gridcolor": "white",
            "gridwidth": 2,
            "linecolor": "white",
            "showbackground": true,
            "ticks": "",
            "zerolinecolor": "white"
           },
           "zaxis": {
            "backgroundcolor": "#E5ECF6",
            "gridcolor": "white",
            "gridwidth": 2,
            "linecolor": "white",
            "showbackground": true,
            "ticks": "",
            "zerolinecolor": "white"
           }
          },
          "shapedefaults": {
           "line": {
            "color": "#2a3f5f"
           }
          },
          "ternary": {
           "aaxis": {
            "gridcolor": "white",
            "linecolor": "white",
            "ticks": ""
           },
           "baxis": {
            "gridcolor": "white",
            "linecolor": "white",
            "ticks": ""
           },
           "bgcolor": "#E5ECF6",
           "caxis": {
            "gridcolor": "white",
            "linecolor": "white",
            "ticks": ""
           }
          },
          "title": {
           "x": 0.05
          },
          "xaxis": {
           "automargin": true,
           "gridcolor": "white",
           "linecolor": "white",
           "ticks": "",
           "title": {
            "standoff": 15
           },
           "zerolinecolor": "white",
           "zerolinewidth": 2
          },
          "yaxis": {
           "automargin": true,
           "gridcolor": "white",
           "linecolor": "white",
           "ticks": "",
           "title": {
            "standoff": 15
           },
           "zerolinecolor": "white",
           "zerolinewidth": 2
          }
         }
        },
        "title": {
         "text": "Proporción por tipo de establecimiento"
        },
        "xaxis": {
         "anchor": "y",
         "domain": [
          0,
          1
         ],
         "title": {
          "text": "percentage"
         }
        },
        "yaxis": {
         "anchor": "x",
         "categoryarray": [
          "Bakery",
          "Bar",
          "Pizza",
          "Cafe",
          "Fast Food",
          "Restaurant"
         ],
         "categoryorder": "array",
         "domain": [
          0,
          1
         ],
         "title": {
          "text": "stablishment_type"
         }
        }
       }
      }
     },
     "metadata": {},
     "output_type": "display_data"
    }
   ],
   "source": [
    "display(stablishments_proportion)\n",
    "\n",
    "fig = px.bar(stablishments_proportion, y='stablishment_type', x='percentage', color='stablishment_type', orientation='h', title='Proporción por tipo de establecimiento') \n",
    "\n",
    "fig.show()"
   ]
  },
  {
   "cell_type": "markdown",
   "metadata": {},
   "source": [
    "Los establecimiento tipo restaurante son los que acaparan gran parte del dataset con una proporción superior al 75%. Le siguen las comidas rápidas (11%) y los establecimientos tipo Café/Cafeterías (4.5%)"
   ]
  },
  {
   "cell_type": "markdown",
   "metadata": {},
   "source": [
    "<div class=\"alert alert-block alert-success\">\n",
    "<b>Comentario del revisor (1ra Iteración)</b> <a class=“tocSkip”></a>\n",
    "\n",
    "Correcto! Se puede visualizar y comparar las proporciones\n",
    "</div>"
   ]
  },
  {
   "cell_type": "markdown",
   "metadata": {},
   "source": [
    "## Investiga las proporciones de los establecimientos que pertenecen a una cadena y de los que no. Traza un gráfico."
   ]
  },
  {
   "cell_type": "code",
   "execution_count": 19,
   "metadata": {},
   "outputs": [],
   "source": [
    "chain_proportion = (df['chain'].value_counts() / df['chain'].count()) * 100 #---> Cálculo de la proporción de establecimientos que pertenecen o no a una cadena del total existente\n",
    "\n",
    "chain_proportion = chain_proportion.reset_index()\n",
    "\n",
    "chain_proportion.columns = ['chain', 'percentage']"
   ]
  },
  {
   "cell_type": "code",
   "execution_count": 20,
   "metadata": {},
   "outputs": [
    {
     "data": {
      "text/html": [
       "<div>\n",
       "<style scoped>\n",
       "    .dataframe tbody tr th:only-of-type {\n",
       "        vertical-align: middle;\n",
       "    }\n",
       "\n",
       "    .dataframe tbody tr th {\n",
       "        vertical-align: top;\n",
       "    }\n",
       "\n",
       "    .dataframe thead th {\n",
       "        text-align: right;\n",
       "    }\n",
       "</style>\n",
       "<table border=\"1\" class=\"dataframe\">\n",
       "  <thead>\n",
       "    <tr style=\"text-align: right;\">\n",
       "      <th></th>\n",
       "      <th>chain</th>\n",
       "      <th>percentage</th>\n",
       "    </tr>\n",
       "  </thead>\n",
       "  <tbody>\n",
       "    <tr>\n",
       "      <th>0</th>\n",
       "      <td>False</td>\n",
       "      <td>61.898839</td>\n",
       "    </tr>\n",
       "    <tr>\n",
       "      <th>1</th>\n",
       "      <td>True</td>\n",
       "      <td>38.101161</td>\n",
       "    </tr>\n",
       "  </tbody>\n",
       "</table>\n",
       "</div>"
      ],
      "text/plain": [
       "   chain  percentage\n",
       "0  False   61.898839\n",
       "1   True   38.101161"
      ]
     },
     "metadata": {},
     "output_type": "display_data"
    },
    {
     "data": {
      "application/vnd.plotly.v1+json": {
       "config": {
        "plotlyServerURL": "https://plot.ly"
       },
       "data": [
        {
         "domain": {
          "x": [
           0,
           1
          ],
          "y": [
           0,
           1
          ]
         },
         "hole": 0.6,
         "hovertemplate": "label=%{label}<br>percentage=%{value}<extra></extra>",
         "labels": [
          "No",
          "Yes"
         ],
         "legendgroup": "",
         "name": "",
         "showlegend": true,
         "type": "pie",
         "values": [
          61.89883913764511,
          38.101160862354895
         ]
        }
       ],
       "layout": {
        "legend": {
         "tracegroupgap": 0
        },
        "template": {
         "data": {
          "bar": [
           {
            "error_x": {
             "color": "#2a3f5f"
            },
            "error_y": {
             "color": "#2a3f5f"
            },
            "marker": {
             "line": {
              "color": "#E5ECF6",
              "width": 0.5
             },
             "pattern": {
              "fillmode": "overlay",
              "size": 10,
              "solidity": 0.2
             }
            },
            "type": "bar"
           }
          ],
          "barpolar": [
           {
            "marker": {
             "line": {
              "color": "#E5ECF6",
              "width": 0.5
             },
             "pattern": {
              "fillmode": "overlay",
              "size": 10,
              "solidity": 0.2
             }
            },
            "type": "barpolar"
           }
          ],
          "carpet": [
           {
            "aaxis": {
             "endlinecolor": "#2a3f5f",
             "gridcolor": "white",
             "linecolor": "white",
             "minorgridcolor": "white",
             "startlinecolor": "#2a3f5f"
            },
            "baxis": {
             "endlinecolor": "#2a3f5f",
             "gridcolor": "white",
             "linecolor": "white",
             "minorgridcolor": "white",
             "startlinecolor": "#2a3f5f"
            },
            "type": "carpet"
           }
          ],
          "choropleth": [
           {
            "colorbar": {
             "outlinewidth": 0,
             "ticks": ""
            },
            "type": "choropleth"
           }
          ],
          "contour": [
           {
            "colorbar": {
             "outlinewidth": 0,
             "ticks": ""
            },
            "colorscale": [
             [
              0,
              "#0d0887"
             ],
             [
              0.1111111111111111,
              "#46039f"
             ],
             [
              0.2222222222222222,
              "#7201a8"
             ],
             [
              0.3333333333333333,
              "#9c179e"
             ],
             [
              0.4444444444444444,
              "#bd3786"
             ],
             [
              0.5555555555555556,
              "#d8576b"
             ],
             [
              0.6666666666666666,
              "#ed7953"
             ],
             [
              0.7777777777777778,
              "#fb9f3a"
             ],
             [
              0.8888888888888888,
              "#fdca26"
             ],
             [
              1,
              "#f0f921"
             ]
            ],
            "type": "contour"
           }
          ],
          "contourcarpet": [
           {
            "colorbar": {
             "outlinewidth": 0,
             "ticks": ""
            },
            "type": "contourcarpet"
           }
          ],
          "heatmap": [
           {
            "colorbar": {
             "outlinewidth": 0,
             "ticks": ""
            },
            "colorscale": [
             [
              0,
              "#0d0887"
             ],
             [
              0.1111111111111111,
              "#46039f"
             ],
             [
              0.2222222222222222,
              "#7201a8"
             ],
             [
              0.3333333333333333,
              "#9c179e"
             ],
             [
              0.4444444444444444,
              "#bd3786"
             ],
             [
              0.5555555555555556,
              "#d8576b"
             ],
             [
              0.6666666666666666,
              "#ed7953"
             ],
             [
              0.7777777777777778,
              "#fb9f3a"
             ],
             [
              0.8888888888888888,
              "#fdca26"
             ],
             [
              1,
              "#f0f921"
             ]
            ],
            "type": "heatmap"
           }
          ],
          "heatmapgl": [
           {
            "colorbar": {
             "outlinewidth": 0,
             "ticks": ""
            },
            "colorscale": [
             [
              0,
              "#0d0887"
             ],
             [
              0.1111111111111111,
              "#46039f"
             ],
             [
              0.2222222222222222,
              "#7201a8"
             ],
             [
              0.3333333333333333,
              "#9c179e"
             ],
             [
              0.4444444444444444,
              "#bd3786"
             ],
             [
              0.5555555555555556,
              "#d8576b"
             ],
             [
              0.6666666666666666,
              "#ed7953"
             ],
             [
              0.7777777777777778,
              "#fb9f3a"
             ],
             [
              0.8888888888888888,
              "#fdca26"
             ],
             [
              1,
              "#f0f921"
             ]
            ],
            "type": "heatmapgl"
           }
          ],
          "histogram": [
           {
            "marker": {
             "pattern": {
              "fillmode": "overlay",
              "size": 10,
              "solidity": 0.2
             }
            },
            "type": "histogram"
           }
          ],
          "histogram2d": [
           {
            "colorbar": {
             "outlinewidth": 0,
             "ticks": ""
            },
            "colorscale": [
             [
              0,
              "#0d0887"
             ],
             [
              0.1111111111111111,
              "#46039f"
             ],
             [
              0.2222222222222222,
              "#7201a8"
             ],
             [
              0.3333333333333333,
              "#9c179e"
             ],
             [
              0.4444444444444444,
              "#bd3786"
             ],
             [
              0.5555555555555556,
              "#d8576b"
             ],
             [
              0.6666666666666666,
              "#ed7953"
             ],
             [
              0.7777777777777778,
              "#fb9f3a"
             ],
             [
              0.8888888888888888,
              "#fdca26"
             ],
             [
              1,
              "#f0f921"
             ]
            ],
            "type": "histogram2d"
           }
          ],
          "histogram2dcontour": [
           {
            "colorbar": {
             "outlinewidth": 0,
             "ticks": ""
            },
            "colorscale": [
             [
              0,
              "#0d0887"
             ],
             [
              0.1111111111111111,
              "#46039f"
             ],
             [
              0.2222222222222222,
              "#7201a8"
             ],
             [
              0.3333333333333333,
              "#9c179e"
             ],
             [
              0.4444444444444444,
              "#bd3786"
             ],
             [
              0.5555555555555556,
              "#d8576b"
             ],
             [
              0.6666666666666666,
              "#ed7953"
             ],
             [
              0.7777777777777778,
              "#fb9f3a"
             ],
             [
              0.8888888888888888,
              "#fdca26"
             ],
             [
              1,
              "#f0f921"
             ]
            ],
            "type": "histogram2dcontour"
           }
          ],
          "mesh3d": [
           {
            "colorbar": {
             "outlinewidth": 0,
             "ticks": ""
            },
            "type": "mesh3d"
           }
          ],
          "parcoords": [
           {
            "line": {
             "colorbar": {
              "outlinewidth": 0,
              "ticks": ""
             }
            },
            "type": "parcoords"
           }
          ],
          "pie": [
           {
            "automargin": true,
            "type": "pie"
           }
          ],
          "scatter": [
           {
            "fillpattern": {
             "fillmode": "overlay",
             "size": 10,
             "solidity": 0.2
            },
            "type": "scatter"
           }
          ],
          "scatter3d": [
           {
            "line": {
             "colorbar": {
              "outlinewidth": 0,
              "ticks": ""
             }
            },
            "marker": {
             "colorbar": {
              "outlinewidth": 0,
              "ticks": ""
             }
            },
            "type": "scatter3d"
           }
          ],
          "scattercarpet": [
           {
            "marker": {
             "colorbar": {
              "outlinewidth": 0,
              "ticks": ""
             }
            },
            "type": "scattercarpet"
           }
          ],
          "scattergeo": [
           {
            "marker": {
             "colorbar": {
              "outlinewidth": 0,
              "ticks": ""
             }
            },
            "type": "scattergeo"
           }
          ],
          "scattergl": [
           {
            "marker": {
             "colorbar": {
              "outlinewidth": 0,
              "ticks": ""
             }
            },
            "type": "scattergl"
           }
          ],
          "scattermapbox": [
           {
            "marker": {
             "colorbar": {
              "outlinewidth": 0,
              "ticks": ""
             }
            },
            "type": "scattermapbox"
           }
          ],
          "scatterpolar": [
           {
            "marker": {
             "colorbar": {
              "outlinewidth": 0,
              "ticks": ""
             }
            },
            "type": "scatterpolar"
           }
          ],
          "scatterpolargl": [
           {
            "marker": {
             "colorbar": {
              "outlinewidth": 0,
              "ticks": ""
             }
            },
            "type": "scatterpolargl"
           }
          ],
          "scatterternary": [
           {
            "marker": {
             "colorbar": {
              "outlinewidth": 0,
              "ticks": ""
             }
            },
            "type": "scatterternary"
           }
          ],
          "surface": [
           {
            "colorbar": {
             "outlinewidth": 0,
             "ticks": ""
            },
            "colorscale": [
             [
              0,
              "#0d0887"
             ],
             [
              0.1111111111111111,
              "#46039f"
             ],
             [
              0.2222222222222222,
              "#7201a8"
             ],
             [
              0.3333333333333333,
              "#9c179e"
             ],
             [
              0.4444444444444444,
              "#bd3786"
             ],
             [
              0.5555555555555556,
              "#d8576b"
             ],
             [
              0.6666666666666666,
              "#ed7953"
             ],
             [
              0.7777777777777778,
              "#fb9f3a"
             ],
             [
              0.8888888888888888,
              "#fdca26"
             ],
             [
              1,
              "#f0f921"
             ]
            ],
            "type": "surface"
           }
          ],
          "table": [
           {
            "cells": {
             "fill": {
              "color": "#EBF0F8"
             },
             "line": {
              "color": "white"
             }
            },
            "header": {
             "fill": {
              "color": "#C8D4E3"
             },
             "line": {
              "color": "white"
             }
            },
            "type": "table"
           }
          ]
         },
         "layout": {
          "annotationdefaults": {
           "arrowcolor": "#2a3f5f",
           "arrowhead": 0,
           "arrowwidth": 1
          },
          "autotypenumbers": "strict",
          "coloraxis": {
           "colorbar": {
            "outlinewidth": 0,
            "ticks": ""
           }
          },
          "colorscale": {
           "diverging": [
            [
             0,
             "#8e0152"
            ],
            [
             0.1,
             "#c51b7d"
            ],
            [
             0.2,
             "#de77ae"
            ],
            [
             0.3,
             "#f1b6da"
            ],
            [
             0.4,
             "#fde0ef"
            ],
            [
             0.5,
             "#f7f7f7"
            ],
            [
             0.6,
             "#e6f5d0"
            ],
            [
             0.7,
             "#b8e186"
            ],
            [
             0.8,
             "#7fbc41"
            ],
            [
             0.9,
             "#4d9221"
            ],
            [
             1,
             "#276419"
            ]
           ],
           "sequential": [
            [
             0,
             "#0d0887"
            ],
            [
             0.1111111111111111,
             "#46039f"
            ],
            [
             0.2222222222222222,
             "#7201a8"
            ],
            [
             0.3333333333333333,
             "#9c179e"
            ],
            [
             0.4444444444444444,
             "#bd3786"
            ],
            [
             0.5555555555555556,
             "#d8576b"
            ],
            [
             0.6666666666666666,
             "#ed7953"
            ],
            [
             0.7777777777777778,
             "#fb9f3a"
            ],
            [
             0.8888888888888888,
             "#fdca26"
            ],
            [
             1,
             "#f0f921"
            ]
           ],
           "sequentialminus": [
            [
             0,
             "#0d0887"
            ],
            [
             0.1111111111111111,
             "#46039f"
            ],
            [
             0.2222222222222222,
             "#7201a8"
            ],
            [
             0.3333333333333333,
             "#9c179e"
            ],
            [
             0.4444444444444444,
             "#bd3786"
            ],
            [
             0.5555555555555556,
             "#d8576b"
            ],
            [
             0.6666666666666666,
             "#ed7953"
            ],
            [
             0.7777777777777778,
             "#fb9f3a"
            ],
            [
             0.8888888888888888,
             "#fdca26"
            ],
            [
             1,
             "#f0f921"
            ]
           ]
          },
          "colorway": [
           "#636efa",
           "#EF553B",
           "#00cc96",
           "#ab63fa",
           "#FFA15A",
           "#19d3f3",
           "#FF6692",
           "#B6E880",
           "#FF97FF",
           "#FECB52"
          ],
          "font": {
           "color": "#2a3f5f"
          },
          "geo": {
           "bgcolor": "white",
           "lakecolor": "white",
           "landcolor": "#E5ECF6",
           "showlakes": true,
           "showland": true,
           "subunitcolor": "white"
          },
          "hoverlabel": {
           "align": "left"
          },
          "hovermode": "closest",
          "mapbox": {
           "style": "light"
          },
          "paper_bgcolor": "white",
          "plot_bgcolor": "#E5ECF6",
          "polar": {
           "angularaxis": {
            "gridcolor": "white",
            "linecolor": "white",
            "ticks": ""
           },
           "bgcolor": "#E5ECF6",
           "radialaxis": {
            "gridcolor": "white",
            "linecolor": "white",
            "ticks": ""
           }
          },
          "scene": {
           "xaxis": {
            "backgroundcolor": "#E5ECF6",
            "gridcolor": "white",
            "gridwidth": 2,
            "linecolor": "white",
            "showbackground": true,
            "ticks": "",
            "zerolinecolor": "white"
           },
           "yaxis": {
            "backgroundcolor": "#E5ECF6",
            "gridcolor": "white",
            "gridwidth": 2,
            "linecolor": "white",
            "showbackground": true,
            "ticks": "",
            "zerolinecolor": "white"
           },
           "zaxis": {
            "backgroundcolor": "#E5ECF6",
            "gridcolor": "white",
            "gridwidth": 2,
            "linecolor": "white",
            "showbackground": true,
            "ticks": "",
            "zerolinecolor": "white"
           }
          },
          "shapedefaults": {
           "line": {
            "color": "#2a3f5f"
           }
          },
          "ternary": {
           "aaxis": {
            "gridcolor": "white",
            "linecolor": "white",
            "ticks": ""
           },
           "baxis": {
            "gridcolor": "white",
            "linecolor": "white",
            "ticks": ""
           },
           "bgcolor": "#E5ECF6",
           "caxis": {
            "gridcolor": "white",
            "linecolor": "white",
            "ticks": ""
           }
          },
          "title": {
           "x": 0.05
          },
          "xaxis": {
           "automargin": true,
           "gridcolor": "white",
           "linecolor": "white",
           "ticks": "",
           "title": {
            "standoff": 15
           },
           "zerolinecolor": "white",
           "zerolinewidth": 2
          },
          "yaxis": {
           "automargin": true,
           "gridcolor": "white",
           "linecolor": "white",
           "ticks": "",
           "title": {
            "standoff": 15
           },
           "zerolinecolor": "white",
           "zerolinewidth": 2
          }
         }
        },
        "title": {
         "text": "Proporción de establecimientos que pertenecen o no a una cadena"
        }
       }
      }
     },
     "metadata": {},
     "output_type": "display_data"
    }
   ],
   "source": [
    "display(chain_proportion)\n",
    "\n",
    "fig = px.pie(chain_proportion, values='percentage', names={'false':'No','true':'Yes'}, \n",
    "             title='Proporción de establecimientos que pertenecen o no a una cadena',\n",
    "             hole=0.6)     \n",
    "\n",
    "\n",
    "fig.show()"
   ]
  },
  {
   "cell_type": "markdown",
   "metadata": {},
   "source": [
    "Cerca del 62% de los establecimientos NO pertenecen a una cadena, mientras que el 38% restante sí."
   ]
  },
  {
   "cell_type": "markdown",
   "metadata": {},
   "source": [
    "<div class=\"alert alert-block alert-success\">\n",
    "<b>Comentario del revisor (1ra Iteración)</b> <a class=“tocSkip”></a>\n",
    "\n",
    "Buen trabajo con el cálculo y la visualización!\n",
    "</div>"
   ]
  },
  {
   "cell_type": "markdown",
   "metadata": {},
   "source": [
    "## ¿Qué tipo de establecimiento es habitualmente una cadena?"
   ]
  },
  {
   "cell_type": "code",
   "execution_count": 21,
   "metadata": {},
   "outputs": [
    {
     "name": "stdout",
     "output_type": "stream",
     "text": [
      "<class 'pandas.core.frame.DataFrame'>\n",
      "Index: 3676 entries, 8 to 9650\n",
      "Data columns (total 6 columns):\n",
      " #   Column       Non-Null Count  Dtype   \n",
      "---  ------       --------------  -----   \n",
      " 0   id           3676 non-null   int64   \n",
      " 1   object_name  3676 non-null   category\n",
      " 2   address      3676 non-null   category\n",
      " 3   chain        3676 non-null   category\n",
      " 4   object_type  3676 non-null   category\n",
      " 5   number       3676 non-null   int64   \n",
      "dtypes: category(4), int64(2)\n",
      "memory usage: 758.3 KB\n",
      "\n",
      "3676 Establecimientos en total pertenecen a una cadena\n"
     ]
    }
   ],
   "source": [
    "# Inicialmente necesitaremos los datos de establecimientos que pertenecen a una cadena:\n",
    "\n",
    "chain_data = df[df['chain'] == True]\n",
    "chain_data.info()\n",
    "print()\n",
    "print(len(chain_data), 'Establecimientos en total pertenecen a una cadena')"
   ]
  },
  {
   "cell_type": "code",
   "execution_count": 22,
   "metadata": {},
   "outputs": [],
   "source": [
    "# Ahora calcularemos los tipos de establecimiento en su proporción del total de cadenas existentes:\n",
    "\n",
    "chain_data_per_stablishment = (chain_data['object_type'].value_counts() / chain_data['object_type'].count()) * 100\n",
    "chain_data_per_stablishment = chain_data_per_stablishment.reset_index()\n",
    "chain_data_per_stablishment.columns = ['chain_stablishments', 'percentage']"
   ]
  },
  {
   "cell_type": "code",
   "execution_count": 23,
   "metadata": {},
   "outputs": [
    {
     "data": {
      "text/html": [
       "<div>\n",
       "<style scoped>\n",
       "    .dataframe tbody tr th:only-of-type {\n",
       "        vertical-align: middle;\n",
       "    }\n",
       "\n",
       "    .dataframe tbody tr th {\n",
       "        vertical-align: top;\n",
       "    }\n",
       "\n",
       "    .dataframe thead th {\n",
       "        text-align: right;\n",
       "    }\n",
       "</style>\n",
       "<table border=\"1\" class=\"dataframe\">\n",
       "  <thead>\n",
       "    <tr style=\"text-align: right;\">\n",
       "      <th></th>\n",
       "      <th>chain_stablishments</th>\n",
       "      <th>percentage</th>\n",
       "    </tr>\n",
       "  </thead>\n",
       "  <tbody>\n",
       "    <tr>\n",
       "      <th>0</th>\n",
       "      <td>Restaurant</td>\n",
       "      <td>62.350381</td>\n",
       "    </tr>\n",
       "    <tr>\n",
       "      <th>1</th>\n",
       "      <td>Fast Food</td>\n",
       "      <td>16.458107</td>\n",
       "    </tr>\n",
       "    <tr>\n",
       "      <th>2</th>\n",
       "      <td>Bakery</td>\n",
       "      <td>7.698585</td>\n",
       "    </tr>\n",
       "    <tr>\n",
       "      <th>3</th>\n",
       "      <td>Cafe</td>\n",
       "      <td>7.236126</td>\n",
       "    </tr>\n",
       "    <tr>\n",
       "      <th>4</th>\n",
       "      <td>Pizza</td>\n",
       "      <td>4.162133</td>\n",
       "    </tr>\n",
       "    <tr>\n",
       "      <th>5</th>\n",
       "      <td>Bar</td>\n",
       "      <td>2.094668</td>\n",
       "    </tr>\n",
       "  </tbody>\n",
       "</table>\n",
       "</div>"
      ],
      "text/plain": [
       "  chain_stablishments  percentage\n",
       "0          Restaurant   62.350381\n",
       "1           Fast Food   16.458107\n",
       "2              Bakery    7.698585\n",
       "3                Cafe    7.236126\n",
       "4               Pizza    4.162133\n",
       "5                 Bar    2.094668"
      ]
     },
     "metadata": {},
     "output_type": "display_data"
    },
    {
     "data": {
      "application/vnd.plotly.v1+json": {
       "config": {
        "plotlyServerURL": "https://plot.ly"
       },
       "data": [
        {
         "alignmentgroup": "True",
         "hovertemplate": "chain_stablishments=%{y}<br>percentage=%{x}<extra></extra>",
         "legendgroup": "Restaurant",
         "marker": {
          "color": "#636efa",
          "pattern": {
           "shape": ""
          }
         },
         "name": "Restaurant",
         "offsetgroup": "Restaurant",
         "orientation": "h",
         "showlegend": true,
         "textposition": "auto",
         "type": "bar",
         "x": [
          62.35038084874864
         ],
         "xaxis": "x",
         "y": [
          "Restaurant"
         ],
         "yaxis": "y"
        },
        {
         "alignmentgroup": "True",
         "hovertemplate": "chain_stablishments=%{y}<br>percentage=%{x}<extra></extra>",
         "legendgroup": "Fast Food",
         "marker": {
          "color": "#EF553B",
          "pattern": {
           "shape": ""
          }
         },
         "name": "Fast Food",
         "offsetgroup": "Fast Food",
         "orientation": "h",
         "showlegend": true,
         "textposition": "auto",
         "type": "bar",
         "x": [
          16.45810663764962
         ],
         "xaxis": "x",
         "y": [
          "Fast Food"
         ],
         "yaxis": "y"
        },
        {
         "alignmentgroup": "True",
         "hovertemplate": "chain_stablishments=%{y}<br>percentage=%{x}<extra></extra>",
         "legendgroup": "Bakery",
         "marker": {
          "color": "#00cc96",
          "pattern": {
           "shape": ""
          }
         },
         "name": "Bakery",
         "offsetgroup": "Bakery",
         "orientation": "h",
         "showlegend": true,
         "textposition": "auto",
         "type": "bar",
         "x": [
          7.698585418933623
         ],
         "xaxis": "x",
         "y": [
          "Bakery"
         ],
         "yaxis": "y"
        },
        {
         "alignmentgroup": "True",
         "hovertemplate": "chain_stablishments=%{y}<br>percentage=%{x}<extra></extra>",
         "legendgroup": "Cafe",
         "marker": {
          "color": "#ab63fa",
          "pattern": {
           "shape": ""
          }
         },
         "name": "Cafe",
         "offsetgroup": "Cafe",
         "orientation": "h",
         "showlegend": true,
         "textposition": "auto",
         "type": "bar",
         "x": [
          7.236126224156692
         ],
         "xaxis": "x",
         "y": [
          "Cafe"
         ],
         "yaxis": "y"
        },
        {
         "alignmentgroup": "True",
         "hovertemplate": "chain_stablishments=%{y}<br>percentage=%{x}<extra></extra>",
         "legendgroup": "Pizza",
         "marker": {
          "color": "#FFA15A",
          "pattern": {
           "shape": ""
          }
         },
         "name": "Pizza",
         "offsetgroup": "Pizza",
         "orientation": "h",
         "showlegend": true,
         "textposition": "auto",
         "type": "bar",
         "x": [
          4.162132752992384
         ],
         "xaxis": "x",
         "y": [
          "Pizza"
         ],
         "yaxis": "y"
        },
        {
         "alignmentgroup": "True",
         "hovertemplate": "chain_stablishments=%{y}<br>percentage=%{x}<extra></extra>",
         "legendgroup": "Bar",
         "marker": {
          "color": "#19d3f3",
          "pattern": {
           "shape": ""
          }
         },
         "name": "Bar",
         "offsetgroup": "Bar",
         "orientation": "h",
         "showlegend": true,
         "textposition": "auto",
         "type": "bar",
         "x": [
          2.0946681175190425
         ],
         "xaxis": "x",
         "y": [
          "Bar"
         ],
         "yaxis": "y"
        }
       ],
       "layout": {
        "barmode": "relative",
        "legend": {
         "title": {
          "text": "chain_stablishments"
         },
         "tracegroupgap": 0
        },
        "template": {
         "data": {
          "bar": [
           {
            "error_x": {
             "color": "#2a3f5f"
            },
            "error_y": {
             "color": "#2a3f5f"
            },
            "marker": {
             "line": {
              "color": "#E5ECF6",
              "width": 0.5
             },
             "pattern": {
              "fillmode": "overlay",
              "size": 10,
              "solidity": 0.2
             }
            },
            "type": "bar"
           }
          ],
          "barpolar": [
           {
            "marker": {
             "line": {
              "color": "#E5ECF6",
              "width": 0.5
             },
             "pattern": {
              "fillmode": "overlay",
              "size": 10,
              "solidity": 0.2
             }
            },
            "type": "barpolar"
           }
          ],
          "carpet": [
           {
            "aaxis": {
             "endlinecolor": "#2a3f5f",
             "gridcolor": "white",
             "linecolor": "white",
             "minorgridcolor": "white",
             "startlinecolor": "#2a3f5f"
            },
            "baxis": {
             "endlinecolor": "#2a3f5f",
             "gridcolor": "white",
             "linecolor": "white",
             "minorgridcolor": "white",
             "startlinecolor": "#2a3f5f"
            },
            "type": "carpet"
           }
          ],
          "choropleth": [
           {
            "colorbar": {
             "outlinewidth": 0,
             "ticks": ""
            },
            "type": "choropleth"
           }
          ],
          "contour": [
           {
            "colorbar": {
             "outlinewidth": 0,
             "ticks": ""
            },
            "colorscale": [
             [
              0,
              "#0d0887"
             ],
             [
              0.1111111111111111,
              "#46039f"
             ],
             [
              0.2222222222222222,
              "#7201a8"
             ],
             [
              0.3333333333333333,
              "#9c179e"
             ],
             [
              0.4444444444444444,
              "#bd3786"
             ],
             [
              0.5555555555555556,
              "#d8576b"
             ],
             [
              0.6666666666666666,
              "#ed7953"
             ],
             [
              0.7777777777777778,
              "#fb9f3a"
             ],
             [
              0.8888888888888888,
              "#fdca26"
             ],
             [
              1,
              "#f0f921"
             ]
            ],
            "type": "contour"
           }
          ],
          "contourcarpet": [
           {
            "colorbar": {
             "outlinewidth": 0,
             "ticks": ""
            },
            "type": "contourcarpet"
           }
          ],
          "heatmap": [
           {
            "colorbar": {
             "outlinewidth": 0,
             "ticks": ""
            },
            "colorscale": [
             [
              0,
              "#0d0887"
             ],
             [
              0.1111111111111111,
              "#46039f"
             ],
             [
              0.2222222222222222,
              "#7201a8"
             ],
             [
              0.3333333333333333,
              "#9c179e"
             ],
             [
              0.4444444444444444,
              "#bd3786"
             ],
             [
              0.5555555555555556,
              "#d8576b"
             ],
             [
              0.6666666666666666,
              "#ed7953"
             ],
             [
              0.7777777777777778,
              "#fb9f3a"
             ],
             [
              0.8888888888888888,
              "#fdca26"
             ],
             [
              1,
              "#f0f921"
             ]
            ],
            "type": "heatmap"
           }
          ],
          "heatmapgl": [
           {
            "colorbar": {
             "outlinewidth": 0,
             "ticks": ""
            },
            "colorscale": [
             [
              0,
              "#0d0887"
             ],
             [
              0.1111111111111111,
              "#46039f"
             ],
             [
              0.2222222222222222,
              "#7201a8"
             ],
             [
              0.3333333333333333,
              "#9c179e"
             ],
             [
              0.4444444444444444,
              "#bd3786"
             ],
             [
              0.5555555555555556,
              "#d8576b"
             ],
             [
              0.6666666666666666,
              "#ed7953"
             ],
             [
              0.7777777777777778,
              "#fb9f3a"
             ],
             [
              0.8888888888888888,
              "#fdca26"
             ],
             [
              1,
              "#f0f921"
             ]
            ],
            "type": "heatmapgl"
           }
          ],
          "histogram": [
           {
            "marker": {
             "pattern": {
              "fillmode": "overlay",
              "size": 10,
              "solidity": 0.2
             }
            },
            "type": "histogram"
           }
          ],
          "histogram2d": [
           {
            "colorbar": {
             "outlinewidth": 0,
             "ticks": ""
            },
            "colorscale": [
             [
              0,
              "#0d0887"
             ],
             [
              0.1111111111111111,
              "#46039f"
             ],
             [
              0.2222222222222222,
              "#7201a8"
             ],
             [
              0.3333333333333333,
              "#9c179e"
             ],
             [
              0.4444444444444444,
              "#bd3786"
             ],
             [
              0.5555555555555556,
              "#d8576b"
             ],
             [
              0.6666666666666666,
              "#ed7953"
             ],
             [
              0.7777777777777778,
              "#fb9f3a"
             ],
             [
              0.8888888888888888,
              "#fdca26"
             ],
             [
              1,
              "#f0f921"
             ]
            ],
            "type": "histogram2d"
           }
          ],
          "histogram2dcontour": [
           {
            "colorbar": {
             "outlinewidth": 0,
             "ticks": ""
            },
            "colorscale": [
             [
              0,
              "#0d0887"
             ],
             [
              0.1111111111111111,
              "#46039f"
             ],
             [
              0.2222222222222222,
              "#7201a8"
             ],
             [
              0.3333333333333333,
              "#9c179e"
             ],
             [
              0.4444444444444444,
              "#bd3786"
             ],
             [
              0.5555555555555556,
              "#d8576b"
             ],
             [
              0.6666666666666666,
              "#ed7953"
             ],
             [
              0.7777777777777778,
              "#fb9f3a"
             ],
             [
              0.8888888888888888,
              "#fdca26"
             ],
             [
              1,
              "#f0f921"
             ]
            ],
            "type": "histogram2dcontour"
           }
          ],
          "mesh3d": [
           {
            "colorbar": {
             "outlinewidth": 0,
             "ticks": ""
            },
            "type": "mesh3d"
           }
          ],
          "parcoords": [
           {
            "line": {
             "colorbar": {
              "outlinewidth": 0,
              "ticks": ""
             }
            },
            "type": "parcoords"
           }
          ],
          "pie": [
           {
            "automargin": true,
            "type": "pie"
           }
          ],
          "scatter": [
           {
            "fillpattern": {
             "fillmode": "overlay",
             "size": 10,
             "solidity": 0.2
            },
            "type": "scatter"
           }
          ],
          "scatter3d": [
           {
            "line": {
             "colorbar": {
              "outlinewidth": 0,
              "ticks": ""
             }
            },
            "marker": {
             "colorbar": {
              "outlinewidth": 0,
              "ticks": ""
             }
            },
            "type": "scatter3d"
           }
          ],
          "scattercarpet": [
           {
            "marker": {
             "colorbar": {
              "outlinewidth": 0,
              "ticks": ""
             }
            },
            "type": "scattercarpet"
           }
          ],
          "scattergeo": [
           {
            "marker": {
             "colorbar": {
              "outlinewidth": 0,
              "ticks": ""
             }
            },
            "type": "scattergeo"
           }
          ],
          "scattergl": [
           {
            "marker": {
             "colorbar": {
              "outlinewidth": 0,
              "ticks": ""
             }
            },
            "type": "scattergl"
           }
          ],
          "scattermapbox": [
           {
            "marker": {
             "colorbar": {
              "outlinewidth": 0,
              "ticks": ""
             }
            },
            "type": "scattermapbox"
           }
          ],
          "scatterpolar": [
           {
            "marker": {
             "colorbar": {
              "outlinewidth": 0,
              "ticks": ""
             }
            },
            "type": "scatterpolar"
           }
          ],
          "scatterpolargl": [
           {
            "marker": {
             "colorbar": {
              "outlinewidth": 0,
              "ticks": ""
             }
            },
            "type": "scatterpolargl"
           }
          ],
          "scatterternary": [
           {
            "marker": {
             "colorbar": {
              "outlinewidth": 0,
              "ticks": ""
             }
            },
            "type": "scatterternary"
           }
          ],
          "surface": [
           {
            "colorbar": {
             "outlinewidth": 0,
             "ticks": ""
            },
            "colorscale": [
             [
              0,
              "#0d0887"
             ],
             [
              0.1111111111111111,
              "#46039f"
             ],
             [
              0.2222222222222222,
              "#7201a8"
             ],
             [
              0.3333333333333333,
              "#9c179e"
             ],
             [
              0.4444444444444444,
              "#bd3786"
             ],
             [
              0.5555555555555556,
              "#d8576b"
             ],
             [
              0.6666666666666666,
              "#ed7953"
             ],
             [
              0.7777777777777778,
              "#fb9f3a"
             ],
             [
              0.8888888888888888,
              "#fdca26"
             ],
             [
              1,
              "#f0f921"
             ]
            ],
            "type": "surface"
           }
          ],
          "table": [
           {
            "cells": {
             "fill": {
              "color": "#EBF0F8"
             },
             "line": {
              "color": "white"
             }
            },
            "header": {
             "fill": {
              "color": "#C8D4E3"
             },
             "line": {
              "color": "white"
             }
            },
            "type": "table"
           }
          ]
         },
         "layout": {
          "annotationdefaults": {
           "arrowcolor": "#2a3f5f",
           "arrowhead": 0,
           "arrowwidth": 1
          },
          "autotypenumbers": "strict",
          "coloraxis": {
           "colorbar": {
            "outlinewidth": 0,
            "ticks": ""
           }
          },
          "colorscale": {
           "diverging": [
            [
             0,
             "#8e0152"
            ],
            [
             0.1,
             "#c51b7d"
            ],
            [
             0.2,
             "#de77ae"
            ],
            [
             0.3,
             "#f1b6da"
            ],
            [
             0.4,
             "#fde0ef"
            ],
            [
             0.5,
             "#f7f7f7"
            ],
            [
             0.6,
             "#e6f5d0"
            ],
            [
             0.7,
             "#b8e186"
            ],
            [
             0.8,
             "#7fbc41"
            ],
            [
             0.9,
             "#4d9221"
            ],
            [
             1,
             "#276419"
            ]
           ],
           "sequential": [
            [
             0,
             "#0d0887"
            ],
            [
             0.1111111111111111,
             "#46039f"
            ],
            [
             0.2222222222222222,
             "#7201a8"
            ],
            [
             0.3333333333333333,
             "#9c179e"
            ],
            [
             0.4444444444444444,
             "#bd3786"
            ],
            [
             0.5555555555555556,
             "#d8576b"
            ],
            [
             0.6666666666666666,
             "#ed7953"
            ],
            [
             0.7777777777777778,
             "#fb9f3a"
            ],
            [
             0.8888888888888888,
             "#fdca26"
            ],
            [
             1,
             "#f0f921"
            ]
           ],
           "sequentialminus": [
            [
             0,
             "#0d0887"
            ],
            [
             0.1111111111111111,
             "#46039f"
            ],
            [
             0.2222222222222222,
             "#7201a8"
            ],
            [
             0.3333333333333333,
             "#9c179e"
            ],
            [
             0.4444444444444444,
             "#bd3786"
            ],
            [
             0.5555555555555556,
             "#d8576b"
            ],
            [
             0.6666666666666666,
             "#ed7953"
            ],
            [
             0.7777777777777778,
             "#fb9f3a"
            ],
            [
             0.8888888888888888,
             "#fdca26"
            ],
            [
             1,
             "#f0f921"
            ]
           ]
          },
          "colorway": [
           "#636efa",
           "#EF553B",
           "#00cc96",
           "#ab63fa",
           "#FFA15A",
           "#19d3f3",
           "#FF6692",
           "#B6E880",
           "#FF97FF",
           "#FECB52"
          ],
          "font": {
           "color": "#2a3f5f"
          },
          "geo": {
           "bgcolor": "white",
           "lakecolor": "white",
           "landcolor": "#E5ECF6",
           "showlakes": true,
           "showland": true,
           "subunitcolor": "white"
          },
          "hoverlabel": {
           "align": "left"
          },
          "hovermode": "closest",
          "mapbox": {
           "style": "light"
          },
          "paper_bgcolor": "white",
          "plot_bgcolor": "#E5ECF6",
          "polar": {
           "angularaxis": {
            "gridcolor": "white",
            "linecolor": "white",
            "ticks": ""
           },
           "bgcolor": "#E5ECF6",
           "radialaxis": {
            "gridcolor": "white",
            "linecolor": "white",
            "ticks": ""
           }
          },
          "scene": {
           "xaxis": {
            "backgroundcolor": "#E5ECF6",
            "gridcolor": "white",
            "gridwidth": 2,
            "linecolor": "white",
            "showbackground": true,
            "ticks": "",
            "zerolinecolor": "white"
           },
           "yaxis": {
            "backgroundcolor": "#E5ECF6",
            "gridcolor": "white",
            "gridwidth": 2,
            "linecolor": "white",
            "showbackground": true,
            "ticks": "",
            "zerolinecolor": "white"
           },
           "zaxis": {
            "backgroundcolor": "#E5ECF6",
            "gridcolor": "white",
            "gridwidth": 2,
            "linecolor": "white",
            "showbackground": true,
            "ticks": "",
            "zerolinecolor": "white"
           }
          },
          "shapedefaults": {
           "line": {
            "color": "#2a3f5f"
           }
          },
          "ternary": {
           "aaxis": {
            "gridcolor": "white",
            "linecolor": "white",
            "ticks": ""
           },
           "baxis": {
            "gridcolor": "white",
            "linecolor": "white",
            "ticks": ""
           },
           "bgcolor": "#E5ECF6",
           "caxis": {
            "gridcolor": "white",
            "linecolor": "white",
            "ticks": ""
           }
          },
          "title": {
           "x": 0.05
          },
          "xaxis": {
           "automargin": true,
           "gridcolor": "white",
           "linecolor": "white",
           "ticks": "",
           "title": {
            "standoff": 15
           },
           "zerolinecolor": "white",
           "zerolinewidth": 2
          },
          "yaxis": {
           "automargin": true,
           "gridcolor": "white",
           "linecolor": "white",
           "ticks": "",
           "title": {
            "standoff": 15
           },
           "zerolinecolor": "white",
           "zerolinewidth": 2
          }
         }
        },
        "title": {
         "text": "Tipo de establecimiento que pertenecen a una cadena"
        },
        "xaxis": {
         "anchor": "y",
         "domain": [
          0,
          1
         ],
         "title": {
          "text": "percentage"
         }
        },
        "yaxis": {
         "anchor": "x",
         "categoryarray": [
          "Bar",
          "Pizza",
          "Cafe",
          "Bakery",
          "Fast Food",
          "Restaurant"
         ],
         "categoryorder": "array",
         "domain": [
          0,
          1
         ],
         "title": {
          "text": "chain_stablishments"
         }
        }
       }
      }
     },
     "metadata": {},
     "output_type": "display_data"
    }
   ],
   "source": [
    "display(chain_data_per_stablishment)\n",
    "\n",
    "\n",
    "fig = px.bar(chain_data_per_stablishment, y='chain_stablishments', x='percentage', color='chain_stablishments', orientation='h', title='Tipo de establecimiento que pertenecen a una cadena')\n",
    "fig.show()"
   ]
  },
  {
   "cell_type": "markdown",
   "metadata": {},
   "source": [
    "De los 3676 establecimientos que pertenecen a una cadena, los restaurantes lideran la representación con un 62% de la proporción, seguido de las Comidas Rápidas con un 16.5% de la representación y Panaderías con un 7.7%."
   ]
  },
  {
   "cell_type": "markdown",
   "metadata": {},
   "source": [
    "## ¿Qué caracteriza a las cadenas: muchos establecimientos con un pequeño número de asientos o unos pocos establecimientos con un montón de asientos?"
   ]
  },
  {
   "cell_type": "code",
   "execution_count": 24,
   "metadata": {},
   "outputs": [
    {
     "data": {
      "text/html": [
       "<div>\n",
       "<style scoped>\n",
       "    .dataframe tbody tr th:only-of-type {\n",
       "        vertical-align: middle;\n",
       "    }\n",
       "\n",
       "    .dataframe tbody tr th {\n",
       "        vertical-align: top;\n",
       "    }\n",
       "\n",
       "    .dataframe thead th {\n",
       "        text-align: right;\n",
       "    }\n",
       "</style>\n",
       "<table border=\"1\" class=\"dataframe\">\n",
       "  <thead>\n",
       "    <tr style=\"text-align: right;\">\n",
       "      <th></th>\n",
       "      <th>number</th>\n",
       "      <th>count</th>\n",
       "    </tr>\n",
       "  </thead>\n",
       "  <tbody>\n",
       "    <tr>\n",
       "      <th>8</th>\n",
       "      <td>1</td>\n",
       "      <td>77</td>\n",
       "    </tr>\n",
       "    <tr>\n",
       "      <th>19</th>\n",
       "      <td>2</td>\n",
       "      <td>72</td>\n",
       "    </tr>\n",
       "    <tr>\n",
       "      <th>2</th>\n",
       "      <td>3</td>\n",
       "      <td>84</td>\n",
       "    </tr>\n",
       "    <tr>\n",
       "      <th>18</th>\n",
       "      <td>4</td>\n",
       "      <td>73</td>\n",
       "    </tr>\n",
       "    <tr>\n",
       "      <th>23</th>\n",
       "      <td>5</td>\n",
       "      <td>69</td>\n",
       "    </tr>\n",
       "    <tr>\n",
       "      <th>...</th>\n",
       "      <td>...</td>\n",
       "      <td>...</td>\n",
       "    </tr>\n",
       "    <tr>\n",
       "      <th>165</th>\n",
       "      <td>225</td>\n",
       "      <td>2</td>\n",
       "    </tr>\n",
       "    <tr>\n",
       "      <th>193</th>\n",
       "      <td>226</td>\n",
       "      <td>1</td>\n",
       "    </tr>\n",
       "    <tr>\n",
       "      <th>150</th>\n",
       "      <td>227</td>\n",
       "      <td>2</td>\n",
       "    </tr>\n",
       "    <tr>\n",
       "      <th>181</th>\n",
       "      <td>228</td>\n",
       "      <td>1</td>\n",
       "    </tr>\n",
       "    <tr>\n",
       "      <th>135</th>\n",
       "      <td>229</td>\n",
       "      <td>3</td>\n",
       "    </tr>\n",
       "  </tbody>\n",
       "</table>\n",
       "<p>203 rows × 2 columns</p>\n",
       "</div>"
      ],
      "text/plain": [
       "     number  count\n",
       "8         1     77\n",
       "19        2     72\n",
       "2         3     84\n",
       "18        4     73\n",
       "23        5     69\n",
       "..      ...    ...\n",
       "165     225      2\n",
       "193     226      1\n",
       "150     227      2\n",
       "181     228      1\n",
       "135     229      3\n",
       "\n",
       "[203 rows x 2 columns]"
      ]
     },
     "execution_count": 24,
     "metadata": {},
     "output_type": "execute_result"
    }
   ],
   "source": [
    "# Nuevamente usamos el dataframe chain_data:\n",
    "\n",
    "seats = chain_data['number'].value_counts().reset_index()\n",
    "seats.sort_values(by='number', ascending=True)"
   ]
  },
  {
   "cell_type": "markdown",
   "metadata": {},
   "source": [
    "El número máximo de asientos en los establecimientos de cadenas es de 229 sillas."
   ]
  },
  {
   "cell_type": "code",
   "execution_count": 25,
   "metadata": {
    "scrolled": true
   },
   "outputs": [
    {
     "name": "stderr",
     "output_type": "stream",
     "text": [
      "No artists with labels found to put in legend.  Note that artists whose label start with an underscore are ignored when legend() is called with no argument.\n"
     ]
    },
    {
     "data": {
      "image/png": "[encoded data removed]",
      "text/plain": [
       "<Figure size 640x480 with 1 Axes>"
      ]
     },
     "metadata": {},
     "output_type": "display_data"
    }
   ],
   "source": [
    "# Análisis gráfico: Gráfico de dispersión por sillas en establecimientos de cadena\n",
    "\n",
    "sns.stripplot(x='number', y='object_type', data=chain_data, hue='object_type', palette='pastel')\n",
    "plt.legend()\n",
    "plt.show()"
   ]
  },
  {
   "cell_type": "markdown",
   "metadata": {},
   "source": [
    "<div class=\"alert alert-block alert-danger\">\n",
    "<b>Comentario del revisor (1ra Iteración)</b> <a class=“tocSkip”></a>\n",
    "\n",
    "Parece que hay un error con el parámetro legend, te recomiendo manejar la parte de los legends desde pyplot con plt.legend()\n",
    "</div>"
   ]
  },
  {
   "cell_type": "markdown",
   "metadata": {},
   "source": [
    "<div class=\"alert alert-block alert-info\">\n",
    "<b>Se corrige y se hace uso de plt.legend() <b> <a class=“tocSkip”></a>\n",
    "</div>"
   ]
  },
  {
   "cell_type": "markdown",
   "metadata": {},
   "source": [
    "<div class=\"alert alert-block alert-success\">\n",
    "<b>Comentario del revisor (2da Iteración)</b> <a class=“tocSkip”></a>\n",
    "\n",
    "Perfecto! Buen trabajo\n",
    "</div>"
   ]
  },
  {
   "cell_type": "code",
   "execution_count": 26,
   "metadata": {},
   "outputs": [
    {
     "name": "stderr",
     "output_type": "stream",
     "text": [
      "No artists with labels found to put in legend.  Note that artists whose label start with an underscore are ignored when legend() is called with no argument.\n"
     ]
    },
    {
     "data": {
      "image/png": "[encoded data removed]",
      "text/plain": [
       "<Figure size 640x480 with 1 Axes>"
      ]
     },
     "metadata": {},
     "output_type": "display_data"
    }
   ],
   "source": [
    "# Análisis gráfico: Gráfico de violines por sillas en establecimientos de cadena\n",
    "\n",
    "sns.violinplot(x=\"object_type\", y=\"number\", hue='object_type', data=chain_data, palette='pastel')\n",
    "plt.legend()\n",
    "plt.show()"
   ]
  },
  {
   "cell_type": "code",
   "execution_count": 27,
   "metadata": {},
   "outputs": [
    {
     "name": "stdout",
     "output_type": "stream",
     "text": [
      "count    3676.000000\n",
      "mean       39.694233\n",
      "std        43.437212\n",
      "min         1.000000\n",
      "25%        13.000000\n",
      "50%        25.000000\n",
      "75%        44.000000\n",
      "max       229.000000\n",
      "Name: number, dtype: float64\n"
     ]
    }
   ],
   "source": [
    "# Para corroborar la información obtendremos los percentiles de los datos:\n",
    "\n",
    "print(chain_data['number'].describe())"
   ]
  },
  {
   "cell_type": "code",
   "execution_count": 28,
   "metadata": {},
   "outputs": [
    {
     "name": "stdout",
     "output_type": "stream",
     "text": [
      "0.90    107.00\n",
      "0.95    140.00\n",
      "0.99    206.25\n",
      "Name: number, dtype: float64\n"
     ]
    }
   ],
   "source": [
    "print(chain_data['number'].quantile([.90, .95, .99]))"
   ]
  },
  {
   "cell_type": "markdown",
   "metadata": {},
   "source": [
    "En promedio los establecimientos de cadena usan 40 sillas, y el 75% usa 44 sillas o menos. También es de notar que el 90% de los establecimientos de cadena usa 107 sillas o menos, el 5% usa 140 sillas o más y sólo el 1% de los establecimientos tiene 206 sillas o más en sus instalaciones; por lo tanto las cadenas se caracterizan por pocos establecimientos con muchas sillas y la gran mayoría (el 90%) usa menos de 107 sillas en sus instalaciones."
   ]
  },
  {
   "cell_type": "markdown",
   "metadata": {},
   "source": [
    "## Determina el promedio de número de asientos para cada tipo de restaurante. De promedio, ¿qué tipo de restaurante tiene el mayor número de asientos? Traza gráficos."
   ]
  },
  {
   "cell_type": "code",
   "execution_count": 29,
   "metadata": {},
   "outputs": [
    {
     "name": "stderr",
     "output_type": "stream",
     "text": [
      "C:\\Users\\c_ort\\AppData\\Local\\Temp\\ipykernel_31136\\3319224087.py:1: FutureWarning:\n",
      "\n",
      "The default of observed=False is deprecated and will be changed to True in a future version of pandas. Pass observed=False to retain current behavior or observed=True to adopt the future default and silence this warning.\n",
      "\n"
     ]
    },
    {
     "data": {
      "text/html": [
       "<div>\n",
       "<style scoped>\n",
       "    .dataframe tbody tr th:only-of-type {\n",
       "        vertical-align: middle;\n",
       "    }\n",
       "\n",
       "    .dataframe tbody tr th {\n",
       "        vertical-align: top;\n",
       "    }\n",
       "\n",
       "    .dataframe thead th {\n",
       "        text-align: right;\n",
       "    }\n",
       "</style>\n",
       "<table border=\"1\" class=\"dataframe\">\n",
       "  <thead>\n",
       "    <tr style=\"text-align: right;\">\n",
       "      <th></th>\n",
       "      <th>stablishment_type</th>\n",
       "      <th>avg_number_of_seats</th>\n",
       "    </tr>\n",
       "  </thead>\n",
       "  <tbody>\n",
       "    <tr>\n",
       "      <th>5</th>\n",
       "      <td>Restaurant</td>\n",
       "      <td>48.048807</td>\n",
       "    </tr>\n",
       "    <tr>\n",
       "      <th>1</th>\n",
       "      <td>Bar</td>\n",
       "      <td>44.767123</td>\n",
       "    </tr>\n",
       "    <tr>\n",
       "      <th>3</th>\n",
       "      <td>Fast Food</td>\n",
       "      <td>31.837711</td>\n",
       "    </tr>\n",
       "    <tr>\n",
       "      <th>4</th>\n",
       "      <td>Pizza</td>\n",
       "      <td>28.545455</td>\n",
       "    </tr>\n",
       "    <tr>\n",
       "      <th>2</th>\n",
       "      <td>Cafe</td>\n",
       "      <td>25.000000</td>\n",
       "    </tr>\n",
       "    <tr>\n",
       "      <th>0</th>\n",
       "      <td>Bakery</td>\n",
       "      <td>21.773852</td>\n",
       "    </tr>\n",
       "  </tbody>\n",
       "</table>\n",
       "</div>"
      ],
      "text/plain": [
       "  stablishment_type  avg_number_of_seats\n",
       "5        Restaurant            48.048807\n",
       "1               Bar            44.767123\n",
       "3         Fast Food            31.837711\n",
       "4             Pizza            28.545455\n",
       "2              Cafe            25.000000\n",
       "0            Bakery            21.773852"
      ]
     },
     "metadata": {},
     "output_type": "display_data"
    }
   ],
   "source": [
    "df_avg_seats = df.groupby('object_type')['number'].mean().reset_index()\n",
    "df_avg_seats.columns = ['stablishment_type', 'avg_number_of_seats']\n",
    "df_avg_seats = df_avg_seats.sort_values(by='avg_number_of_seats', ascending=False)\n",
    "\n",
    "display(df_avg_seats)"
   ]
  },
  {
   "cell_type": "code",
   "execution_count": 30,
   "metadata": {},
   "outputs": [
    {
     "data": {
      "image/png": "[encoded data removed]",
      "text/plain": [
       "<Figure size 640x480 with 1 Axes>"
      ]
     },
     "metadata": {},
     "output_type": "display_data"
    }
   ],
   "source": [
    "\n",
    "sns.barplot(data=df_avg_seats, x=\"stablishment_type\", y=\"avg_number_of_seats\", hue='stablishment_type', palette='pastel', saturation = 1.0)\n",
    "plt.title('Número promedio de asientos por establecimiento')\n",
    "plt.show()"
   ]
  },
  {
   "cell_type": "markdown",
   "metadata": {},
   "source": [
    "<div class=\"alert alert-block alert-danger\">\n",
    "<b>Comentario del revisor (1ra Iteración)</b> <a class=“tocSkip”></a>\n",
    "\n",
    "Este error suele ocurrir cuando seaborn no logra interpretar bien las columnas en el DataFrame, te recomiendo siempre especificar que el dataframe va a ser de donde se deben tomar los datos con el parámetro `data`, es decir, `data=df_avg_seats`\n",
    "</div>"
   ]
  },
  {
   "cell_type": "markdown",
   "metadata": {},
   "source": [
    "<div class=\"alert alert-block alert-info\">\n",
    "<b>Se corrige y se hace uso de data=df_avg_seats <b> <a class=“tocSkip”></a>\n",
    "</div>"
   ]
  },
  {
   "cell_type": "markdown",
   "metadata": {},
   "source": [
    "<div class=\"alert alert-block alert-success\">\n",
    "<b>Comentario del revisor (2da Iteración)</b> <a class=“tocSkip”></a>\n",
    "\n",
    "Perfecto! Buen trabajo\n",
    "</div>"
   ]
  },
  {
   "cell_type": "markdown",
   "metadata": {},
   "source": [
    "Los restaurantes son los que en promedio tienen mayor número de asientos en sus instalaciones (48 sillas en promedio por establecimiento)."
   ]
  },
  {
   "cell_type": "markdown",
   "metadata": {},
   "source": [
    "## Coloca los datos de los nombres de las calles de la columna address en una columna separada."
   ]
  },
  {
   "cell_type": "code",
   "execution_count": 31,
   "metadata": {},
   "outputs": [
    {
     "data": {
      "text/plain": [
       "8704              4216 MELROSE AVE\n",
       "344             5214 W SUNSET BLVD\n",
       "5894             10955 KINROSS AVE\n",
       "6267              9575 W PICO BLVD\n",
       "3651    621 S WESTERN AVE STE #301\n",
       "4159            4520 W SUNSET BLVD\n",
       "9509              1689 EASTERN AVE\n",
       "7561             10701 VENICE BLVD\n",
       "7541            2904 S FIGUEROA ST\n",
       "7458            1253 N VINE ST #12\n",
       "5709     2217 E CESAR E CHAVEZ AVE\n",
       "2448             11328 VERMONT AVE\n",
       "9409       3424 WILSHIRE BLVD MEZZ\n",
       "9222         450 S WESTERN AVE FC4\n",
       "9045            1090 WILSHIRE BLVD\n",
       "Name: address, dtype: category\n",
       "Categories (8509, object): ['00936 S MAPLE AVE 17', '01253 N VINE ST #7A', '03742 S FLOWER ST', '05358 WILSHIRE BLVD', ..., 'OLVERA ST 5', 'OLVERA ST E17', 'OLVERA ST E8', 'OLVERA ST W17']"
      ]
     },
     "execution_count": 31,
     "metadata": {},
     "output_type": "execute_result"
    }
   ],
   "source": [
    "# Inicialmente veremos la estructura de df['address']:\n",
    "\n",
    "df['address'].sample(15)"
   ]
  },
  {
   "cell_type": "markdown",
   "metadata": {},
   "source": [
    "En este caso se observa que la estructura de las direcciones se compone inicialmente en un número y posteriormente en texto (a veces acompañado de números)"
   ]
  },
  {
   "cell_type": "code",
   "execution_count": 32,
   "metadata": {},
   "outputs": [],
   "source": [
    "# Teniendo en cuenta la observación anterior, se procede a crear una nueva columna que almacene los nombres de las calles:\n",
    "\n",
    "df['street_name'] = df['address'].apply(lambda x: ' '.join(x.split()[1:]))"
   ]
  },
  {
   "cell_type": "code",
   "execution_count": 33,
   "metadata": {
    "scrolled": true
   },
   "outputs": [
    {
     "data": {
      "text/html": [
       "<div>\n",
       "<style scoped>\n",
       "    .dataframe tbody tr th:only-of-type {\n",
       "        vertical-align: middle;\n",
       "    }\n",
       "\n",
       "    .dataframe tbody tr th {\n",
       "        vertical-align: top;\n",
       "    }\n",
       "\n",
       "    .dataframe thead th {\n",
       "        text-align: right;\n",
       "    }\n",
       "</style>\n",
       "<table border=\"1\" class=\"dataframe\">\n",
       "  <thead>\n",
       "    <tr style=\"text-align: right;\">\n",
       "      <th></th>\n",
       "      <th>id</th>\n",
       "      <th>object_name</th>\n",
       "      <th>address</th>\n",
       "      <th>chain</th>\n",
       "      <th>object_type</th>\n",
       "      <th>number</th>\n",
       "      <th>street_name</th>\n",
       "    </tr>\n",
       "  </thead>\n",
       "  <tbody>\n",
       "    <tr>\n",
       "      <th>6226</th>\n",
       "      <td>18012</td>\n",
       "      <td>IPIC THEATER</td>\n",
       "      <td>10840 WILSHIRE BLVD</td>\n",
       "      <td>False</td>\n",
       "      <td>Restaurant</td>\n",
       "      <td>178</td>\n",
       "      <td>WILSHIRE BLVD</td>\n",
       "    </tr>\n",
       "    <tr>\n",
       "      <th>4178</th>\n",
       "      <td>15964</td>\n",
       "      <td>YANG BAN SUL LUNG TANG INC</td>\n",
       "      <td>1515 MAPLE AVE STE 1</td>\n",
       "      <td>False</td>\n",
       "      <td>Restaurant</td>\n",
       "      <td>48</td>\n",
       "      <td>MAPLE AVE STE 1</td>\n",
       "    </tr>\n",
       "    <tr>\n",
       "      <th>2830</th>\n",
       "      <td>14616</td>\n",
       "      <td>LA MAYORDOMIA</td>\n",
       "      <td>5892 S BROADWAY</td>\n",
       "      <td>False</td>\n",
       "      <td>Restaurant</td>\n",
       "      <td>5</td>\n",
       "      <td>S BROADWAY</td>\n",
       "    </tr>\n",
       "    <tr>\n",
       "      <th>8488</th>\n",
       "      <td>20274</td>\n",
       "      <td>TACOS TU MADRE</td>\n",
       "      <td>1824 N VERMONT AVE</td>\n",
       "      <td>True</td>\n",
       "      <td>Fast Food</td>\n",
       "      <td>22</td>\n",
       "      <td>N VERMONT AVE</td>\n",
       "    </tr>\n",
       "    <tr>\n",
       "      <th>6718</th>\n",
       "      <td>18504</td>\n",
       "      <td>GUISADOS</td>\n",
       "      <td>1261 W SUNSET BLVD</td>\n",
       "      <td>True</td>\n",
       "      <td>Restaurant</td>\n",
       "      <td>77</td>\n",
       "      <td>W SUNSET BLVD</td>\n",
       "    </tr>\n",
       "    <tr>\n",
       "      <th>9418</th>\n",
       "      <td>21204</td>\n",
       "      <td>JACK IN THE BOX # 228</td>\n",
       "      <td>805 MANCHESTER AVE</td>\n",
       "      <td>True</td>\n",
       "      <td>Restaurant</td>\n",
       "      <td>45</td>\n",
       "      <td>MANCHESTER AVE</td>\n",
       "    </tr>\n",
       "    <tr>\n",
       "      <th>9073</th>\n",
       "      <td>20859</td>\n",
       "      <td>SHAKE SHACK</td>\n",
       "      <td>10250 SANTA MONICA BLVD 202</td>\n",
       "      <td>True</td>\n",
       "      <td>Restaurant</td>\n",
       "      <td>76</td>\n",
       "      <td>SANTA MONICA BLVD 202</td>\n",
       "    </tr>\n",
       "    <tr>\n",
       "      <th>3541</th>\n",
       "      <td>15327</td>\n",
       "      <td>LA FAMOSITA BAKERY</td>\n",
       "      <td>5116 S CENTRAL AVE</td>\n",
       "      <td>True</td>\n",
       "      <td>Bakery</td>\n",
       "      <td>25</td>\n",
       "      <td>S CENTRAL AVE</td>\n",
       "    </tr>\n",
       "    <tr>\n",
       "      <th>6550</th>\n",
       "      <td>18336</td>\n",
       "      <td>CLEO</td>\n",
       "      <td>1717 N VINE ST</td>\n",
       "      <td>True</td>\n",
       "      <td>Restaurant</td>\n",
       "      <td>138</td>\n",
       "      <td>N VINE ST</td>\n",
       "    </tr>\n",
       "    <tr>\n",
       "      <th>8400</th>\n",
       "      <td>20186</td>\n",
       "      <td>MARU COFFEE</td>\n",
       "      <td>1019 S SANTA FE AVE</td>\n",
       "      <td>True</td>\n",
       "      <td>Cafe</td>\n",
       "      <td>16</td>\n",
       "      <td>S SANTA FE AVE</td>\n",
       "    </tr>\n",
       "    <tr>\n",
       "      <th>3644</th>\n",
       "      <td>15430</td>\n",
       "      <td>SABY'S CAFE &amp; JUICE BAR</td>\n",
       "      <td>12900 W VENICE BLVD</td>\n",
       "      <td>True</td>\n",
       "      <td>Bar</td>\n",
       "      <td>22</td>\n",
       "      <td>W VENICE BLVD</td>\n",
       "    </tr>\n",
       "    <tr>\n",
       "      <th>4819</th>\n",
       "      <td>16605</td>\n",
       "      <td>BEVERLYWOOD BAKERY</td>\n",
       "      <td>9128 W PICO BLVD</td>\n",
       "      <td>True</td>\n",
       "      <td>Bakery</td>\n",
       "      <td>27</td>\n",
       "      <td>W PICO BLVD</td>\n",
       "    </tr>\n",
       "    <tr>\n",
       "      <th>3656</th>\n",
       "      <td>15442</td>\n",
       "      <td>KREATION AND  3RD ST KAFE</td>\n",
       "      <td>8428 W 3RD ST</td>\n",
       "      <td>False</td>\n",
       "      <td>Restaurant</td>\n",
       "      <td>67</td>\n",
       "      <td>W 3RD ST</td>\n",
       "    </tr>\n",
       "    <tr>\n",
       "      <th>9041</th>\n",
       "      <td>20827</td>\n",
       "      <td>LILLY'S SNACKS &amp; DELI</td>\n",
       "      <td>4311 WILSHIRE BLVD 102</td>\n",
       "      <td>True</td>\n",
       "      <td>Restaurant</td>\n",
       "      <td>12</td>\n",
       "      <td>WILSHIRE BLVD 102</td>\n",
       "    </tr>\n",
       "    <tr>\n",
       "      <th>2418</th>\n",
       "      <td>14204</td>\n",
       "      <td>SAY CHEESE CAFE</td>\n",
       "      <td>2800 HYPERION AVE</td>\n",
       "      <td>False</td>\n",
       "      <td>Restaurant</td>\n",
       "      <td>16</td>\n",
       "      <td>HYPERION AVE</td>\n",
       "    </tr>\n",
       "  </tbody>\n",
       "</table>\n",
       "</div>"
      ],
      "text/plain": [
       "         id                 object_name                      address  chain  \\\n",
       "6226  18012                IPIC THEATER          10840 WILSHIRE BLVD  False   \n",
       "4178  15964  YANG BAN SUL LUNG TANG INC         1515 MAPLE AVE STE 1  False   \n",
       "2830  14616               LA MAYORDOMIA              5892 S BROADWAY  False   \n",
       "8488  20274              TACOS TU MADRE           1824 N VERMONT AVE   True   \n",
       "6718  18504                    GUISADOS           1261 W SUNSET BLVD   True   \n",
       "9418  21204       JACK IN THE BOX # 228           805 MANCHESTER AVE   True   \n",
       "9073  20859                 SHAKE SHACK  10250 SANTA MONICA BLVD 202   True   \n",
       "3541  15327          LA FAMOSITA BAKERY           5116 S CENTRAL AVE   True   \n",
       "6550  18336                        CLEO               1717 N VINE ST   True   \n",
       "8400  20186                 MARU COFFEE          1019 S SANTA FE AVE   True   \n",
       "3644  15430     SABY'S CAFE & JUICE BAR          12900 W VENICE BLVD   True   \n",
       "4819  16605          BEVERLYWOOD BAKERY             9128 W PICO BLVD   True   \n",
       "3656  15442   KREATION AND  3RD ST KAFE                8428 W 3RD ST  False   \n",
       "9041  20827       LILLY'S SNACKS & DELI       4311 WILSHIRE BLVD 102   True   \n",
       "2418  14204             SAY CHEESE CAFE            2800 HYPERION AVE  False   \n",
       "\n",
       "     object_type  number            street_name  \n",
       "6226  Restaurant     178          WILSHIRE BLVD  \n",
       "4178  Restaurant      48        MAPLE AVE STE 1  \n",
       "2830  Restaurant       5             S BROADWAY  \n",
       "8488   Fast Food      22          N VERMONT AVE  \n",
       "6718  Restaurant      77          W SUNSET BLVD  \n",
       "9418  Restaurant      45         MANCHESTER AVE  \n",
       "9073  Restaurant      76  SANTA MONICA BLVD 202  \n",
       "3541      Bakery      25          S CENTRAL AVE  \n",
       "6550  Restaurant     138              N VINE ST  \n",
       "8400        Cafe      16         S SANTA FE AVE  \n",
       "3644         Bar      22          W VENICE BLVD  \n",
       "4819      Bakery      27            W PICO BLVD  \n",
       "3656  Restaurant      67               W 3RD ST  \n",
       "9041  Restaurant      12      WILSHIRE BLVD 102  \n",
       "2418  Restaurant      16           HYPERION AVE  "
      ]
     },
     "execution_count": 33,
     "metadata": {},
     "output_type": "execute_result"
    }
   ],
   "source": [
    "df.sample(15)"
   ]
  },
  {
   "cell_type": "markdown",
   "metadata": {},
   "source": [
    "<div class=\"alert alert-block alert-success\">\n",
    "<b>Comentario del revisor (1ra Iteración)</b> <a class=“tocSkip”></a>\n",
    "\n",
    "Buen trabajo!\n",
    "</div>"
   ]
  },
  {
   "cell_type": "markdown",
   "metadata": {},
   "source": [
    "## Traza un gráfico de las diez mejores calles por número de restaurantes."
   ]
  },
  {
   "cell_type": "code",
   "execution_count": 35,
   "metadata": {},
   "outputs": [
    {
     "data": {
      "text/html": [
       "<div>\n",
       "<style scoped>\n",
       "    .dataframe tbody tr th:only-of-type {\n",
       "        vertical-align: middle;\n",
       "    }\n",
       "\n",
       "    .dataframe tbody tr th {\n",
       "        vertical-align: top;\n",
       "    }\n",
       "\n",
       "    .dataframe thead th {\n",
       "        text-align: right;\n",
       "    }\n",
       "</style>\n",
       "<table border=\"1\" class=\"dataframe\">\n",
       "  <thead>\n",
       "    <tr style=\"text-align: right;\">\n",
       "      <th></th>\n",
       "      <th>street_name</th>\n",
       "      <th>stablishments_per_street</th>\n",
       "    </tr>\n",
       "  </thead>\n",
       "  <tbody>\n",
       "    <tr>\n",
       "      <th>0</th>\n",
       "      <td>W SUNSET BLVD</td>\n",
       "      <td>296</td>\n",
       "    </tr>\n",
       "    <tr>\n",
       "      <th>1</th>\n",
       "      <td>W PICO BLVD</td>\n",
       "      <td>288</td>\n",
       "    </tr>\n",
       "    <tr>\n",
       "      <th>2</th>\n",
       "      <td>HOLLYWOOD BLVD</td>\n",
       "      <td>167</td>\n",
       "    </tr>\n",
       "    <tr>\n",
       "      <th>3</th>\n",
       "      <td>WILSHIRE BLVD</td>\n",
       "      <td>161</td>\n",
       "    </tr>\n",
       "    <tr>\n",
       "      <th>4</th>\n",
       "      <td>S VERMONT AVE</td>\n",
       "      <td>148</td>\n",
       "    </tr>\n",
       "    <tr>\n",
       "      <th>5</th>\n",
       "      <td>SANTA MONICA BLVD</td>\n",
       "      <td>146</td>\n",
       "    </tr>\n",
       "    <tr>\n",
       "      <th>6</th>\n",
       "      <td>W 3RD ST</td>\n",
       "      <td>145</td>\n",
       "    </tr>\n",
       "    <tr>\n",
       "      <th>7</th>\n",
       "      <td>BEVERLY BLVD</td>\n",
       "      <td>135</td>\n",
       "    </tr>\n",
       "    <tr>\n",
       "      <th>8</th>\n",
       "      <td>S FIGUEROA ST</td>\n",
       "      <td>134</td>\n",
       "    </tr>\n",
       "    <tr>\n",
       "      <th>9</th>\n",
       "      <td>MELROSE AVE</td>\n",
       "      <td>128</td>\n",
       "    </tr>\n",
       "  </tbody>\n",
       "</table>\n",
       "</div>"
      ],
      "text/plain": [
       "         street_name  stablishments_per_street\n",
       "0      W SUNSET BLVD                       296\n",
       "1        W PICO BLVD                       288\n",
       "2     HOLLYWOOD BLVD                       167\n",
       "3      WILSHIRE BLVD                       161\n",
       "4      S VERMONT AVE                       148\n",
       "5  SANTA MONICA BLVD                       146\n",
       "6           W 3RD ST                       145\n",
       "7       BEVERLY BLVD                       135\n",
       "8      S FIGUEROA ST                       134\n",
       "9        MELROSE AVE                       128"
      ]
     },
     "metadata": {},
     "output_type": "display_data"
    },
    {
     "data": {
      "image/png": "[encoded data removed]",
      "text/plain": [
       "<Figure size 640x480 with 1 Axes>"
      ]
     },
     "metadata": {},
     "output_type": "display_data"
    }
   ],
   "source": [
    "# Cálculo del top 10 de calles por número de establecimientos:\n",
    "\n",
    "stablishments_per_street = df.groupby('street_name')['object_name'].count().reset_index()\n",
    "stablishments_per_street.columns = ['street_name', 'stablishments_per_street']\n",
    "top_10_streets_stablishment = stablishments_per_street.sort_values(by='stablishments_per_street', ascending=False)[:10].reset_index(drop=True)\n",
    "\n",
    "display(top_10_streets_stablishment)\n",
    "\n",
    "\n",
    "# Gráfico de Top 10 calles con mayor número de establecimientos:\n",
    "sns.barplot(data=top_10_streets_stablishment, x=\"stablishments_per_street\", y=\"street_name\", hue='street_name', legend=False, palette='pastel', saturation = 1.0)\n",
    "plt.title('Top 10 calles con mayor número de establecimientos')\n",
    "plt.show()"
   ]
  },
  {
   "cell_type": "markdown",
   "metadata": {},
   "source": [
    "Las calles que más establecimientos tienen son: W SUNSET BLVD (con 296 establecimientos), W PICO BLVD (288 establecimientos), HOLLYWOOD BLVD (167 establecimientos)."
   ]
  },
  {
   "cell_type": "markdown",
   "metadata": {},
   "source": [
    "## Encuentra el número de calles que solo tienen un restaurante."
   ]
  },
  {
   "cell_type": "code",
   "execution_count": 36,
   "metadata": {},
   "outputs": [
    {
     "name": "stdout",
     "output_type": "stream",
     "text": [
      "Calles con un solo restaurante: 2445\n"
     ]
    }
   ],
   "source": [
    "# Reutilizamos el dataframe stablishments_per_street:\n",
    "\n",
    "one_stablishment_per_street = stablishments_per_street[stablishments_per_street['stablishments_per_street'] == 1]\n",
    "\n",
    "print('Calles con un solo restaurante:', one_stablishment_per_street['stablishments_per_street'].count())"
   ]
  },
  {
   "cell_type": "markdown",
   "metadata": {},
   "source": [
    "## Para las calles con muchos restaurantes, analiza la distribución del número de asientos. ¿Qué tendencias puedes ver?"
   ]
  },
  {
   "cell_type": "code",
   "execution_count": 37,
   "metadata": {
    "scrolled": false
   },
   "outputs": [
    {
     "name": "stdout",
     "output_type": "stream",
     "text": [
      "                   count       mean        std  min    25%   50%    75%    max\n",
      "street_name                                                                   \n",
      "BEVERLY BLVD       135.0  44.770370  43.946362  1.0  17.00  29.0  48.00  218.0\n",
      "HOLLYWOOD BLVD     167.0  53.730539  53.512912  1.0  17.00  36.0  66.00  229.0\n",
      "MELROSE AVE        128.0  52.429688  47.245828  1.0  16.75  38.5  90.00  222.0\n",
      "S FIGUEROA ST      134.0  50.761194  51.254661  3.0  17.00  28.0  70.00  226.0\n",
      "S VERMONT AVE      148.0  45.878378  50.974571  1.0  16.25  27.0  47.00  227.0\n",
      "SANTA MONICA BLVD  146.0  32.390411  32.665995  1.0  12.00  24.0  40.75  185.0\n",
      "W 3RD ST           145.0  43.931034  41.219038  1.0  16.00  31.0  47.00  161.0\n",
      "W PICO BLVD        288.0  40.878472  41.772352  1.0  13.00  27.0  45.00  205.0\n",
      "W SUNSET BLVD      296.0  50.918919  50.484502  1.0  17.00  35.0  66.25  229.0\n",
      "WILSHIRE BLVD      161.0  62.130435  57.475879  3.0  22.00  40.0  93.00  229.0\n"
     ]
    },
    {
     "name": "stderr",
     "output_type": "stream",
     "text": [
      "No artists with labels found to put in legend.  Note that artists whose label start with an underscore are ignored when legend() is called with no argument.\n"
     ]
    },
    {
     "data": {
      "image/png": "[encoded data removed]",
      "text/plain": [
       "<Figure size 1800x1200 with 1 Axes>"
      ]
     },
     "metadata": {},
     "output_type": "display_data"
    }
   ],
   "source": [
    "# Inicialmente filtramos aquellas calles que coincidan con los nombres de las calles que pertenecen al top 10:\n",
    "top_10_streets_filter = df[df['street_name'].isin(top_10_streets_stablishment['street_name'])]\n",
    "\n",
    "\n",
    "# Descripción estadística de los asientos por calle:\n",
    "top_10_streets_seats_distribution = top_10_streets_filter.groupby('street_name')['number'].describe()\n",
    "\n",
    "print(top_10_streets_seats_distribution)\n",
    "\n",
    "\n",
    "# Distribución gráfica por diagrama de cajas:\n",
    "plt.figure(figsize=(18,12))\n",
    "sns.boxplot(x = 'street_name', y = 'number', data = top_10_streets_filter, hue='street_name',palette= 'pastel', saturation = 0.9, linewidth = 1)\n",
    "plt.legend()\n",
    "plt.xlabel('Calles')\n",
    "plt.ylabel('Número de asientos')\n",
    "plt.show()\n"
   ]
  },
  {
   "cell_type": "code",
   "execution_count": 38,
   "metadata": {},
   "outputs": [
    {
     "data": {
      "text/plain": [
       "street_name            \n",
       "BEVERLY BLVD       0.95    136.00\n",
       "                   0.99    205.64\n",
       "HOLLYWOOD BLVD     0.95    167.00\n",
       "                   0.99    205.50\n",
       "MELROSE AVE        0.95    138.65\n",
       "                   0.99    196.01\n",
       "S FIGUEROA ST      0.95    150.50\n",
       "                   0.99    222.01\n",
       "S VERMONT AVE      0.95    151.80\n",
       "                   0.99    224.12\n",
       "SANTA MONICA BLVD  0.95    109.50\n",
       "                   0.99    152.55\n",
       "W 3RD ST           0.95    137.60\n",
       "                   0.99    153.48\n",
       "W PICO BLVD        0.95    134.00\n",
       "                   0.99    175.29\n",
       "W SUNSET BLVD      0.95    169.00\n",
       "                   0.99    217.05\n",
       "WILSHIRE BLVD      0.95    184.00\n",
       "                   0.99    226.20\n",
       "Name: number, dtype: float64"
      ]
     },
     "execution_count": 38,
     "metadata": {},
     "output_type": "execute_result"
    }
   ],
   "source": [
    "# Análisis estadísticos en los cuantiles 95 y 99:\n",
    "top_10_streets_filter.groupby('street_name')['number'].quantile([.95, .99])"
   ]
  },
  {
   "cell_type": "markdown",
   "metadata": {},
   "source": [
    "En este caso podemos observar que aquellas calles con mayor número de restaurantes tienen un amplio rango de sillas en sus establecimientos. Por ejemplo W SUNSET BLVD (la calle con mayor número de establecimientos) tiene en promedio 51 sillas, pero a su vez muestra datos atípicos hasta llegar a un máximo de 229 sillas por establecimiento. Lo mismo pasa con HOLLYWOOD BLVD y con WILSHIRE BLVD que llegan a tener en su haber más de 200 asientos por establecimiento. \n",
    "\n",
    "Se puede decir que en cada calle hay una diversidad de establecimientos que tienen variadas cantidades en sus asientos (puede intuirse que hay desde establecimientos con poca capacidad como de mucha capacidad)."
   ]
  },
  {
   "cell_type": "markdown",
   "metadata": {},
   "source": [
    "## Llega a una conclusión y aporta recomendaciones sobre el tipo de restaurante y el número de asientos. Comenta la posibilidad de desarrollar una cadena."
   ]
  },
  {
   "cell_type": "markdown",
   "metadata": {},
   "source": [
    "Dado el panorama de los resultados descritos anteriormente podemos establecer qué:\n",
    "\n",
    "1. Los tipos de establecimientos más populares en la ciudad son los restaurantes con un 75% de presencia, comidas rápidas con 11% mientras que los cafés ocupan un 4.5% de presencia.\n",
    "2. La gran mayoría de establecimientos NO pertenece a una cadena (el 62% de los establecimientos no son cadenas). Y de aquellos establecimientos que pertenecen a una cadena, los restaurantes lideran el listado con el 62.35 % de la representación, comidas rápidas 16.5%, panaderías 7.7% y los cafés 7.23%.\n",
    "3. Asumiendo que el tamaño del local va en función del número de asientos por establecimiento, los cafés tienen en promedio 25 sillas por establecimiento, mientras que los restaurantes lideran ese rubro con 48 sillas por establecimiento. Por otro lado las calles que más establecimientos contienen, tienen como rango de promedio de asientos entre 32 a 63 sillas; siendo W PICO BLVD y W SUNSET BLVD aquellas calles que se manejan en un rango de 41 a 51 sillas en promedio. Sin embargo cabe notar que como la mayoría son restaurantes son éstos los que suben el promedio de asientos por establecimiento.\n",
    "\n",
    "Teniendo en cuenta lo anterior, podemos concluir que:\n",
    "\n",
    "- No es recomendable que un café pertenezca a una cadena, al menos no de forma inicial, debido a que son escasas y su presencia no es representativa en los establecimientos que pertenecen a una cadena.\n",
    "- Hacer presencia en los barrios con mayor número de establecimientos; como pueden ser W PICO BLVD y W SUNSET BLVD y tener un tamaño de sillas entre 40 a 50 máximo. Así estaría dentro de la media de asiento de los barrios y por encima de la media de sillas de un café (25 sillas en promedio). Dado que es un proyecto costoso, sería bueno contemplar la posibilidad de tener un espacio para ampliar un negocio a futuro (en caso que empiece a ser muy rentable) y/o crear una cadena, sin embargo, como se mencionó antes, no es recomendable hacerlo de forma inicial.\n"
   ]
  },
  {
   "cell_type": "markdown",
   "metadata": {},
   "source": [
    "# Presentación en la nube:\n",
    "\n",
    "\n",
    "<https://drive.google.com/file/d/1kKaxJ6Ntkx3wSialSlBeazbcWwAghMs6/view?usp=sharing>\n"
   ]
  }
 ],
 "metadata": {
  "ExecuteTimeLog": [
   {
    "duration": 1476,
    "start_time": "2024-07-04T01:44:11.000Z"
   },
   {
    "duration": 597,
    "start_time": "2024-07-04T01:44:12.480Z"
   },
   {
    "duration": 17,
    "start_time": "2024-07-04T01:44:13.079Z"
   },
   {
    "duration": 19,
    "start_time": "2024-07-04T01:44:13.101Z"
   },
   {
    "duration": 13,
    "start_time": "2024-07-04T01:44:13.123Z"
   },
   {
    "duration": 16,
    "start_time": "2024-07-04T01:44:13.142Z"
   },
   {
    "duration": 10,
    "start_time": "2024-07-04T01:44:13.161Z"
   },
   {
    "duration": 16,
    "start_time": "2024-07-04T01:44:13.174Z"
   },
   {
    "duration": 14,
    "start_time": "2024-07-04T01:44:13.235Z"
   },
   {
    "duration": 9,
    "start_time": "2024-07-04T01:44:13.254Z"
   },
   {
    "duration": 9,
    "start_time": "2024-07-04T01:44:13.267Z"
   },
   {
    "duration": 59,
    "start_time": "2024-07-04T01:44:13.279Z"
   },
   {
    "duration": 19,
    "start_time": "2024-07-04T01:44:13.340Z"
   },
   {
    "duration": 30,
    "start_time": "2024-07-04T01:44:13.363Z"
   },
   {
    "duration": 121,
    "start_time": "2024-07-04T01:44:13.395Z"
   },
   {
    "duration": 8,
    "start_time": "2024-07-04T01:44:13.531Z"
   },
   {
    "duration": 600,
    "start_time": "2024-07-04T01:44:13.543Z"
   },
   {
    "duration": 9,
    "start_time": "2024-07-04T01:44:14.146Z"
   },
   {
    "duration": 116,
    "start_time": "2024-07-04T01:44:14.158Z"
   },
   {
    "duration": 141,
    "start_time": "2024-07-04T01:44:14.277Z"
   },
   {
    "duration": 15,
    "start_time": "2024-07-04T01:44:14.421Z"
   },
   {
    "duration": 119,
    "start_time": "2024-07-04T01:44:14.439Z"
   },
   {
    "duration": 15,
    "start_time": "2024-07-04T01:44:14.561Z"
   },
   {
    "duration": 2014,
    "start_time": "2024-07-04T01:44:14.580Z"
   },
   {
    "duration": 0,
    "start_time": "2024-07-04T01:44:16.598Z"
   },
   {
    "duration": 0,
    "start_time": "2024-07-04T01:44:16.602Z"
   },
   {
    "duration": 0,
    "start_time": "2024-07-04T01:44:16.604Z"
   },
   {
    "duration": 0,
    "start_time": "2024-07-04T01:44:16.606Z"
   },
   {
    "duration": 0,
    "start_time": "2024-07-04T01:44:16.607Z"
   },
   {
    "duration": 0,
    "start_time": "2024-07-04T01:44:16.629Z"
   },
   {
    "duration": 0,
    "start_time": "2024-07-04T01:44:16.639Z"
   },
   {
    "duration": 0,
    "start_time": "2024-07-04T01:44:16.641Z"
   },
   {
    "duration": 0,
    "start_time": "2024-07-04T01:44:16.644Z"
   },
   {
    "duration": 0,
    "start_time": "2024-07-04T01:44:16.646Z"
   },
   {
    "duration": 0,
    "start_time": "2024-07-04T01:44:16.649Z"
   },
   {
    "duration": 0,
    "start_time": "2024-07-04T01:44:16.651Z"
   },
   {
    "duration": 4,
    "start_time": "2024-07-04T03:07:19.209Z"
   },
   {
    "duration": 618,
    "start_time": "2024-07-04T03:07:19.218Z"
   },
   {
    "duration": 20,
    "start_time": "2024-07-04T03:07:19.839Z"
   },
   {
    "duration": 20,
    "start_time": "2024-07-04T03:07:19.862Z"
   },
   {
    "duration": 45,
    "start_time": "2024-07-04T03:07:19.887Z"
   },
   {
    "duration": 14,
    "start_time": "2024-07-04T03:07:19.936Z"
   },
   {
    "duration": 9,
    "start_time": "2024-07-04T03:07:19.954Z"
   },
   {
    "duration": 15,
    "start_time": "2024-07-04T03:07:19.966Z"
   },
   {
    "duration": 53,
    "start_time": "2024-07-04T03:07:19.985Z"
   },
   {
    "duration": 7,
    "start_time": "2024-07-04T03:07:20.040Z"
   },
   {
    "duration": 8,
    "start_time": "2024-07-04T03:07:20.051Z"
   },
   {
    "duration": 22,
    "start_time": "2024-07-04T03:07:20.062Z"
   },
   {
    "duration": 59,
    "start_time": "2024-07-04T03:07:20.087Z"
   },
   {
    "duration": 30,
    "start_time": "2024-07-04T03:07:20.153Z"
   },
   {
    "duration": 114,
    "start_time": "2024-07-04T03:07:20.185Z"
   },
   {
    "duration": 10,
    "start_time": "2024-07-04T03:07:20.302Z"
   },
   {
    "duration": 123,
    "start_time": "2024-07-04T03:07:20.314Z"
   },
   {
    "duration": 10,
    "start_time": "2024-07-04T03:07:20.441Z"
   },
   {
    "duration": 75,
    "start_time": "2024-07-04T03:07:20.457Z"
   },
   {
    "duration": 102,
    "start_time": "2024-07-04T03:07:20.535Z"
   },
   {
    "duration": 8,
    "start_time": "2024-07-04T03:07:20.640Z"
   },
   {
    "duration": 121,
    "start_time": "2024-07-04T03:07:20.651Z"
   },
   {
    "duration": 16,
    "start_time": "2024-07-04T03:07:20.775Z"
   },
   {
    "duration": 379,
    "start_time": "2024-07-04T03:07:20.794Z"
   },
   {
    "duration": 0,
    "start_time": "2024-07-04T03:07:21.176Z"
   },
   {
    "duration": 0,
    "start_time": "2024-07-04T03:07:21.178Z"
   },
   {
    "duration": 0,
    "start_time": "2024-07-04T03:07:21.179Z"
   },
   {
    "duration": 0,
    "start_time": "2024-07-04T03:07:21.181Z"
   },
   {
    "duration": 0,
    "start_time": "2024-07-04T03:07:21.184Z"
   },
   {
    "duration": 0,
    "start_time": "2024-07-04T03:07:21.186Z"
   },
   {
    "duration": 0,
    "start_time": "2024-07-04T03:07:21.188Z"
   },
   {
    "duration": 0,
    "start_time": "2024-07-04T03:07:21.191Z"
   },
   {
    "duration": 0,
    "start_time": "2024-07-04T03:07:21.193Z"
   },
   {
    "duration": 0,
    "start_time": "2024-07-04T03:07:21.230Z"
   },
   {
    "duration": 0,
    "start_time": "2024-07-04T03:07:21.232Z"
   },
   {
    "duration": 0,
    "start_time": "2024-07-04T03:07:21.234Z"
   },
   {
    "duration": 10,
    "start_time": "2024-07-04T03:13:55.776Z"
   },
   {
    "duration": 888,
    "start_time": "2024-07-04T03:19:28.426Z"
   },
   {
    "duration": 357,
    "start_time": "2024-07-04T03:20:17.400Z"
   },
   {
    "duration": 577,
    "start_time": "2024-07-04T03:20:20.881Z"
   },
   {
    "duration": 9,
    "start_time": "2024-07-04T03:20:28.511Z"
   },
   {
    "duration": 9,
    "start_time": "2024-07-04T03:20:28.758Z"
   },
   {
    "duration": 16,
    "start_time": "2024-07-04T03:20:35.086Z"
   },
   {
    "duration": 152,
    "start_time": "2024-07-04T03:20:35.521Z"
   },
   {
    "duration": 535,
    "start_time": "2024-07-04T03:21:46.567Z"
   },
   {
    "duration": 88,
    "start_time": "2024-07-04T03:21:50.277Z"
   },
   {
    "duration": 9,
    "start_time": "2024-07-04T03:22:57.541Z"
   },
   {
    "duration": 17,
    "start_time": "2024-07-04T03:22:58.561Z"
   },
   {
    "duration": 18,
    "start_time": "2024-07-04T03:23:07.943Z"
   },
   {
    "duration": 98,
    "start_time": "2024-07-04T03:23:44.943Z"
   },
   {
    "duration": 7,
    "start_time": "2024-07-04T03:24:25.834Z"
   },
   {
    "duration": 533,
    "start_time": "2024-07-04T03:24:43.758Z"
   },
   {
    "duration": 13,
    "start_time": "2024-07-04T03:25:16.652Z"
   },
   {
    "duration": 1421,
    "start_time": "2024-07-04T16:59:12.980Z"
   },
   {
    "duration": 605,
    "start_time": "2024-07-04T16:59:14.406Z"
   },
   {
    "duration": 18,
    "start_time": "2024-07-04T16:59:15.013Z"
   },
   {
    "duration": 20,
    "start_time": "2024-07-04T16:59:15.034Z"
   },
   {
    "duration": 44,
    "start_time": "2024-07-04T16:59:15.059Z"
   },
   {
    "duration": 16,
    "start_time": "2024-07-04T16:59:15.106Z"
   },
   {
    "duration": 12,
    "start_time": "2024-07-04T16:59:15.125Z"
   },
   {
    "duration": 16,
    "start_time": "2024-07-04T16:59:15.140Z"
   },
   {
    "duration": 13,
    "start_time": "2024-07-04T16:59:15.201Z"
   },
   {
    "duration": 7,
    "start_time": "2024-07-04T16:59:15.218Z"
   },
   {
    "duration": 7,
    "start_time": "2024-07-04T16:59:15.228Z"
   },
   {
    "duration": 21,
    "start_time": "2024-07-04T16:59:15.238Z"
   },
   {
    "duration": 57,
    "start_time": "2024-07-04T16:59:15.262Z"
   },
   {
    "duration": 30,
    "start_time": "2024-07-04T16:59:15.325Z"
   },
   {
    "duration": 120,
    "start_time": "2024-07-04T16:59:15.357Z"
   },
   {
    "duration": 21,
    "start_time": "2024-07-04T16:59:15.481Z"
   },
   {
    "duration": 12,
    "start_time": "2024-07-04T16:59:15.506Z"
   },
   {
    "duration": 637,
    "start_time": "2024-07-04T16:59:15.521Z"
   },
   {
    "duration": 9,
    "start_time": "2024-07-04T16:59:16.161Z"
   },
   {
    "duration": 88,
    "start_time": "2024-07-04T16:59:16.172Z"
   },
   {
    "duration": 100,
    "start_time": "2024-07-04T16:59:16.304Z"
   },
   {
    "duration": 14,
    "start_time": "2024-07-04T16:59:16.407Z"
   },
   {
    "duration": 125,
    "start_time": "2024-07-04T16:59:16.424Z"
   },
   {
    "duration": 15,
    "start_time": "2024-07-04T16:59:16.552Z"
   },
   {
    "duration": 948,
    "start_time": "2024-07-04T16:59:16.570Z"
   },
   {
    "duration": 624,
    "start_time": "2024-07-04T16:59:17.522Z"
   },
   {
    "duration": 10,
    "start_time": "2024-07-04T16:59:18.149Z"
   },
   {
    "duration": 9,
    "start_time": "2024-07-04T16:59:18.162Z"
   },
   {
    "duration": 43,
    "start_time": "2024-07-04T16:59:18.174Z"
   },
   {
    "duration": 573,
    "start_time": "2024-07-04T16:59:18.220Z"
   },
   {
    "duration": 9,
    "start_time": "2024-07-04T16:59:18.803Z"
   },
   {
    "duration": 18,
    "start_time": "2024-07-04T16:59:18.816Z"
   },
   {
    "duration": 22,
    "start_time": "2024-07-04T16:59:18.838Z"
   },
   {
    "duration": 2268,
    "start_time": "2024-07-04T16:59:18.863Z"
   },
   {
    "duration": 0,
    "start_time": "2024-07-04T16:59:21.135Z"
   },
   {
    "duration": 1,
    "start_time": "2024-07-04T16:59:21.137Z"
   },
   {
    "duration": 0,
    "start_time": "2024-07-04T16:59:21.139Z"
   },
   {
    "duration": 5020,
    "start_time": "2024-07-04T23:36:35.541Z"
   },
   {
    "duration": 568,
    "start_time": "2024-07-04T23:36:40.565Z"
   },
   {
    "duration": 18,
    "start_time": "2024-07-04T23:36:41.136Z"
   },
   {
    "duration": 20,
    "start_time": "2024-07-04T23:36:41.158Z"
   },
   {
    "duration": 28,
    "start_time": "2024-07-04T23:36:41.181Z"
   },
   {
    "duration": 15,
    "start_time": "2024-07-04T23:36:41.212Z"
   },
   {
    "duration": 11,
    "start_time": "2024-07-04T23:36:41.231Z"
   },
   {
    "duration": 16,
    "start_time": "2024-07-04T23:36:41.245Z"
   },
   {
    "duration": 14,
    "start_time": "2024-07-04T23:36:41.303Z"
   },
   {
    "duration": 7,
    "start_time": "2024-07-04T23:36:41.323Z"
   },
   {
    "duration": 7,
    "start_time": "2024-07-04T23:36:41.333Z"
   },
   {
    "duration": 65,
    "start_time": "2024-07-04T23:36:41.344Z"
   },
   {
    "duration": 21,
    "start_time": "2024-07-04T23:36:41.412Z"
   },
   {
    "duration": 30,
    "start_time": "2024-07-04T23:36:41.436Z"
   },
   {
    "duration": 116,
    "start_time": "2024-07-04T23:36:41.469Z"
   },
   {
    "duration": 21,
    "start_time": "2024-07-04T23:36:41.588Z"
   },
   {
    "duration": 10,
    "start_time": "2024-07-04T23:36:41.612Z"
   },
   {
    "duration": 645,
    "start_time": "2024-07-04T23:36:41.625Z"
   },
   {
    "duration": 9,
    "start_time": "2024-07-04T23:36:42.273Z"
   },
   {
    "duration": 116,
    "start_time": "2024-07-04T23:36:42.301Z"
   },
   {
    "duration": 99,
    "start_time": "2024-07-04T23:36:42.419Z"
   },
   {
    "duration": 8,
    "start_time": "2024-07-04T23:36:42.521Z"
   },
   {
    "duration": 147,
    "start_time": "2024-07-04T23:36:42.533Z"
   },
   {
    "duration": 28,
    "start_time": "2024-07-04T23:36:42.684Z"
   },
   {
    "duration": 924,
    "start_time": "2024-07-04T23:36:42.714Z"
   },
   {
    "duration": 695,
    "start_time": "2024-07-04T23:36:43.641Z"
   },
   {
    "duration": 10,
    "start_time": "2024-07-04T23:36:44.339Z"
   },
   {
    "duration": 8,
    "start_time": "2024-07-04T23:36:44.356Z"
   },
   {
    "duration": 47,
    "start_time": "2024-07-04T23:36:44.367Z"
   },
   {
    "duration": 578,
    "start_time": "2024-07-04T23:36:44.417Z"
   },
   {
    "duration": 9,
    "start_time": "2024-07-04T23:36:45.002Z"
   },
   {
    "duration": 15,
    "start_time": "2024-07-04T23:36:45.014Z"
   },
   {
    "duration": 18,
    "start_time": "2024-07-04T23:36:45.032Z"
   },
   {
    "duration": 2106,
    "start_time": "2024-07-04T23:36:45.053Z"
   },
   {
    "duration": 0,
    "start_time": "2024-07-04T23:36:47.162Z"
   },
   {
    "duration": 0,
    "start_time": "2024-07-04T23:36:47.164Z"
   },
   {
    "duration": 0,
    "start_time": "2024-07-04T23:36:47.166Z"
   },
   {
    "duration": 592,
    "start_time": "2024-07-04T23:37:24.354Z"
   }
  ],
  "kernelspec": {
   "display_name": "Python 3 (ipykernel)",
   "language": "python",
   "name": "python3"
  },
  "language_info": {
   "codemirror_mode": {
    "name": "ipython",
    "version": 3
   },
   "file_extension": ".py",
   "mimetype": "text/x-python",
   "name": "python",
   "nbconvert_exporter": "python",
   "pygments_lexer": "ipython3",
   "version": "3.10.11"
  },
  "toc": {
   "base_numbering": 1,
   "nav_menu": {},
   "number_sections": true,
   "sideBar": true,
   "skip_h1_title": true,
   "title_cell": "Table of Contents",
   "title_sidebar": "Contents",
   "toc_cell": false,
   "toc_position": {},
   "toc_section_display": true,
   "toc_window_display": false
  }
 },
 "nbformat": 4,
 "nbformat_minor": 2
}
