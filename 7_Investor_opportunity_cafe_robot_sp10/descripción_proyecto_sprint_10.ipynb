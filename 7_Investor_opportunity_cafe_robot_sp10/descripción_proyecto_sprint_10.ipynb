{
  "nbformat": 4,
  "nbformat_minor": 0,
  "metadata": {
    "colab": {
      "provenance": []
    },
    "kernelspec": {
      "name": "python3",
      "display_name": "Python 3"
    },
    "language_info": {
      "name": "python"
    }
  },
  "cells": [
    {
      "cell_type": "markdown",
      "source": [
        "# Descripción del proyecto\n",
        "Has decidido abrir un pequeño café regentado por robots en Los Ángeles. El proyecto es prometedor pero caro, así que tú y tus compañeros decidís intentar atraer inversionistas. Están interesados en las condiciones actuales del mercado, ¿serás capaz de mantener tu éxito cuando la novedad de los camareros robot desaparezca?\n",
        "\n",
        "Eres un gurú del análisis así que te han pedido que prepares un estudio de mercado. Tienes datos procedentes de fuentes abiertas sobre restaurantes en LA."
      ],
      "metadata": {
        "id": "ZkSsgHyNTIDi"
      }
    },
    {
      "cell_type": "markdown",
      "source": [
        "# Instrucciones para completar el proyecto\n"
      ],
      "metadata": {
        "id": "A_zGjzHbUgT1"
      }
    },
    {
      "cell_type": "markdown",
      "source": [
        "## Paso 1. Descarga los datos y prepáralos para el análisis\n",
        "\n",
        "Descarga los datos de los restaurantes en LA. Asegúrate de que el tipo de datos para cada columna es correcto y que no hay valores ausentes o duplicados. Procésalos si es necesario.\n",
        "\n",
        "Ruta de archivo: /datasets/rest_data_us_upd.csv. [Descargar dataset](https://practicum-content.s3.amazonaws.com/datasets/rest_data_us_upd.csv)"
      ],
      "metadata": {
        "id": "L77W7mQLUjv1"
      }
    },
    {
      "cell_type": "markdown",
      "source": [
        "## Paso 2. Análisis de datos\n",
        "\n",
        "- Investiga las proporciones de los distintos tipos de establecimientos. Traza un gráfico.\n",
        "- Investiga las proporciones de los establecimientos que pertenecen a una cadena y de los que no. Traza un gráfico.\n",
        "- ¿Qué tipo de establecimiento es habitualmente una cadena?\n",
        "- ¿Qué caracteriza a las cadenas: muchos establecimientos con un pequeño número de asientos o unos pocos establecimientos con un montón de asientos?\n",
        "- Determina el promedio de número de asientos para cada tipo de restaurante. De promedio, ¿qué tipo de restaurante tiene el mayor número de asientos? Traza gráficos.\n",
        "- Coloca los datos de los nombres de las calles de la columna address en una columna separada.\n",
        "- Traza un gráfico de las diez mejores calles por número de restaurantes.\n",
        "- Encuentra el número de calles que solo tienen un restaurante.\n",
        "- Para las calles con muchos restaurantes, analiza la distribución del número de asientos. ¿Qué tendencias puedes ver?\n",
        "- Llega a una conclusión y aporta recomendaciones sobre el tipo de restaurante y el número de asientos. Comenta la posibilidad de desarrollar una cadena."
      ],
      "metadata": {
        "id": "boPEAhygUvna"
      }
    },
    {
      "cell_type": "markdown",
      "source": [
        "## Paso 3. Preparar una presentación\n",
        "\n",
        "Prepara una presentación de tu investigación para compartir con el grupo de inversionistas. Puedes utilizar cualquier herramienta para crearla pero debes convertir tu presentación a formato PDF para la evaluación. Incluye un enlace a la presentación en una celda markdown en el siguiente formato:"
      ],
      "metadata": {
        "id": "jHPDZnohU7Yx"
      }
    },
    {
      "cell_type": "markdown",
      "source": [
        "Presentation: <enlace al almacenamiento en la nube>"
      ],
      "metadata": {
        "id": "VNSUFE-PVCJx"
      }
    },
    {
      "cell_type": "markdown",
      "source": [
        "Sigue las directrices de formato del capítulo \"Preparar presentaciones\".\n",
        "\n",
        "**Formato**: Completa el ejercicio en un Jupyter notebook. Inserta el código en las celdas code y las explicaciones de texto en las celdas markdown. Aplica formato y encabezados."
      ],
      "metadata": {
        "id": "2cOUBgzDVGcV"
      }
    },
    {
      "cell_type": "markdown",
      "source": [
        "## Descripción de datos\n",
        "\n",
        "**Tabla rest_data:**\n",
        "\n",
        "- object_name — nombre del establecimiento\n",
        "- chain — establecimiento que pertenece a una cadena (TRUE/FALSE)\n",
        "- object_type — tipo de establecimiento\n",
        "- address — dirección\n",
        "- number — número de asientos"
      ],
      "metadata": {
        "id": "zBXndHCtVOKD"
      }
    },
    {
      "cell_type": "markdown",
      "source": [
        "## ¿Cómo será evaluado mi proyecto?\n",
        "Tu proyecto se evaluará siguiendo estos criterios. Léelos cuidadosamente antes de empezar el proyecto.\n",
        "\n",
        "Esto es lo que buscan los revisores de proyecto cuando evalúan tu proyecto:\n",
        "\n",
        "- Cómo preparas los datos para el análisis\n",
        "- Qué tipos de gráficos trazas\n",
        "- Si eliges el tipo de gráfico correcto para los datos\n",
        "- Si utilizas la librería seaborn para trabajar con gráficos\n",
        "- Cómo interpretas los gráficos resultantes\n",
        "- Cómo calculas e interpretas cada parámetro\n",
        "- Si preparas una presentación estructurada\n",
        "- Si mantienes los principios dados en este curso para crear presentaciones\n",
        "- Cómo transmites el mensaje clave de tu presentación\n",
        "- Si sigues la estructura del proyecto y mantienes el código ordenado\n",
        "- Las conclusiones a las que llegas\n",
        "- Si dejas comentarios en cada paso"
      ],
      "metadata": {
        "id": "QAVlKICxVVwK"
      }
    },
    {
      "cell_type": "code",
      "execution_count": null,
      "metadata": {
        "id": "cihgdZ5DTBnx"
      },
      "outputs": [],
      "source": []
    },
    {
      "cell_type": "markdown",
      "source": [],
      "metadata": {
        "id": "UseUsmsaU7D4"
      }
    }
  ]
}