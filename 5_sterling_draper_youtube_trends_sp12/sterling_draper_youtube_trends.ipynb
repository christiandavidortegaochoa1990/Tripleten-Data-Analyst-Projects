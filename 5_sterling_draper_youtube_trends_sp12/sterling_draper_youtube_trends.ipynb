{
  "nbformat": 4,
  "nbformat_minor": 0,
  "metadata": {
    "colab": {
      "provenance": []
    },
    "kernelspec": {
      "name": "python3",
      "display_name": "Python 3"
    },
    "language_info": {
      "name": "python"
    }
  },
  "cells": [
    {
      "cell_type": "markdown",
      "source": [
        "# Parte 1. Reunir requisitos técnicos\n",
        "Trabajas como analista de vídeos publicitarios en la agencia de publicidad Sterling & Draper. Dedicas mucho tiempo a analizar tendencias de vídeos en YouTube para determinar qué contenido merece atención para la mercadotecnia.\n",
        "\n",
        "Cada video tiene una categoría específica (entretenimiento, música, noticias y política, etc.), una región y una fecha en que se hace tendencia.\n",
        "\n",
        "Un video puede estar en la sección de tendencias durante varios días seguidos.\n",
        "\n",
        "Cada semana, las nuevas empleadas Melanie y Ashok te preguntan esto:\n",
        "\n",
        "- ¿Qué categorías estaban en las tendencias de la semana pasada?\n",
        "- ¿Cómo se distribuyeron en diversas regiones?\n",
        "- ¿Qué categorías fueron particularmente populares en los Estados Unidos?\n",
        "\n",
        "En tu sexta semana en el trabajo, decides que ya es momento de que el proceso sea automático. Vas a crear un dashboard para Melanie y Ashok."
      ],
      "metadata": {
        "id": "XHJ9upl0as40"
      }
    },
    {
      "cell_type": "markdown",
      "source": [
        "### Pregunta\n",
        "\n",
        "1. ¿Qué pasos deben tomarse para diseñar y crear el dashboard?\n",
        "\n",
        "- Hablar con los administradores de la base de datos y preguntar qué datos recolectan. Entonces, trabajar con los ingenieros de datos para diseñar tablar de agregación y la estructura de tubería y esperar a que la desarrollen. Después de eso, crear el dashboard. Por último, anunciarles solemnemente a Melanie y Ashok que pueden analizar los datos por su cuenta.\n",
        "\n",
        "- Necesitas crear el código del dashboard de inmediato. Debe aceptar datos brutos directamente. Sin tablas de agregación ni pipelines. Así le ahorraremos tiempo a los ingenieros de datos. Cuando el dashboard esté listo, avisa a Melanie y Ashok.\n",
        "\n",
        "- Necesitas hablar con Melanie y Ashok para saber de dónde obtener los datos y en cuáles bases almacenar la información de agregación. Tú te encargarás de diseñar los elementos del dashboard. No se necesita hablar con los administradores de la base ni con los ingenieros, ellos no saben de problemas analíticos.\n",
        "\n",
        "- Necesitas hablar con Melanie y Ashok sobre los contenidos de los dashboards, su diseño y los datos que se deben presentar. Luego, habla con los administradores de la base de datos y los ingenieros para saber de dónde y cómo se recolectan los datos necesarios y cómo se pueden transformar. No olvides preguntarles dónde almacenar las tablas de agregación. Por último, crea el pipeline y el dashboard.\n",
        "\n",
        "¡Correcto! Primero hablamos con los gerentes sobre el borrador del dashboard y los requisitos técnicos. Luego, vamos con los administradores. El código es lo último."
      ],
      "metadata": {
        "id": "ezM_xnx3bWiu"
      }
    },
    {
      "cell_type": "markdown",
      "source": [
        "Después de hablar con los administradores de la base de datos, reuniste unos requisitos técnicos:\n",
        "\n",
        "- Objetivo de negocios: analizar el historial de tendencias de videos en YouTube\n",
        "- Con qué frecuencia se usará el dashboard: al menos una vez al día\n",
        "- Usuario objetivo del dashboard: gerentes de planificación de videos publicitarios\n",
        "- Contenido de los datos del dashboard:\n",
        "  1. Tendencias pasadas de videos, ordenadas por día y categoría\n",
        "  2. Tendencias de videos, ordenadas por país\n",
        "  3. Una tabla de correspondencia entre categorías y países"
      ],
      "metadata": {
        "id": "3jrHBfCGbv1u"
      }
    },
    {
      "cell_type": "markdown",
      "source": [
        "- Parámetros para agrupar los datos:\n",
        "  1. Fecha y hora de tendencia\n",
        "  2. Categoría de video\n",
        "  3. País"
      ],
      "metadata": {
        "id": "iU33Ln-kb3AL"
      }
    },
    {
      "cell_type": "markdown",
      "source": [
        "- Los datos:\n",
        "  1. Historial de tendencias — valores absolutos ordenados por día (dos gráficos: números absolutos y proporción de porcentaje)\n",
        "  2. Eventos, ordenados por país — valores relativos (% de eventos)\n",
        "  3. La correspondencia entre las categorías y los países — valores absolutos (una tabla)\n"
      ],
      "metadata": {
        "id": "SuWAvmlCcA1a"
      }
    },
    {
      "cell_type": "markdown",
      "source": [
        "- Importancia: todaos los gráficos son igualmente importantes\n",
        "- Fuentes de datos para el dashboard: los ingenieros prometieron crear una tabla de agregación llamada trending_by_time. Esta es la estructura:\n",
        "\n",
        "  1. record_id: la clave primaria\n",
        "  2. region: país/región geográfica\n",
        "  3. trending_date fecha y hora\n",
        "  4. category_title categoría del video\n",
        "  5. videos_count número de videos en la sección de tendencias"
      ],
      "metadata": {
        "id": "u5yI3RDOcKm0"
      }
    },
    {
      "cell_type": "markdown",
      "source": [
        "- La tabla está en la base de datos youtube, que se creó especialmente para tus necesidades.\n",
        "- Intervalo de actualización de los datos: una vez cada 24 horas, a la media noche UTC\n",
        "- Gráficos, controles de dashboard y su orden:\n",
        "\n",
        "![](https://practicum-content.s3.us-west-1.amazonaws.com/resources/moved_11.5.2ES_1655899599.png)"
      ],
      "metadata": {
        "id": "aiSElYmwcYrj"
      }
    },
    {
      "cell_type": "markdown",
      "source": [
        "# Parte 2. Crear el dashboard\n",
        "\n",
        "El filtro de fecha y hora y el de país debería modificar todos los gráficos del dashboard. Fíjate que los gráficos de historial de interacción \"Historial de tendencias\" e \"Historial de tendencias, %\" deben tener fecha y hora en el eje X.\n",
        "\"Historial de tendencias\" debería tener el número de videos en la sección de tendencias (el campo videos_count) en el eje Y y el otro gráfico debería tener el porcentaje ahí."
      ],
      "metadata": {
        "id": "v5ZNouZ2dJHm"
      }
    },
    {
      "cell_type": "markdown",
      "source": [
        "Para crear el dashboard, sigue los siguientes pasos:\n",
        "\n",
        "1. En Tableau Public, usa trending_by_time.csv (ve al final de esta página para descargarlo) para crear un dashboard modelado en el borrador."
      ],
      "metadata": {
        "id": "wlHS1X_QdVMR"
      }
    },
    {
      "cell_type": "markdown",
      "source": [
        "2. Publica el dashboard en el servidor de Tableau Public. Asegúrate de que todos puedan acceder a él; intenta abrirlo en varios navegadores. Si no se puede, el revisor no podrá hacer la revisión.\n",
        "\n",
        "3. Usa tu dashboard para responder a las preguntas que te hicieron:\n",
        "\n",
        "- ¿Qué categorías de videos estuvieron en tendencia más frecuentemente?\n",
        "- ¿Cómo se distribuyeron en las regiones?\n",
        "- ¿Qué categorías fueron particularmente populares en los Estados Unidos? ¿Hubo diferencias entre las categorías populares en Estados Unidos y en otros lugares?"
      ],
      "metadata": {
        "id": "lmbZP7sOd8uY"
      }
    },
    {
      "cell_type": "code",
      "execution_count": null,
      "metadata": {
        "id": "1oWsM0v29Lea"
      },
      "outputs": [],
      "source": []
    }
  ]
}